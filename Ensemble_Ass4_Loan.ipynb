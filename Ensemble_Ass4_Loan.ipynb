{
  "cells": [
    {
      "cell_type": "markdown",
      "metadata": {
        "id": "view-in-github",
        "colab_type": "text"
      },
      "source": [
        "<a href=\"https://colab.research.google.com/github/OmriMan/EnsembleLearning_EnsembleDiversity_Assignment4/blob/main/Ensemble_Ass4_Loan.ipynb\" target=\"_parent\"><img src=\"https://colab.research.google.com/assets/colab-badge.svg\" alt=\"Open In Colab\"/></a>"
      ]
    },
    {
      "cell_type": "markdown",
      "metadata": {
        "id": "8VSLHOlxr_Hd"
      },
      "source": [
        "Packages"
      ]
    },
    {
      "cell_type": "code",
      "execution_count": 1,
      "metadata": {
        "id": "z4IJV2H_rQBx"
      },
      "outputs": [],
      "source": [
        "import numpy as np  \n",
        "import pandas as pd  \n",
        "\n",
        "from sklearn.ensemble import RandomForestClassifier\n",
        "from sklearn.ensemble import ExtraTreesClassifier\n",
        "from matplotlib import pyplot as plt  \n",
        "from sklearn.tree import plot_tree \n",
        "\n",
        "from sklearn.model_selection import train_test_split\n",
        "\n",
        "from sklearn.metrics import accuracy_score\n",
        "\n",
        "from sklearn.metrics import precision_score\n",
        "\n",
        "import random\n",
        "\n",
        "from sklearn.model_selection import RandomizedSearchCV\n",
        "\n",
        "\n",
        "from sklearn.model_selection import cross_val_score\n",
        "from tabulate import tabulate"
      ]
    },
    {
      "cell_type": "markdown",
      "metadata": {
        "id": "s9OzR1WQsHTa"
      },
      "source": [
        "#Dataset Loan#\n",
        "Gender: Female = 1,Male = 0\n",
        "\n",
        "Married: No=0,Yes = 1\n",
        "\n",
        "Dependents: 1 , 2, '3+' = 3\n",
        "\n",
        "Education: Not Graduate=0,Graduate=1\n",
        "\n",
        "Self_Employed: Missing values ​​were replaced by '1' in the data set\n",
        "\n",
        "ApplicantIncome: Applicant Income - number\n",
        "\n",
        "CoapplicantIncome: Coapplicant Income  - number\n",
        "\n",
        "Loan Amount: number \n",
        "\n",
        "Loan_Amount_Term: Loan amount term in days, number  \n",
        "\n",
        "Credit_History: Applicant credit history, binary\n",
        "\n",
        "Property_Area: We did not use this feature\n",
        "\n",
        "Loan_Status: Yes = 1, No=0"
      ]
    },
    {
      "cell_type": "code",
      "execution_count": 2,
      "metadata": {
        "id": "J1w6Tt62sJr-"
      },
      "outputs": [],
      "source": [
        "def preprocess(df):\n",
        "    # Putting on index to each dataset before split it\n",
        "    # df = df.set_index(\"PassengerId\")\n",
        "    # Gender\n",
        "    change = {'Female':1,'Male':0}\n",
        "    df.Gender = df.Gender.map(change)\n",
        "    df['Gender'] = df['Gender'].replace(to_replace = np.nan, value = 0)\n",
        "\n",
        "    # Education\n",
        "    change = {'Not Graduate':0,'Yes':1}\n",
        "    df.Education = df.Education.map(change)\n",
        "    df['Education'] = df['Education'].replace(to_replace = np.nan, value =1)\n",
        "\n",
        "    # \tDependents\n",
        "    change = {'0':0,'1':1,'2':2,'3+':3,'+3':3}\n",
        "    df.Dependents = df.Dependents.map(change)\n",
        "\n",
        "\n",
        "    # Married\n",
        "    change = {'No':0,'Yes':1}\n",
        "    df.Married = df.Married.map(change)\n",
        "    # df['Married'] = df['Married'].replace(to_replace = np.nan, value =1)\n",
        "\n",
        "    #Self_Employed\n",
        "    df.Self_Employed = df.Self_Employed.map(change)\n",
        "    df['Self_Employed'] = df['Self_Employed'].replace(to_replace = np.nan, value =0)\n",
        "\n",
        "    #Loan_Status\n",
        "    change = {'N':0,'Y':1}\n",
        "    df.Loan_Status = df.Loan_Status.map(change)\n",
        "\n",
        "    # #ApplicantIncome\n",
        "    # df['ApplicantIncome'] = df['ApplicantIncome']/1000\n",
        "\n",
        "    # #CoapplicantIncome\n",
        "    # df['CoapplicantIncome'] = df['CoapplicantIncome']/1000\n",
        "\n",
        "    df = df.drop(columns=['Property_Area'])\n",
        "    return df"
      ]
    },
    {
      "cell_type": "markdown",
      "metadata": {
        "id": "A3zDhx-KsM2z"
      },
      "source": [
        "Load the data set"
      ]
    },
    {
      "cell_type": "code",
      "execution_count": 3,
      "metadata": {
        "id": "fiX1SZaJsOzx"
      },
      "outputs": [],
      "source": [
        "df = pd.read_csv('/content/sample_data/Loan.csv')\n",
        "df = preprocess(df)\n",
        "features = ['Gender',\t'Married',\t'Dependents',\t'Education',\t'Self_Employed',\t'ApplicantIncome',\t'CoapplicantIncome',\t'LoanAmount',\t'Loan_Amount_Term',\t'Credit_History']\n",
        "X = df.loc[:, features]\n",
        "y = df.loc[:, ['Loan_Status']]"
      ]
    },
    {
      "cell_type": "markdown",
      "metadata": {
        "id": "rhcKZOFrsQdo"
      },
      "source": [
        "Split the data into training and testin sets"
      ]
    },
    {
      "cell_type": "code",
      "execution_count": 3,
      "metadata": {
        "id": "rTwpTOWUsWMh"
      },
      "outputs": [],
      "source": []
    },
    {
      "cell_type": "code",
      "execution_count": 4,
      "metadata": {
        "colab": {
          "base_uri": "https://localhost:8080/"
        },
        "id": "v1Kh1mxhsQpP",
        "outputId": "518178ad-15ac-4e5c-e957-81b89086f46a"
      },
      "outputs": [
        {
          "output_type": "execute_result",
          "data": {
            "text/plain": [
              "Gender               1\n",
              "Married              0\n",
              "Dependents           0\n",
              "Education            0\n",
              "Self_Employed        9\n",
              "ApplicantIncome      0\n",
              "CoapplicantIncome    0\n",
              "LoanAmount           0\n",
              "Loan_Amount_Term     0\n",
              "Credit_History       0\n",
              "Property_Area        0\n",
              "Loan_Status          0\n",
              "dtype: int64"
            ]
          },
          "metadata": {},
          "execution_count": 4
        }
      ],
      "source": [
        "df = pd.read_csv('/content/sample_data/Loan.csv')\n",
        "df.isna().sum()"
      ]
    },
    {
      "cell_type": "code",
      "execution_count": 5,
      "metadata": {
        "colab": {
          "base_uri": "https://localhost:8080/",
          "height": 423
        },
        "id": "_qzrbFCKsW2V",
        "outputId": "86f19768-0573-4c3a-e1df-2ea91b1261c7"
      },
      "outputs": [
        {
          "output_type": "execute_result",
          "data": {
            "text/plain": [
              "      Gender  Married  Dependents  Education  Self_Employed  ApplicantIncome  \\\n",
              "158      0.0        0           0        1.0            0.0             2980   \n",
              "40       0.0        0           0        1.0            0.0             3600   \n",
              "757      1.0        1           0        1.0            0.0             3625   \n",
              "440      0.0        0           0        1.0            0.0             3660   \n",
              "927      1.0        1           0        1.0            0.0             2423   \n",
              "...      ...      ...         ...        ...            ...              ...   \n",
              "1033     1.0        1           0        1.0            1.0             2083   \n",
              "763      0.0        0           0        0.0            0.0             4885   \n",
              "835      1.0        0           1        1.0            0.0             3481   \n",
              "559      1.0        1           0        1.0            0.0             4180   \n",
              "684      0.0        1           0        1.0            0.0             9083   \n",
              "\n",
              "      CoapplicantIncome  LoanAmount  Loan_Amount_Term  Credit_History  \n",
              "158              2083.0         120               360               1  \n",
              "40                  0.0          80               360               1  \n",
              "757                 0.0         108               360               1  \n",
              "440              5064.0         187               360               1  \n",
              "927               505.0         130               360               1  \n",
              "...                 ...         ...               ...             ...  \n",
              "1033             4083.0         160               360               1  \n",
              "763                 0.0          48               360               1  \n",
              "835                 0.0         155                36               1  \n",
              "559              2306.0         182               360               1  \n",
              "684                 0.0         228               360               1  \n",
              "\n",
              "[789 rows x 10 columns]"
            ],
            "text/html": [
              "\n",
              "  <div id=\"df-794df642-f6dd-4cc0-afbb-08a07e9f8f66\">\n",
              "    <div class=\"colab-df-container\">\n",
              "      <div>\n",
              "<style scoped>\n",
              "    .dataframe tbody tr th:only-of-type {\n",
              "        vertical-align: middle;\n",
              "    }\n",
              "\n",
              "    .dataframe tbody tr th {\n",
              "        vertical-align: top;\n",
              "    }\n",
              "\n",
              "    .dataframe thead th {\n",
              "        text-align: right;\n",
              "    }\n",
              "</style>\n",
              "<table border=\"1\" class=\"dataframe\">\n",
              "  <thead>\n",
              "    <tr style=\"text-align: right;\">\n",
              "      <th></th>\n",
              "      <th>Gender</th>\n",
              "      <th>Married</th>\n",
              "      <th>Dependents</th>\n",
              "      <th>Education</th>\n",
              "      <th>Self_Employed</th>\n",
              "      <th>ApplicantIncome</th>\n",
              "      <th>CoapplicantIncome</th>\n",
              "      <th>LoanAmount</th>\n",
              "      <th>Loan_Amount_Term</th>\n",
              "      <th>Credit_History</th>\n",
              "    </tr>\n",
              "  </thead>\n",
              "  <tbody>\n",
              "    <tr>\n",
              "      <th>158</th>\n",
              "      <td>0.0</td>\n",
              "      <td>0</td>\n",
              "      <td>0</td>\n",
              "      <td>1.0</td>\n",
              "      <td>0.0</td>\n",
              "      <td>2980</td>\n",
              "      <td>2083.0</td>\n",
              "      <td>120</td>\n",
              "      <td>360</td>\n",
              "      <td>1</td>\n",
              "    </tr>\n",
              "    <tr>\n",
              "      <th>40</th>\n",
              "      <td>0.0</td>\n",
              "      <td>0</td>\n",
              "      <td>0</td>\n",
              "      <td>1.0</td>\n",
              "      <td>0.0</td>\n",
              "      <td>3600</td>\n",
              "      <td>0.0</td>\n",
              "      <td>80</td>\n",
              "      <td>360</td>\n",
              "      <td>1</td>\n",
              "    </tr>\n",
              "    <tr>\n",
              "      <th>757</th>\n",
              "      <td>1.0</td>\n",
              "      <td>1</td>\n",
              "      <td>0</td>\n",
              "      <td>1.0</td>\n",
              "      <td>0.0</td>\n",
              "      <td>3625</td>\n",
              "      <td>0.0</td>\n",
              "      <td>108</td>\n",
              "      <td>360</td>\n",
              "      <td>1</td>\n",
              "    </tr>\n",
              "    <tr>\n",
              "      <th>440</th>\n",
              "      <td>0.0</td>\n",
              "      <td>0</td>\n",
              "      <td>0</td>\n",
              "      <td>1.0</td>\n",
              "      <td>0.0</td>\n",
              "      <td>3660</td>\n",
              "      <td>5064.0</td>\n",
              "      <td>187</td>\n",
              "      <td>360</td>\n",
              "      <td>1</td>\n",
              "    </tr>\n",
              "    <tr>\n",
              "      <th>927</th>\n",
              "      <td>1.0</td>\n",
              "      <td>1</td>\n",
              "      <td>0</td>\n",
              "      <td>1.0</td>\n",
              "      <td>0.0</td>\n",
              "      <td>2423</td>\n",
              "      <td>505.0</td>\n",
              "      <td>130</td>\n",
              "      <td>360</td>\n",
              "      <td>1</td>\n",
              "    </tr>\n",
              "    <tr>\n",
              "      <th>...</th>\n",
              "      <td>...</td>\n",
              "      <td>...</td>\n",
              "      <td>...</td>\n",
              "      <td>...</td>\n",
              "      <td>...</td>\n",
              "      <td>...</td>\n",
              "      <td>...</td>\n",
              "      <td>...</td>\n",
              "      <td>...</td>\n",
              "      <td>...</td>\n",
              "    </tr>\n",
              "    <tr>\n",
              "      <th>1033</th>\n",
              "      <td>1.0</td>\n",
              "      <td>1</td>\n",
              "      <td>0</td>\n",
              "      <td>1.0</td>\n",
              "      <td>1.0</td>\n",
              "      <td>2083</td>\n",
              "      <td>4083.0</td>\n",
              "      <td>160</td>\n",
              "      <td>360</td>\n",
              "      <td>1</td>\n",
              "    </tr>\n",
              "    <tr>\n",
              "      <th>763</th>\n",
              "      <td>0.0</td>\n",
              "      <td>0</td>\n",
              "      <td>0</td>\n",
              "      <td>0.0</td>\n",
              "      <td>0.0</td>\n",
              "      <td>4885</td>\n",
              "      <td>0.0</td>\n",
              "      <td>48</td>\n",
              "      <td>360</td>\n",
              "      <td>1</td>\n",
              "    </tr>\n",
              "    <tr>\n",
              "      <th>835</th>\n",
              "      <td>1.0</td>\n",
              "      <td>0</td>\n",
              "      <td>1</td>\n",
              "      <td>1.0</td>\n",
              "      <td>0.0</td>\n",
              "      <td>3481</td>\n",
              "      <td>0.0</td>\n",
              "      <td>155</td>\n",
              "      <td>36</td>\n",
              "      <td>1</td>\n",
              "    </tr>\n",
              "    <tr>\n",
              "      <th>559</th>\n",
              "      <td>1.0</td>\n",
              "      <td>1</td>\n",
              "      <td>0</td>\n",
              "      <td>1.0</td>\n",
              "      <td>0.0</td>\n",
              "      <td>4180</td>\n",
              "      <td>2306.0</td>\n",
              "      <td>182</td>\n",
              "      <td>360</td>\n",
              "      <td>1</td>\n",
              "    </tr>\n",
              "    <tr>\n",
              "      <th>684</th>\n",
              "      <td>0.0</td>\n",
              "      <td>1</td>\n",
              "      <td>0</td>\n",
              "      <td>1.0</td>\n",
              "      <td>0.0</td>\n",
              "      <td>9083</td>\n",
              "      <td>0.0</td>\n",
              "      <td>228</td>\n",
              "      <td>360</td>\n",
              "      <td>1</td>\n",
              "    </tr>\n",
              "  </tbody>\n",
              "</table>\n",
              "<p>789 rows × 10 columns</p>\n",
              "</div>\n",
              "      <button class=\"colab-df-convert\" onclick=\"convertToInteractive('df-794df642-f6dd-4cc0-afbb-08a07e9f8f66')\"\n",
              "              title=\"Convert this dataframe to an interactive table.\"\n",
              "              style=\"display:none;\">\n",
              "        \n",
              "  <svg xmlns=\"http://www.w3.org/2000/svg\" height=\"24px\"viewBox=\"0 0 24 24\"\n",
              "       width=\"24px\">\n",
              "    <path d=\"M0 0h24v24H0V0z\" fill=\"none\"/>\n",
              "    <path d=\"M18.56 5.44l.94 2.06.94-2.06 2.06-.94-2.06-.94-.94-2.06-.94 2.06-2.06.94zm-11 1L8.5 8.5l.94-2.06 2.06-.94-2.06-.94L8.5 2.5l-.94 2.06-2.06.94zm10 10l.94 2.06.94-2.06 2.06-.94-2.06-.94-.94-2.06-.94 2.06-2.06.94z\"/><path d=\"M17.41 7.96l-1.37-1.37c-.4-.4-.92-.59-1.43-.59-.52 0-1.04.2-1.43.59L10.3 9.45l-7.72 7.72c-.78.78-.78 2.05 0 2.83L4 21.41c.39.39.9.59 1.41.59.51 0 1.02-.2 1.41-.59l7.78-7.78 2.81-2.81c.8-.78.8-2.07 0-2.86zM5.41 20L4 18.59l7.72-7.72 1.47 1.35L5.41 20z\"/>\n",
              "  </svg>\n",
              "      </button>\n",
              "      \n",
              "  <style>\n",
              "    .colab-df-container {\n",
              "      display:flex;\n",
              "      flex-wrap:wrap;\n",
              "      gap: 12px;\n",
              "    }\n",
              "\n",
              "    .colab-df-convert {\n",
              "      background-color: #E8F0FE;\n",
              "      border: none;\n",
              "      border-radius: 50%;\n",
              "      cursor: pointer;\n",
              "      display: none;\n",
              "      fill: #1967D2;\n",
              "      height: 32px;\n",
              "      padding: 0 0 0 0;\n",
              "      width: 32px;\n",
              "    }\n",
              "\n",
              "    .colab-df-convert:hover {\n",
              "      background-color: #E2EBFA;\n",
              "      box-shadow: 0px 1px 2px rgba(60, 64, 67, 0.3), 0px 1px 3px 1px rgba(60, 64, 67, 0.15);\n",
              "      fill: #174EA6;\n",
              "    }\n",
              "\n",
              "    [theme=dark] .colab-df-convert {\n",
              "      background-color: #3B4455;\n",
              "      fill: #D2E3FC;\n",
              "    }\n",
              "\n",
              "    [theme=dark] .colab-df-convert:hover {\n",
              "      background-color: #434B5C;\n",
              "      box-shadow: 0px 1px 3px 1px rgba(0, 0, 0, 0.15);\n",
              "      filter: drop-shadow(0px 1px 2px rgba(0, 0, 0, 0.3));\n",
              "      fill: #FFFFFF;\n",
              "    }\n",
              "  </style>\n",
              "\n",
              "      <script>\n",
              "        const buttonEl =\n",
              "          document.querySelector('#df-794df642-f6dd-4cc0-afbb-08a07e9f8f66 button.colab-df-convert');\n",
              "        buttonEl.style.display =\n",
              "          google.colab.kernel.accessAllowed ? 'block' : 'none';\n",
              "\n",
              "        async function convertToInteractive(key) {\n",
              "          const element = document.querySelector('#df-794df642-f6dd-4cc0-afbb-08a07e9f8f66');\n",
              "          const dataTable =\n",
              "            await google.colab.kernel.invokeFunction('convertToInteractive',\n",
              "                                                     [key], {});\n",
              "          if (!dataTable) return;\n",
              "\n",
              "          const docLinkHtml = 'Like what you see? Visit the ' +\n",
              "            '<a target=\"_blank\" href=https://colab.research.google.com/notebooks/data_table.ipynb>data table notebook</a>'\n",
              "            + ' to learn more about interactive tables.';\n",
              "          element.innerHTML = '';\n",
              "          dataTable['output_type'] = 'display_data';\n",
              "          await google.colab.output.renderOutput(dataTable, element);\n",
              "          const docLink = document.createElement('div');\n",
              "          docLink.innerHTML = docLinkHtml;\n",
              "          element.appendChild(docLink);\n",
              "        }\n",
              "      </script>\n",
              "    </div>\n",
              "  </div>\n",
              "  "
            ]
          },
          "metadata": {},
          "execution_count": 5
        }
      ],
      "source": [
        "X_train, X_test, y_train, y_test = train_test_split(X, y, random_state=0, train_size = .75)\n",
        "X_train"
      ]
    },
    {
      "cell_type": "code",
      "execution_count": 6,
      "metadata": {
        "colab": {
          "base_uri": "https://localhost:8080/"
        },
        "id": "er0pdf3usZob",
        "outputId": "57ce3be9-84dc-45f5-fd7e-33d2b1ad1f2a"
      },
      "outputs": [
        {
          "output_type": "execute_result",
          "data": {
            "text/plain": [
              "Gender               0\n",
              "Married              0\n",
              "Dependents           0\n",
              "Education            0\n",
              "Self_Employed        0\n",
              "ApplicantIncome      0\n",
              "CoapplicantIncome    0\n",
              "LoanAmount           0\n",
              "Loan_Amount_Term     0\n",
              "Credit_History       0\n",
              "dtype: int64"
            ]
          },
          "metadata": {},
          "execution_count": 6
        }
      ],
      "source": [
        "X_test.isna().sum()"
      ]
    },
    {
      "cell_type": "code",
      "execution_count": 7,
      "metadata": {
        "colab": {
          "base_uri": "https://localhost:8080/"
        },
        "id": "uelfhcKGsbxx",
        "outputId": "dc82cf3a-b02c-4c4a-91fe-177ef23c674b"
      },
      "outputs": [
        {
          "output_type": "execute_result",
          "data": {
            "text/plain": [
              "Gender               0\n",
              "Married              0\n",
              "Dependents           0\n",
              "Education            0\n",
              "Self_Employed        0\n",
              "ApplicantIncome      0\n",
              "CoapplicantIncome    0\n",
              "LoanAmount           0\n",
              "Loan_Amount_Term     0\n",
              "Credit_History       0\n",
              "dtype: int64"
            ]
          },
          "metadata": {},
          "execution_count": 7
        }
      ],
      "source": [
        "X_train.isna().sum()"
      ]
    },
    {
      "cell_type": "markdown",
      "metadata": {
        "id": "jiVWksANsfbt"
      },
      "source": [
        "#Target class distribution#"
      ]
    },
    {
      "cell_type": "code",
      "execution_count": 8,
      "metadata": {
        "colab": {
          "base_uri": "https://localhost:8080/"
        },
        "id": "twn_QGw_sg8l",
        "outputId": "8bf21a34-b6f0-4993-9f50-8ebd3bfc4130"
      },
      "outputs": [
        {
          "output_type": "execute_result",
          "data": {
            "text/plain": [
              "Y    729\n",
              "N    324\n",
              "Name: Loan_Status, dtype: int64"
            ]
          },
          "metadata": {},
          "execution_count": 8
        }
      ],
      "source": [
        "target = df['Loan_Status']\n",
        "target.value_counts()"
      ]
    },
    {
      "cell_type": "markdown",
      "metadata": {
        "id": "zOeiaQYCsjvn"
      },
      "source": [
        "#Define and train the models #"
      ]
    },
    {
      "cell_type": "markdown",
      "metadata": {
        "id": "Veo2rPE5spDB"
      },
      "source": [
        "Random Forest Classifier"
      ]
    },
    {
      "cell_type": "code",
      "execution_count": 9,
      "metadata": {
        "colab": {
          "base_uri": "https://localhost:8080/"
        },
        "id": "II534TP0ska3",
        "outputId": "f22bde3b-ac85-466f-95d1-90126c3045b8"
      },
      "outputs": [
        {
          "output_type": "execute_result",
          "data": {
            "text/plain": [
              "RandomForestClassifier()"
            ]
          },
          "metadata": {},
          "execution_count": 9
        }
      ],
      "source": [
        "model_rf = RandomForestClassifier(n_estimators=100)\n",
        "\n",
        "model_rf.fit(X_train,np.ravel(y_train))\n"
      ]
    },
    {
      "cell_type": "code",
      "execution_count": 10,
      "metadata": {
        "colab": {
          "base_uri": "https://localhost:8080/"
        },
        "id": "O_b0x2L7swRv",
        "outputId": "7f20f5db-c2d0-4960-98dc-c9a367cf301e"
      },
      "outputs": [
        {
          "output_type": "stream",
          "name": "stdout",
          "text": [
            "Accuracy score of RandomForestClassifier = 0.8863636363636364\n",
            "Precision score of RandomForestClassifier = 0.8850484006734007\n"
          ]
        }
      ],
      "source": [
        "inputs = pd.DataFrame(X_test)\n",
        "prediction_RandomForestClassifier = model_rf.predict(inputs)\n",
        "\n",
        "accuracy_RandomForestClassifier = accuracy_score(y_test,prediction_RandomForestClassifier)\n",
        "print(f\"Accuracy score of RandomForestClassifier = {accuracy_RandomForestClassifier}\")\n",
        "\n",
        "precision_RandomForestClassifier = precision_score(y_test,prediction_RandomForestClassifier,average='weighted')\n",
        "print(f\"Precision score of RandomForestClassifier = {precision_RandomForestClassifier}\")"
      ]
    },
    {
      "cell_type": "markdown",
      "metadata": {
        "id": "nCt1Lkfwszpz"
      },
      "source": [
        "Extremely Randomized Trees"
      ]
    },
    {
      "cell_type": "code",
      "execution_count": 11,
      "metadata": {
        "colab": {
          "base_uri": "https://localhost:8080/"
        },
        "id": "_ukGNQyhs0T5",
        "outputId": "0c295c68-19d4-4876-cf99-018988a30347"
      },
      "outputs": [
        {
          "output_type": "execute_result",
          "data": {
            "text/plain": [
              "ExtraTreesClassifier()"
            ]
          },
          "metadata": {},
          "execution_count": 11
        }
      ],
      "source": [
        "model_ExtraTreesClassifier = ExtraTreesClassifier(n_estimators=100)\n",
        "model_ExtraTreesClassifier.fit(X_train,np.ravel(y_train))"
      ]
    },
    {
      "cell_type": "code",
      "execution_count": 12,
      "metadata": {
        "colab": {
          "base_uri": "https://localhost:8080/"
        },
        "id": "gIkk4T6Ds5QO",
        "outputId": "e859013a-62ff-411b-c64b-089ddf00d7c0"
      },
      "outputs": [
        {
          "output_type": "stream",
          "name": "stdout",
          "text": [
            "Accuracy score of ExtraTreesClassifier = 0.875\n",
            "Precision score of ExtraTreesClassifier = 0.8732098765432098\n"
          ]
        }
      ],
      "source": [
        "inputs = pd.DataFrame(X_test)\n",
        "prediction_ExtraTreesClassifier = model_ExtraTreesClassifier.predict(inputs)\n",
        "accuracy_ExtraTreesClassifier = accuracy_score(y_test,prediction_ExtraTreesClassifier)\n",
        "print(f\"Accuracy score of ExtraTreesClassifier = {accuracy_ExtraTreesClassifier}\")\n",
        "\n",
        "precision_ExtraTreesClassifier = precision_score(y_test,prediction_ExtraTreesClassifier,average='weighted')\n",
        "print(f\"Precision score of ExtraTreesClassifier = {precision_ExtraTreesClassifier}\")"
      ]
    },
    {
      "cell_type": "markdown",
      "metadata": {
        "id": "7K1VJchIs9b3"
      },
      "source": [
        "Summary - Loan dataset"
      ]
    },
    {
      "cell_type": "code",
      "execution_count": 13,
      "metadata": {
        "colab": {
          "base_uri": "https://localhost:8080/"
        },
        "id": "HDevOpSrs9_0",
        "outputId": "0609fc43-1baf-4ffd-9e6f-814c52a76ab9"
      },
      "outputs": [
        {
          "output_type": "stream",
          "name": "stdout",
          "text": [
            "+----------------+--------------------------+------------------------+\n",
            "| Metric\\Model   |   RandomForestClassifier |   ExtraTreesClassifier |\n",
            "+================+==========================+========================+\n",
            "| Accuracy       |                 0.886364 |                0.875   |\n",
            "+----------------+--------------------------+------------------------+\n",
            "| Precision      |                 0.885048 |                0.87321 |\n",
            "+----------------+--------------------------+------------------------+\n"
          ]
        }
      ],
      "source": [
        "print(tabulate([[\"Accuracy\",accuracy_RandomForestClassifier,accuracy_ExtraTreesClassifier],[\"Precision\",precision_RandomForestClassifier,precision_ExtraTreesClassifier]], headers=[\"Metric\\Model\",\"RandomForestClassifier\",\"ExtraTreesClassifier\"], tablefmt=\"grid\"))"
      ]
    },
    {
      "cell_type": "markdown",
      "metadata": {
        "id": "1zZcC7DDGjA8"
      },
      "source": [
        "#Diversity measurements"
      ]
    },
    {
      "cell_type": "markdown",
      "metadata": {
        "id": "fxVvVksOFJ26"
      },
      "source": [
        "Double Fault Measure"
      ]
    },
    {
      "cell_type": "code",
      "execution_count": 14,
      "metadata": {
        "id": "bYteo9_bihcq"
      },
      "outputs": [],
      "source": [
        "inputs_train = pd.DataFrame(X_train)\n",
        "def DoubleFaultMeasure(s, set_of_classifiers):\n",
        "  train_set=s[0]\n",
        "  sum = 0\n",
        "  i_index = 0\n",
        "  predictions =[]\n",
        "  # For each classifier, insert all its predictions (depending on the index of x) into the list .\n",
        "  for classifier in set_of_classifiers:\n",
        "    preds = classifier.predict(train_set.values)\n",
        "    predictions.append((classifier,preds))\n",
        "  for i,model_i_predictions in predictions:\n",
        "    # i.fit(X_train,np.ravel(y_train))\n",
        "    # preds_i = i.predict(inputs_train.values)\n",
        "    for j,model_j_predictions in predictions[i_index:]:\n",
        "      num_of_instances = 0\n",
        "      if i != j: # if not the same tree\n",
        "        # preds_j = j.predict(inputs_train.values)\n",
        "        for k in range(len(np.ravel(y_train))):\n",
        "          if (model_i_predictions[k] != np.ravel(y_train)[k] and model_j_predictions[k] != np.ravel(y_train)[k]): # if both trees misclasified then add 1 to num of instances...\n",
        "            num_of_instances += 1\n",
        "\n",
        "        sum += num_of_instances\n",
        "    i_index += 1\n",
        "    # print(i_index)\n",
        "\n",
        "  res = (2*sum)/(len(train_set)*len(set_of_classifiers)*(len(set_of_classifiers)-1))\n",
        "  return res"
      ]
    },
    {
      "cell_type": "code",
      "execution_count": 15,
      "metadata": {
        "colab": {
          "base_uri": "https://localhost:8080/"
        },
        "id": "9_nfBnOeFM0s",
        "outputId": "de04774e-7a8b-4710-c710-85d308ed18cb"
      },
      "outputs": [
        {
          "output_type": "execute_result",
          "data": {
            "text/plain": [
              "0.009010510683514486"
            ]
          },
          "metadata": {},
          "execution_count": 15
        }
      ],
      "source": [
        "DoubleFaultMeasure((X_train,y_train),model_rf)"
      ]
    },
    {
      "cell_type": "code",
      "execution_count": 16,
      "metadata": {
        "id": "NA8R3AB5ijws"
      },
      "outputs": [],
      "source": [
        "# DoubleFaultMeasure_s((X_train,y_train),model_rf)"
      ]
    },
    {
      "cell_type": "markdown",
      "metadata": {
        "id": "fNB7MYfZFPFG"
      },
      "source": [
        "Kohavi Wolpert"
      ]
    },
    {
      "cell_type": "code",
      "execution_count": 17,
      "metadata": {
        "id": "WQ2ctxsZFPOj"
      },
      "outputs": [],
      "source": [
        "def kohavi_wolpert(s,m):\n",
        "  '''\n",
        "  s - the original training set tuple of (X_train,y_train) --> ((dataframe),((dataframe))\n",
        "  s[0] = x train\n",
        "  s[1] = y train\n",
        "  m - list of classifiers examined\n",
        "  '''\n",
        "  x = s[0]\n",
        "  y=s[1]\n",
        "  predictions =[]\n",
        "  sum =0\n",
        "  # For each classifier, insert all its predictions (depending on the index of x) into the list .\n",
        "  for classifier in m:\n",
        "    preds = classifier.predict(x.values)\n",
        "    predictions.append(preds)\n",
        "  # Run through all the records in the training set and for each record : count the number of classifiers that made an incorrect classification(misclassified)\n",
        "  l_i=0\n",
        "  for (index_x, x_i),(index_y, y_i),pred_index in zip(x.iterrows(),y.iterrows(),range(len(predictions[0]))):\n",
        "    l_i=0\n",
        "    for model_i_prediction in predictions:\n",
        "      # l_i = number of classifiers misclassified x_i,y_i\n",
        "      if model_i_prediction[pred_index] != y_i.values:\n",
        "        l_i+=1\n",
        "      #end sum all misclassification for x_i,y_i\n",
        "    #sum = sum + l_i * (len(m) - l_i)\n",
        "    sum = sum + ( l_i * ( len(m)-l_i ) ) \n",
        "  # print(f\"sum/(len(x)*(len(m)**2)) : {sum/(len(x)*(len(m)**2))}\")\n",
        "  return (sum) / ( len(y) * (len(m)**2) )\n"
      ]
    },
    {
      "cell_type": "code",
      "execution_count": 18,
      "metadata": {
        "colab": {
          "base_uri": "https://localhost:8080/"
        },
        "id": "PYukkIsBFYEo",
        "outputId": "a606e10d-11cf-4bd6-eaee-e8f825676b8e"
      },
      "outputs": [
        {
          "output_type": "execute_result",
          "data": {
            "text/plain": [
              "0.05322750316856781"
            ]
          },
          "metadata": {},
          "execution_count": 18
        }
      ],
      "source": [
        "kohavi_wolpert((X_train,y_train),model_rf.estimators_)"
      ]
    },
    {
      "cell_type": "markdown",
      "metadata": {
        "id": "94WgjqxgFaDU"
      },
      "source": [
        "Inter Rater Measure"
      ]
    },
    {
      "cell_type": "code",
      "execution_count": 19,
      "metadata": {
        "id": "94BwghYmFaME"
      },
      "outputs": [],
      "source": [
        "def inter_rater_measure(s,m):\n",
        "    '''\n",
        "    s - the original training set tuple of (X_train,y_train) --> ((dataframe),((dataframe))\n",
        "    s[0] = x train\n",
        "    s[1] = y train\n",
        "    m - list of classifiers examined\n",
        "    '''\n",
        "    x = s[0]\n",
        "    y=s[1]\n",
        "    predictions =[]\n",
        "    sum =0\n",
        "    # For each classifier, insert all its predictions (depending on the index of x) into the list .\n",
        "    for classifier in m:\n",
        "        preds = classifier.predict(x.values)\n",
        "        predictions.append(preds)\n",
        "    # Run through all the records in the training set and for each record : count the number of classifiers that made an incorrect classification(misclassified)\n",
        "    l=[]\n",
        "    for (index_x, x_i),(index_y, y_i),pred_index in zip(x.iterrows(),y.iterrows(),range(len(predictions[0]))):\n",
        "        l_i=0\n",
        "        for model_i_prediction in predictions:\n",
        "            # l_i = number of classifiers misclassified x_i,y_i\n",
        "            if model_i_prediction[pred_index] != y_i.values:\n",
        "                l_i+=1\n",
        "            #end sum all misclassification for x_i,y_i\n",
        "        l.append(l_i)\n",
        "        #sum = sum + l_i * (len(m) - l_i)\n",
        "        sum = sum + ( l_i * ( len(m) - l_i) )\n",
        "    # p = 1 - ( sum(l) / (|s| *|m|) )\n",
        "    sum_l=0\n",
        "    for val in l:\n",
        "        sum_l+=val\n",
        "    p = 1 - ( sum_l / (len(x)*len(m)) )\n",
        "    if p==1:\n",
        "        return 1\n",
        "    result = 1 - (sum / ( len(x)*len(m)*(len(m)-1)*p*(1-p)  ) )\n",
        "    return result"
      ]
    },
    {
      "cell_type": "code",
      "execution_count": 20,
      "metadata": {
        "colab": {
          "base_uri": "https://localhost:8080/"
        },
        "id": "M3F58L8hFhYx",
        "outputId": "2fe7fba8-6d51-4e91-d5e2-a18449f302ad"
      },
      "outputs": [
        {
          "output_type": "execute_result",
          "data": {
            "text/plain": [
              "0.08616872186971136"
            ]
          },
          "metadata": {},
          "execution_count": 20
        }
      ],
      "source": [
        "inter_rater_measure((X_train,y_train),model_rf.estimators_)"
      ]
    },
    {
      "cell_type": "markdown",
      "metadata": {
        "id": "PNmpGLt7FjQc"
      },
      "source": [
        "General Diversity"
      ]
    },
    {
      "cell_type": "code",
      "execution_count": 21,
      "metadata": {
        "id": "J5I5EIruFjZy"
      },
      "outputs": [],
      "source": [
        "import statistics\n",
        "def general_diversity(s,m):\n",
        "  '''\n",
        "  s - the original training set tuple of (X_train,y_train) --> ((dataframe),((dataframe))\n",
        "  s[0] = x train\n",
        "  s[1] = y train\n",
        "  m - list of classifiers examined\n",
        "  '''\n",
        "  x = s[0]\n",
        "  y=s[1]\n",
        "  predictions =[]\n",
        "  # For each classifier, insert all its predictions (depending on the index of x) into the list .\n",
        "  for classifier in m:\n",
        "    preds = classifier.predict(x.values)\n",
        "    predictions.append(preds)\n",
        "  # Run through all the records in the training set and for each record : count the number of classifiers that made an incorrect classification(misclassified)\n",
        "  v=[]\n",
        "  for (index_x, x_i),(index_y, y_i),pred_index in zip(x.iterrows(),y.iterrows(),range(len(predictions[0]))):\n",
        "    l_i=0\n",
        "    for model_i_prediction in predictions:\n",
        "      # l_i = number of classifiers misclassified x_i,y_i\n",
        "      if model_i_prediction[pred_index] != y_i.values:\n",
        "        l_i+=1\n",
        "      #end sum all misclassification for x_i,y_i\n",
        "    v_i= (len(m)-l_i) / len(m)\n",
        "    v.append(v_i)\n",
        "  # end of run through all the records in the training set and for each record : count the number of classifiers that made an incorrect classification(misclassified)\n",
        "  # compute variance of v using statistics.variance\n",
        "  variance_v = statistics.variance(v)\n",
        "  return variance_v"
      ]
    },
    {
      "cell_type": "code",
      "execution_count": 22,
      "metadata": {
        "colab": {
          "base_uri": "https://localhost:8080/"
        },
        "id": "Zl1uCw-tFuRv",
        "outputId": "3064bd64-b5d2-4abd-bf3e-cb51c7439391"
      },
      "outputs": [
        {
          "output_type": "execute_result",
          "data": {
            "text/plain": [
              "0.005614494026365057"
            ]
          },
          "metadata": {},
          "execution_count": 22
        }
      ],
      "source": [
        "general_diversity((X_train,y_train),model_rf.estimators_)"
      ]
    },
    {
      "cell_type": "markdown",
      "metadata": {
        "id": "o9K7zBd1GcRa"
      },
      "source": [
        "# Bagging using diversity"
      ]
    },
    {
      "cell_type": "code",
      "execution_count": 23,
      "metadata": {
        "id": "hJ2x_QllF-Lp"
      },
      "outputs": [],
      "source": [
        "from sklearn.metrics import classification_report, confusion_matrix\n",
        "from functools import reduce\n",
        "\n",
        "def bagging_using_Diversity(i,t,s,d):\n",
        "  '''\n",
        "  i - a base inducer\n",
        "  t - number of iterations\n",
        "  s - the original training set\n",
        "  d- diversity measure - { \"\"  :kohavi_wolpert , \"\" :inter_rater_measure ,\"general diversity\": general_diversity }\n",
        "  '''\n",
        "  diversity_measure = {\"Double Fault Measure\": DoubleFaultMeasure, \"kohavi wolpert\"  :kohavi_wolpert , \"inter rater measure\" :inter_rater_measure ,\"general diversity\": general_diversity }\n",
        "  m_ts =[]\n",
        "  #m_ts - list of tuples - each tuple in the following format : (model,number_of_misclassifieds)\n",
        "  # m_ts --> [(model1,number_of_misclassifieds1),(model2,number_of_misclassifieds2),...,(model_t,number_of_misclassifieds_t)]\n",
        "  for iter in range(t):\n",
        "    s_tag = s.sample(frac = 1)\n",
        "    m_t = i.estimators_[iter]\n",
        "    x = s_tag.loc[:, features]\n",
        "    y = s_tag.loc[:, ['Loan_Status']]\n",
        "    preds = m_t.predict(x.values)\n",
        "    # confusion_matrix(y,preds) - [[ture_positive, false_positive][false_neg,true_neg]]\n",
        "    number_of_misclassifieds = confusion_matrix(y,preds)[0][1] + confusion_matrix(y,preds)[1][0]\n",
        "    m_ts.append((m_t,number_of_misclassifieds))\n",
        "  # end of rows 1-3\n",
        "  x = s.loc[:, features]\n",
        "  y = s.loc[:, ['Loan_Status']]\n",
        "  # 5\n",
        "  m_tag=[]\n",
        "  # use reduce() and min() to find the minimum value in the second element of each tuple\n",
        "  min_misclassifields = reduce(lambda x, y: min(x, y[1]), m_ts, float(\"inf\"))\n",
        "  # Find an element (model,number_of_misclassifieds) in m_ts(list of tuples).\n",
        "  m_tags_optinals = [item for item in m_ts if item[1] == min_misclassifields]\n",
        "  # m_tags_optinals - list of tuples [(model1,min_misclassifields),...]\n",
        "  m_tag.append(m_tags_optinals[0][0])\n",
        "  m_ts.remove(m_tags_optinals[0])\n",
        "  # 6\n",
        "  for i in range(1,int((t/2)-1)):\n",
        "    results_of_d =[]\n",
        "    # results_of_d - list of tuples - each tuple in the following format : (model,diversity measure value)\n",
        "    if (d==\"Double Fault Measure\" or d==\"kohavi wolpert\" or d==\"general diversity\"):\n",
        "      # need to take the model that return maximum diversity measure\n",
        "      print(i)\n",
        "      for temp_model,number_of_misclassifieds in m_ts:\n",
        "        # m_tag_only_models = [tup[0] for tup in m_tag]\n",
        "        results_of_d.append( (temp_model, diversity_measure[d]((x,y),m_tag+[temp_model])) )\n",
        "      # need to find maximum value of diversity measure\n",
        "      # use reduce() and min() to find the minimum value in the second element of each tuple\n",
        "      # results_of_d[0] = (model,diversity measure value)\n",
        "      max_d = reduce(lambda x, y: max(x, y[1]), results_of_d, float(\"-inf\"))\n",
        "      # Find an element (model,diversity measure value) in results_of_d(list of tuples).\n",
        "      m_tags_optinals = [item for item in  results_of_d if item[1] == max_d]\n",
        "      # m_tags_optinals[0] = (model,diversity measure value), e.g: (DecisionTreeClassifier(max_features='auto', random_state=1913246406), 0.014287578288100209)\n",
        "      # m_tags_optinals[0][0] - temp_model\n",
        "      # m_tags_optinals[0][1] - maximum diversity measure value , and its for m_tag with temp_model\n",
        "      # we want to add only the model to m_tag so we add m_tags_optinals[0][0]\n",
        "      m_tag.append(m_tags_optinals[0][0])\n",
        "      # need to find m_tags_optinals[0][0] (the model) in m_ts and remove it from m_ts\n",
        "      model_num_of_mis_tuple_to_remove_from_m_ts = [item for item in m_ts if item[0] == m_tags_optinals[0][0]]\n",
        "      m_ts.remove(model_num_of_mis_tuple_to_remove_from_m_ts[0])\n",
        "    else:\n",
        "      # need to take the model that return minimum diversity measure\n",
        "      print(i)\n",
        "      for temp_model,number_of_misclassifieds in m_ts:\n",
        "        # m_tag_only_models = [tup[0] for tup in m_tag]\n",
        "        results_of_d.append( (temp_model, diversity_measure[d]((x,y),m_tag+[temp_model])) )\n",
        "      # need to find maximum value of diversity measure\n",
        "      # use reduce() and min() to find the minimum value in the second element of each tuple\n",
        "      # results_of_d[0] = (model,diversity measure value)\n",
        "      min_d = reduce(lambda x, y: min(x, y[1]), results_of_d, float(\"inf\"))\n",
        "      # Find an element (model,diversity measure value) in results_of_d(list of tuples).\n",
        "      m_tags_optinals = [item for item in  results_of_d if item[1] == min_d]\n",
        "      # m_tags_optinals[0] = (model,diversity measure value), e.g: (DecisionTreeClassifier(max_features='auto', random_state=1913246406), 0.014287578288100209)\n",
        "      # m_tags_optinals[0][0] - temp_model\n",
        "      # m_tags_optinals[0][1] - minimum diversity measure value , and its for m_tag with temp_model\n",
        "      # we want to add only the model to m_tag so we add m_tags_optinals[0][0]\n",
        "      m_tag.append(m_tags_optinals[0][0])\n",
        "      # need to find m_tags_optinals[0][0] (the model) in m_ts and remove it from m_ts\n",
        "      model_num_of_mis_tuple_to_remove_from_m_ts = [item for item in m_ts if item[0] == m_tags_optinals[0][0]]\n",
        "      m_ts.remove(model_num_of_mis_tuple_to_remove_from_m_ts[0])\n",
        "\n",
        "  return m_tag"
      ]
    },
    {
      "cell_type": "code",
      "execution_count": 24,
      "metadata": {
        "id": "hEKEfpl7FzBp"
      },
      "outputs": [],
      "source": [
        "train_set_x_and_y = X_train.loc[:, features]\n",
        "train_set_x_and_y['Loan_Status'] = y_train['Loan_Status']"
      ]
    },
    {
      "cell_type": "code",
      "execution_count": 25,
      "metadata": {
        "id": "cOoqUHP0FzmR"
      },
      "outputs": [],
      "source": [
        "# train_set_x_and_y"
      ]
    },
    {
      "cell_type": "code",
      "execution_count": 26,
      "metadata": {
        "id": "U3JB-VZKF-_m"
      },
      "outputs": [],
      "source": [
        "# models = bagging_using_Diversity(model_rf,100,train_set_x_and_y,\"kohavi wolpert\")"
      ]
    },
    {
      "cell_type": "markdown",
      "metadata": {
        "id": "Y_In4gWrw1OX"
      },
      "source": [
        "#Base inducer - Random Forest"
      ]
    },
    {
      "cell_type": "code",
      "execution_count": 27,
      "metadata": {
        "id": "Vcgw8hbfchax"
      },
      "outputs": [],
      "source": [
        "# RandomForestClassifier_bagging_using_Diversity_Double_Fault_Measure = model_rf\n",
        "# RandomForestClassifier_bagging_using_Diversity_kohavi_wolpert = model_rf\n",
        "# RandomForestClassifier_bagging_using_Diversity_inter_rater_measure = model_rf\n",
        "# RandomForestClassifier_bagging_using_Diversity_general_diversity = model_rf"
      ]
    },
    {
      "cell_type": "code",
      "execution_count": 28,
      "metadata": {
        "id": "x1mcXpSq1GA_"
      },
      "outputs": [],
      "source": [
        "from copy import deepcopy"
      ]
    },
    {
      "cell_type": "code",
      "execution_count": 29,
      "metadata": {
        "id": "67RxLZvf1GA_"
      },
      "outputs": [],
      "source": [
        "RandomForestClassifier_bagging_using_Diversity_Double_Fault_Measure = deepcopy(model_rf)"
      ]
    },
    {
      "cell_type": "code",
      "execution_count": 30,
      "metadata": {
        "id": "1WahsY3q1GBA"
      },
      "outputs": [],
      "source": [
        "RandomForestClassifier_bagging_using_Diversity_kohavi_wolpert = deepcopy(model_rf)"
      ]
    },
    {
      "cell_type": "code",
      "execution_count": 31,
      "metadata": {
        "id": "FsUxORWa1GBA"
      },
      "outputs": [],
      "source": [
        "RandomForestClassifier_bagging_using_Diversity_inter_rater_measure = deepcopy(model_rf)"
      ]
    },
    {
      "cell_type": "code",
      "execution_count": 32,
      "metadata": {
        "id": "yFONPtow1GBA"
      },
      "outputs": [],
      "source": [
        "RandomForestClassifier_bagging_using_Diversity_general_diversity = deepcopy(model_rf)"
      ]
    },
    {
      "cell_type": "markdown",
      "metadata": {
        "id": "TlVPfCz9ciNo"
      },
      "source": [
        "Kohavi Wolpert"
      ]
    },
    {
      "cell_type": "code",
      "execution_count": 33,
      "metadata": {
        "colab": {
          "base_uri": "https://localhost:8080/"
        },
        "id": "mCcAIm5QciUL",
        "outputId": "69b0308d-a7fc-489b-c1ea-8af570bcc2cd"
      },
      "outputs": [
        {
          "output_type": "stream",
          "name": "stdout",
          "text": [
            "1\n",
            "2\n",
            "3\n",
            "4\n",
            "5\n",
            "6\n",
            "7\n",
            "8\n",
            "9\n",
            "10\n",
            "11\n",
            "12\n",
            "13\n",
            "14\n",
            "15\n",
            "16\n",
            "17\n",
            "18\n",
            "19\n",
            "20\n",
            "21\n",
            "22\n",
            "23\n",
            "24\n",
            "25\n",
            "26\n",
            "27\n",
            "28\n",
            "29\n",
            "30\n",
            "31\n",
            "32\n",
            "33\n",
            "34\n",
            "35\n",
            "36\n",
            "37\n",
            "38\n",
            "39\n",
            "40\n",
            "41\n",
            "42\n",
            "43\n",
            "44\n",
            "45\n",
            "46\n",
            "47\n",
            "48\n"
          ]
        }
      ],
      "source": [
        "models_RandomForestClassifier_bagging_using_Diversity_kohavi_wolpert = bagging_using_Diversity(RandomForestClassifier_bagging_using_Diversity_kohavi_wolpert,RandomForestClassifier_bagging_using_Diversity_kohavi_wolpert.n_estimators,deepcopy(train_set_x_and_y),\"kohavi wolpert\")"
      ]
    },
    {
      "cell_type": "code",
      "execution_count": 34,
      "metadata": {
        "colab": {
          "base_uri": "https://localhost:8080/"
        },
        "id": "7EM2w5CA1GBB",
        "outputId": "0f74c5b7-bc1f-4937-8123-d48d32b4da33"
      },
      "outputs": [
        {
          "output_type": "execute_result",
          "data": {
            "text/plain": [
              "array([0.89873418, 0.92405063, 0.90506329, 0.88607595, 0.84076433])"
            ]
          },
          "metadata": {},
          "execution_count": 34
        }
      ],
      "source": [
        "RandomForestClassifier_bagging_using_Diversity_kohavi_wolpert.estimators_ = models_RandomForestClassifier_bagging_using_Diversity_kohavi_wolpert\n",
        "scores = cross_val_score(RandomForestClassifier_bagging_using_Diversity_kohavi_wolpert, deepcopy(X_train.loc[:, features]), deepcopy(y_train['Loan_Status']).values, cv=5)\n",
        "scores"
      ]
    },
    {
      "cell_type": "code",
      "execution_count": 35,
      "metadata": {
        "colab": {
          "base_uri": "https://localhost:8080/"
        },
        "id": "eXX9LAWwckt-",
        "outputId": "96075e34-ab2c-47e1-a7b3-045d641dec1c"
      },
      "outputs": [
        {
          "output_type": "stream",
          "name": "stdout",
          "text": [
            "Random Forest Classifier - bagging using diversity kohavi-wolpert\n",
            "Accuracy score of RandomForestClassifier using diversity kohavi-wolpert = 0.8825757575757576\n",
            "Precision score of RandomForestClassifier using diversity kohavi-wolpert = 0.8812408917312953\n"
          ]
        }
      ],
      "source": [
        "# RandomForestClassifier_bagging_using_Diversity_kohavi_wolpert.estimators_ = models_RandomForestClassifier_bagging_using_Diversity_kohavi_wolpert\n",
        "print(\"Random Forest Classifier - bagging using diversity kohavi-wolpert\")\n",
        "inputs = pd.DataFrame(X_test)\n",
        "prediction_RandomForestClassifier_bagging_using_Diversity_kohavi_wolpert = RandomForestClassifier_bagging_using_Diversity_kohavi_wolpert.predict(inputs)\n",
        "accuracy_RandomForestClassifier_bagging_using_Diversity_kohavi_wolpert = accuracy_score(y_test,prediction_RandomForestClassifier_bagging_using_Diversity_kohavi_wolpert)\n",
        "print(f\"Accuracy score of RandomForestClassifier using diversity kohavi-wolpert = {accuracy_RandomForestClassifier_bagging_using_Diversity_kohavi_wolpert}\")\n",
        "\n",
        "precision_RandomForestClassifier_bagging_using_Diversity_kohavi_wolpert = precision_score(y_test,prediction_RandomForestClassifier_bagging_using_Diversity_kohavi_wolpert,average='weighted')\n",
        "print(f\"Precision score of RandomForestClassifier using diversity kohavi-wolpert = {precision_RandomForestClassifier_bagging_using_Diversity_kohavi_wolpert}\")"
      ]
    },
    {
      "cell_type": "code",
      "execution_count": 36,
      "metadata": {
        "colab": {
          "base_uri": "https://localhost:8080/"
        },
        "id": "sya3BUGn1GBC",
        "outputId": "79e0bb58-8be8-4497-f5b2-27cc1cd13ff8"
      },
      "outputs": [
        {
          "output_type": "stream",
          "name": "stdout",
          "text": [
            "100\n"
          ]
        }
      ],
      "source": [
        "print(RandomForestClassifier_bagging_using_Diversity_inter_rater_measure.n_estimators)"
      ]
    },
    {
      "cell_type": "code",
      "execution_count": 37,
      "metadata": {
        "colab": {
          "base_uri": "https://localhost:8080/"
        },
        "id": "zBw134r71GBC",
        "outputId": "1d5b630f-3af2-42f8-f737-b779e9af0930"
      },
      "outputs": [
        {
          "output_type": "stream",
          "name": "stdout",
          "text": [
            "100\n",
            "100\n"
          ]
        }
      ],
      "source": [
        "print(len(RandomForestClassifier_bagging_using_Diversity_inter_rater_measure.estimators_))\n",
        "print(len(model_rf.estimators_))"
      ]
    },
    {
      "cell_type": "markdown",
      "metadata": {
        "id": "9F-4TedPck7c"
      },
      "source": [
        "Inter Rater Measure"
      ]
    },
    {
      "cell_type": "code",
      "execution_count": 38,
      "metadata": {
        "colab": {
          "base_uri": "https://localhost:8080/"
        },
        "id": "F3UPtnvnclPE",
        "outputId": "de2e9880-2be6-4a91-d022-a58a46e9c2de"
      },
      "outputs": [
        {
          "output_type": "stream",
          "name": "stdout",
          "text": [
            "1\n",
            "2\n",
            "3\n",
            "4\n",
            "5\n",
            "6\n",
            "7\n",
            "8\n",
            "9\n",
            "10\n",
            "11\n",
            "12\n",
            "13\n",
            "14\n",
            "15\n",
            "16\n",
            "17\n",
            "18\n",
            "19\n",
            "20\n",
            "21\n",
            "22\n",
            "23\n",
            "24\n",
            "25\n",
            "26\n",
            "27\n",
            "28\n",
            "29\n",
            "30\n",
            "31\n",
            "32\n",
            "33\n",
            "34\n",
            "35\n",
            "36\n",
            "37\n",
            "38\n",
            "39\n",
            "40\n",
            "41\n",
            "42\n",
            "43\n",
            "44\n",
            "45\n",
            "46\n",
            "47\n",
            "48\n"
          ]
        }
      ],
      "source": [
        "models_RandomForestClassifier_bagging_using_Diversity_inter_rater_measure = bagging_using_Diversity(RandomForestClassifier_bagging_using_Diversity_inter_rater_measure,RandomForestClassifier_bagging_using_Diversity_inter_rater_measure.n_estimators,deepcopy(train_set_x_and_y),\"inter rater measure\")"
      ]
    },
    {
      "cell_type": "code",
      "execution_count": 39,
      "metadata": {
        "colab": {
          "base_uri": "https://localhost:8080/"
        },
        "id": "qdU3tvit1GBD",
        "outputId": "b6456208-50a9-4eb0-ecd5-6e9c88581a72"
      },
      "outputs": [
        {
          "output_type": "execute_result",
          "data": {
            "text/plain": [
              "array([0.91772152, 0.93037975, 0.91139241, 0.89240506, 0.85987261])"
            ]
          },
          "metadata": {},
          "execution_count": 39
        }
      ],
      "source": [
        "RandomForestClassifier_bagging_using_Diversity_inter_rater_measure.estimators_ = models_RandomForestClassifier_bagging_using_Diversity_inter_rater_measure\n",
        "scores_RandomForestClassifier_bagging_using_Diversity_inter_rater_measure = cross_val_score(RandomForestClassifier_bagging_using_Diversity_inter_rater_measure, deepcopy(X_train.loc[:, features]), deepcopy(y_train['Loan_Status']).values, cv=5)\n",
        "scores_RandomForestClassifier_bagging_using_Diversity_inter_rater_measure"
      ]
    },
    {
      "cell_type": "code",
      "execution_count": 40,
      "metadata": {
        "colab": {
          "base_uri": "https://localhost:8080/"
        },
        "id": "AeVlMUYecwh2",
        "outputId": "9d4eb19d-25fa-4bfc-f0b1-bbb1c1275fa7"
      },
      "outputs": [
        {
          "output_type": "stream",
          "name": "stdout",
          "text": [
            "Random Forest Classifier - bagging using diversity Inter-Rater-Measure\n",
            "Accuracy score of RandomForestClassifier using diversity Inter-Rater-Measure = 0.8825757575757576\n",
            "Precision score of RandomForestClassifier using diversity Inter-Rater-Measure = 0.8812408917312953\n"
          ]
        }
      ],
      "source": [
        "# RandomForestClassifier_bagging_using_Diversity_inter_rater_measure.estimators_ = models_RandomForestClassifier_bagging_using_Diversity_inter_rater_measure\n",
        "print(\"Random Forest Classifier - bagging using diversity Inter-Rater-Measure\")\n",
        "inputs = pd.DataFrame(X_test)\n",
        "prediction_RandomForestClassifier_bagging_using_Diversity_inter_rater_measure = RandomForestClassifier_bagging_using_Diversity_inter_rater_measure.predict(inputs)\n",
        "accuracy_RandomForestClassifier_bagging_using_Diversity_inter_rater_measure = accuracy_score(y_test,prediction_RandomForestClassifier_bagging_using_Diversity_inter_rater_measure)\n",
        "print(f\"Accuracy score of RandomForestClassifier using diversity Inter-Rater-Measure = {accuracy_RandomForestClassifier_bagging_using_Diversity_inter_rater_measure}\")\n",
        "\n",
        "precision_RandomForestClassifier_bagging_using_Diversity_inter_rater_measure = precision_score(y_test,prediction_RandomForestClassifier_bagging_using_Diversity_inter_rater_measure,average='weighted')\n",
        "print(f\"Precision score of RandomForestClassifier using diversity Inter-Rater-Measure = {precision_RandomForestClassifier_bagging_using_Diversity_inter_rater_measure}\")"
      ]
    },
    {
      "cell_type": "markdown",
      "metadata": {
        "id": "RT5dis9Scwuo"
      },
      "source": [
        "General Diversity"
      ]
    },
    {
      "cell_type": "code",
      "execution_count": 41,
      "metadata": {
        "colab": {
          "base_uri": "https://localhost:8080/"
        },
        "id": "x_Ri6aOScw6j",
        "outputId": "f8c79209-2a3b-4d9a-fd7c-d4c61c9e8d74"
      },
      "outputs": [
        {
          "output_type": "stream",
          "name": "stdout",
          "text": [
            "1\n",
            "2\n",
            "3\n",
            "4\n",
            "5\n",
            "6\n",
            "7\n",
            "8\n",
            "9\n",
            "10\n",
            "11\n",
            "12\n",
            "13\n",
            "14\n",
            "15\n",
            "16\n",
            "17\n",
            "18\n",
            "19\n",
            "20\n",
            "21\n",
            "22\n",
            "23\n",
            "24\n",
            "25\n",
            "26\n",
            "27\n",
            "28\n",
            "29\n",
            "30\n",
            "31\n",
            "32\n",
            "33\n",
            "34\n",
            "35\n",
            "36\n",
            "37\n",
            "38\n",
            "39\n",
            "40\n",
            "41\n",
            "42\n",
            "43\n",
            "44\n",
            "45\n",
            "46\n",
            "47\n",
            "48\n"
          ]
        }
      ],
      "source": [
        "models_RandomForestClassifier_bagging_using_Diversity_general_diversity = bagging_using_Diversity(RandomForestClassifier_bagging_using_Diversity_general_diversity,RandomForestClassifier_bagging_using_Diversity_general_diversity.n_estimators,deepcopy(train_set_x_and_y),\"general diversity\")"
      ]
    },
    {
      "cell_type": "code",
      "execution_count": 42,
      "metadata": {
        "colab": {
          "base_uri": "https://localhost:8080/"
        },
        "id": "1_vT3oj31GBF",
        "outputId": "7361d8a6-95d7-4539-86c1-0f51960ae5a7"
      },
      "outputs": [
        {
          "output_type": "execute_result",
          "data": {
            "text/plain": [
              "array([0.90506329, 0.93037975, 0.93670886, 0.89240506, 0.85350318])"
            ]
          },
          "metadata": {},
          "execution_count": 42
        }
      ],
      "source": [
        "RandomForestClassifier_bagging_using_Diversity_general_diversity.estimators_ = models_RandomForestClassifier_bagging_using_Diversity_general_diversity\n",
        "scores_RandomForestClassifier_bagging_using_Diversity_general_diversity = cross_val_score(RandomForestClassifier_bagging_using_Diversity_general_diversity, deepcopy(X_train.loc[:, features]), deepcopy(y_train['Loan_Status']).values, cv=5)\n",
        "scores_RandomForestClassifier_bagging_using_Diversity_general_diversity"
      ]
    },
    {
      "cell_type": "code",
      "execution_count": 43,
      "metadata": {
        "colab": {
          "base_uri": "https://localhost:8080/"
        },
        "id": "WWeORNjsc4w_",
        "outputId": "ec447c6d-44e6-49c1-b8a2-ebd8afffd0a5"
      },
      "outputs": [
        {
          "output_type": "stream",
          "name": "stdout",
          "text": [
            "Random Forest Classifier - bagging using diversity General Diversity\n",
            "Accuracy score of RandomForestClassifier using diversity General Diversity = 0.8901515151515151\n",
            "Precision score of RandomForestClassifier using diversity General Diversity = 0.8888727698704031\n"
          ]
        }
      ],
      "source": [
        "# RandomForestClassifier_bagging_using_Diversity_general_diversity.estimators_ = models_RandomForestClassifier_bagging_using_Diversity_general_diversity\n",
        "print(\"Random Forest Classifier - bagging using diversity General Diversity\")\n",
        "inputs = pd.DataFrame(X_test)\n",
        "prediction_RandomForestClassifier_bagging_using_Diversity_general_diversity = RandomForestClassifier_bagging_using_Diversity_general_diversity.predict(inputs)\n",
        "accuracy_RandomForestClassifier_bagging_using_Diversity_general_diversity = accuracy_score(y_test,prediction_RandomForestClassifier_bagging_using_Diversity_general_diversity)\n",
        "print(f\"Accuracy score of RandomForestClassifier using diversity General Diversity = {accuracy_RandomForestClassifier_bagging_using_Diversity_general_diversity}\")\n",
        "\n",
        "precision_RandomForestClassifier_bagging_using_Diversity_general_diversity = precision_score(y_test,prediction_RandomForestClassifier_bagging_using_Diversity_general_diversity,average='weighted')\n",
        "print(f\"Precision score of RandomForestClassifier using diversity General Diversity = {precision_RandomForestClassifier_bagging_using_Diversity_general_diversity}\")"
      ]
    },
    {
      "cell_type": "markdown",
      "metadata": {
        "id": "Sf5TBV6rc48M"
      },
      "source": [
        "Double Fault Measure"
      ]
    },
    {
      "cell_type": "code",
      "execution_count": 44,
      "metadata": {
        "colab": {
          "base_uri": "https://localhost:8080/"
        },
        "id": "DZqXe1KFc5JF",
        "outputId": "37072289-b578-437e-a9e6-d81c65bc277f"
      },
      "outputs": [
        {
          "output_type": "stream",
          "name": "stdout",
          "text": [
            "1\n",
            "2\n",
            "3\n",
            "4\n",
            "5\n",
            "6\n",
            "7\n",
            "8\n",
            "9\n",
            "10\n",
            "11\n",
            "12\n",
            "13\n",
            "14\n",
            "15\n",
            "16\n",
            "17\n",
            "18\n",
            "19\n",
            "20\n",
            "21\n",
            "22\n",
            "23\n",
            "24\n",
            "25\n",
            "26\n",
            "27\n",
            "28\n",
            "29\n",
            "30\n",
            "31\n",
            "32\n",
            "33\n",
            "34\n",
            "35\n",
            "36\n",
            "37\n",
            "38\n",
            "39\n",
            "40\n",
            "41\n",
            "42\n",
            "43\n",
            "44\n",
            "45\n",
            "46\n",
            "47\n",
            "48\n"
          ]
        }
      ],
      "source": [
        "models_RandomForestClassifier_bagging_using_Diversity_Double_Fault_Measure = bagging_using_Diversity(RandomForestClassifier_bagging_using_Diversity_Double_Fault_Measure,RandomForestClassifier_bagging_using_Diversity_Double_Fault_Measure.n_estimators,deepcopy(train_set_x_and_y),\"Double Fault Measure\")"
      ]
    },
    {
      "cell_type": "code",
      "execution_count": 45,
      "metadata": {
        "colab": {
          "base_uri": "https://localhost:8080/"
        },
        "id": "7mPkczz81GBG",
        "outputId": "66506d4e-a044-4a77-e915-0e8f7993b96c"
      },
      "outputs": [
        {
          "output_type": "execute_result",
          "data": {
            "text/plain": [
              "array([0.90506329, 0.93037975, 0.92405063, 0.88607595, 0.85350318])"
            ]
          },
          "metadata": {},
          "execution_count": 45
        }
      ],
      "source": [
        "RandomForestClassifier_bagging_using_Diversity_Double_Fault_Measure.estimators_ = models_RandomForestClassifier_bagging_using_Diversity_Double_Fault_Measure\n",
        "scores_RandomForestClassifier_bagging_using_Diversity_Double_Fault_Measure = cross_val_score(RandomForestClassifier_bagging_using_Diversity_Double_Fault_Measure, deepcopy(X_train.loc[:, features]), deepcopy(y_train['Loan_Status']).values, cv=5)\n",
        "scores_RandomForestClassifier_bagging_using_Diversity_Double_Fault_Measure"
      ]
    },
    {
      "cell_type": "code",
      "execution_count": 46,
      "metadata": {
        "colab": {
          "base_uri": "https://localhost:8080/"
        },
        "id": "U7I4g3Q8c_YO",
        "outputId": "f98ef02f-7691-47d6-d8b9-421aa25353d3"
      },
      "outputs": [
        {
          "output_type": "stream",
          "name": "stdout",
          "text": [
            "Random Forest Classifier - bagging using diversity Double Fault Measure\n",
            "Accuracy score of RandomForestClassifier using diversity Double Fault Measure = 0.8863636363636364\n",
            "Precision score of RandomForestClassifier using diversity Double Fault Measure = 0.8850484006734007\n"
          ]
        }
      ],
      "source": [
        "# RandomForestClassifier_bagging_using_Diversity_Double_Fault_Measure.estimators_ = models_RandomForestClassifier_bagging_using_Diversity_Double_Fault_Measure\n",
        "print(\"Random Forest Classifier - bagging using diversity Double Fault Measure\")\n",
        "inputs = pd.DataFrame(X_test)\n",
        "prediction_RandomForestClassifier_bagging_using_Diversity_Double_Fault_Measure = RandomForestClassifier_bagging_using_Diversity_Double_Fault_Measure.predict(inputs)\n",
        "accuracy_RandomForestClassifier_bagging_using_Diversity_Double_Fault_Measure = accuracy_score(y_test,prediction_RandomForestClassifier_bagging_using_Diversity_Double_Fault_Measure)\n",
        "print(f\"Accuracy score of RandomForestClassifier using diversity Double Fault Measure = {accuracy_RandomForestClassifier_bagging_using_Diversity_Double_Fault_Measure}\")\n",
        "\n",
        "precision_RandomForestClassifier_bagging_using_Diversity_Double_Fault_Measure = precision_score(y_test,prediction_RandomForestClassifier_bagging_using_Diversity_Double_Fault_Measure,average='weighted')\n",
        "print(f\"Precision score of RandomForestClassifier using diversity Double Fault Measure = {precision_RandomForestClassifier_bagging_using_Diversity_Double_Fault_Measure}\")"
      ]
    },
    {
      "cell_type": "markdown",
      "metadata": {
        "id": "19GdRQVbdVON"
      },
      "source": [
        "# Summary - Base inducer - Random Forest"
      ]
    },
    {
      "cell_type": "code",
      "execution_count": 47,
      "metadata": {
        "id": "wg-8czgHdWdF"
      },
      "outputs": [],
      "source": [
        "# print(tabulate([[\"Accuracy\",accuracy_RandomForestClassifier,\n",
        "#                  accuracy_RandomForestClassifier_bagging_using_Diversity_kohavi_wolpert,\n",
        "#                  accuracy_RandomForestClassifier_bagging_using_Diversity_inter_rater_measure,\n",
        "#                  accuracy_RandomForestClassifier_bagging_using_Diversity_general_diversity],\n",
        "#                 [\"Precision\",precision_RandomForestClassifier,\n",
        "#                  precision_RandomForestClassifier_bagging_using_Diversity_kohavi_wolpert,\n",
        "#                  precision_RandomForestClassifier_bagging_using_Diversity_inter_rater_measure,\n",
        "#                  precision_RandomForestClassifier_bagging_using_Diversity_general_diversity]],\n",
        "#                headers=[\"Metric\\Model\",\"RandomForestClassifier\",\n",
        "#                         \"Random Forest-\\nbagging using diversity\\nkohavi-wolpert\",\n",
        "#                         \"Random Forest-\\nbagging using diversity\\nInter-Rater-Measure\",\n",
        "#                         \"Random Forest-\\nbagging using diversity\\nGeneral Diversity\"], tablefmt=\"grid\"))"
      ]
    },
    {
      "cell_type": "code",
      "execution_count": 48,
      "metadata": {
        "colab": {
          "base_uri": "https://localhost:8080/"
        },
        "id": "WOzRWA4u1nNo",
        "outputId": "d9437b64-9af3-4879-e812-44ae643a17ee"
      },
      "outputs": [
        {
          "output_type": "stream",
          "name": "stdout",
          "text": [
            "+----------------+--------------------------+---------------------------+---------------------------+---------------------------+---------------------------+\n",
            "| Metric\\Model   |   RandomForestClassifier |            Random Forest- |            Random Forest- |            Random Forest- |            Random Forest- |\n",
            "|                |                          |   bagging using diversity |   bagging using diversity |   bagging using diversity |   bagging using diversity |\n",
            "|                |                          |            kohavi-wolpert |       Inter-Rater-Measure |         General Diversity |      Double Fault Measure |\n",
            "+================+==========================+===========================+===========================+===========================+===========================+\n",
            "| Accuracy       |                 0.886364 |                  0.882576 |                  0.882576 |                  0.890152 |                  0.886364 |\n",
            "+----------------+--------------------------+---------------------------+---------------------------+---------------------------+---------------------------+\n",
            "| Precision      |                 0.885048 |                  0.881241 |                  0.881241 |                  0.888873 |                  0.885048 |\n",
            "+----------------+--------------------------+---------------------------+---------------------------+---------------------------+---------------------------+\n"
          ]
        }
      ],
      "source": [
        "print(tabulate([[\"Accuracy\",accuracy_RandomForestClassifier,\n",
        "                 accuracy_RandomForestClassifier_bagging_using_Diversity_kohavi_wolpert,\n",
        "                 accuracy_RandomForestClassifier_bagging_using_Diversity_inter_rater_measure,\n",
        "                 accuracy_RandomForestClassifier_bagging_using_Diversity_general_diversity,\n",
        "                 accuracy_RandomForestClassifier_bagging_using_Diversity_Double_Fault_Measure],\n",
        "                [\"Precision\",precision_RandomForestClassifier,\n",
        "                 precision_RandomForestClassifier_bagging_using_Diversity_kohavi_wolpert,\n",
        "                 precision_RandomForestClassifier_bagging_using_Diversity_inter_rater_measure,\n",
        "                 precision_RandomForestClassifier_bagging_using_Diversity_general_diversity,\n",
        "                 precision_RandomForestClassifier_bagging_using_Diversity_Double_Fault_Measure]],\n",
        "               headers=[\"Metric\\Model\",\"RandomForestClassifier\",\n",
        "                        \"Random Forest-\\nbagging using diversity\\nkohavi-wolpert\",\n",
        "                        \"Random Forest-\\nbagging using diversity\\nInter-Rater-Measure\",\n",
        "                        \"Random Forest-\\nbagging using diversity\\nGeneral Diversity\",\n",
        "                        \"Random Forest-\\nbagging using diversity\\nDouble Fault Measure\"], tablefmt=\"grid\"))"
      ]
    },
    {
      "cell_type": "markdown",
      "metadata": {
        "id": "CXgv0jOtwsyS"
      },
      "source": [
        "# Base inducer - Extra Trees"
      ]
    },
    {
      "cell_type": "code",
      "execution_count": 49,
      "metadata": {
        "id": "eppiZsy8ws-Q"
      },
      "outputs": [],
      "source": [
        "# ExtraTrees_Double_Fault = deepcopy(model_ExtraTreesClassifier)\n",
        "# ExtraTrees_kohavi_wolpert = deepcopy(model_ExtraTreesClassifier)\n",
        "# ExtraTrees_inter_rater = deepcopy(model_ExtraTreesClassifier)\n",
        "# ExtraTrees_general_diversity = deepcopy(model_ExtraTreesClassifier)"
      ]
    },
    {
      "cell_type": "code",
      "execution_count": 50,
      "metadata": {
        "id": "PTuPOC501GBI"
      },
      "outputs": [],
      "source": [
        "ExtraTrees_Double_Fault = deepcopy(model_ExtraTreesClassifier)"
      ]
    },
    {
      "cell_type": "code",
      "execution_count": 51,
      "metadata": {
        "id": "XzHX4Z221GBJ"
      },
      "outputs": [],
      "source": [
        "ExtraTrees_kohavi_wolpert = deepcopy(model_ExtraTreesClassifier)"
      ]
    },
    {
      "cell_type": "code",
      "execution_count": 52,
      "metadata": {
        "id": "zhgUZ3qN1GBJ"
      },
      "outputs": [],
      "source": [
        "ExtraTrees_inter_rater = deepcopy(model_ExtraTreesClassifier)"
      ]
    },
    {
      "cell_type": "code",
      "execution_count": 53,
      "metadata": {
        "id": "eR1F8ujH1GBJ"
      },
      "outputs": [],
      "source": [
        "ExtraTrees_general_diversity = deepcopy(model_ExtraTreesClassifier)"
      ]
    },
    {
      "cell_type": "markdown",
      "metadata": {
        "id": "d6QVY_bWxyQG"
      },
      "source": [
        "Kohavi Wolpert"
      ]
    },
    {
      "cell_type": "code",
      "execution_count": 54,
      "metadata": {
        "colab": {
          "base_uri": "https://localhost:8080/"
        },
        "id": "OrJ35JjDxyZO",
        "outputId": "d0802754-8dab-4e42-b2db-fc998d52fa85"
      },
      "outputs": [
        {
          "output_type": "stream",
          "name": "stdout",
          "text": [
            "1\n",
            "2\n",
            "3\n",
            "4\n",
            "5\n",
            "6\n",
            "7\n",
            "8\n",
            "9\n",
            "10\n",
            "11\n",
            "12\n",
            "13\n",
            "14\n",
            "15\n",
            "16\n",
            "17\n",
            "18\n",
            "19\n",
            "20\n",
            "21\n",
            "22\n",
            "23\n",
            "24\n",
            "25\n",
            "26\n",
            "27\n",
            "28\n",
            "29\n",
            "30\n",
            "31\n",
            "32\n",
            "33\n",
            "34\n",
            "35\n",
            "36\n",
            "37\n",
            "38\n",
            "39\n",
            "40\n",
            "41\n",
            "42\n",
            "43\n",
            "44\n",
            "45\n",
            "46\n",
            "47\n",
            "48\n"
          ]
        }
      ],
      "source": [
        "models_ExtraTrees_kohavi_wolpert = bagging_using_Diversity(ExtraTrees_kohavi_wolpert,ExtraTrees_kohavi_wolpert.n_estimators,deepcopy(train_set_x_and_y),\"kohavi wolpert\")"
      ]
    },
    {
      "cell_type": "code",
      "execution_count": 55,
      "metadata": {
        "colab": {
          "base_uri": "https://localhost:8080/"
        },
        "id": "mIDvu9iV1GBK",
        "outputId": "784d26ac-aa16-4032-9398-81ee71e0420c"
      },
      "outputs": [
        {
          "output_type": "execute_result",
          "data": {
            "text/plain": [
              "array([0.90506329, 0.93037975, 0.87341772, 0.87974684, 0.81528662])"
            ]
          },
          "metadata": {},
          "execution_count": 55
        }
      ],
      "source": [
        "ExtraTrees_kohavi_wolpert.estimators_ = models_ExtraTrees_kohavi_wolpert\n",
        "scores_ExtraTrees_kohavi_wolpert = cross_val_score(ExtraTrees_kohavi_wolpert, deepcopy(X_train.loc[:, features]), deepcopy(y_train['Loan_Status']).values, cv=5)\n",
        "scores_ExtraTrees_kohavi_wolpert"
      ]
    },
    {
      "cell_type": "code",
      "execution_count": 56,
      "metadata": {
        "colab": {
          "base_uri": "https://localhost:8080/"
        },
        "id": "iRQ1ahWjyGlE",
        "outputId": "5a7f9094-febb-4446-bdbc-c92275689768"
      },
      "outputs": [
        {
          "output_type": "stream",
          "name": "stdout",
          "text": [
            "Extra Trees Classifier - bagging using diversity kohavi-wolpert\n",
            "Accuracy score of Extra Trees using diversity kohavi-wolpert = 0.875\n",
            "Precision score of Extra Trees using diversity kohavi-wolpert = 0.8732098765432098\n"
          ]
        }
      ],
      "source": [
        "# ExtraTrees_kohavi_wolpert.estimators_ = models_ExtraTrees_kohavi_wolpert\n",
        "print(\"Extra Trees Classifier - bagging using diversity kohavi-wolpert\")\n",
        "inputs = pd.DataFrame(X_test)\n",
        "prediction_ExtraTrees_kohavi_wolpert = ExtraTrees_kohavi_wolpert.predict(inputs)\n",
        "accuracy_ExtraTrees_kohavi_wolpert = accuracy_score(y_test,prediction_ExtraTrees_kohavi_wolpert)\n",
        "print(f\"Accuracy score of Extra Trees using diversity kohavi-wolpert = {accuracy_ExtraTrees_kohavi_wolpert}\")\n",
        "\n",
        "precision_ExtraTrees_kohavi_wolpert = precision_score(y_test,prediction_ExtraTrees_kohavi_wolpert,average='weighted')\n",
        "print(f\"Precision score of Extra Trees using diversity kohavi-wolpert = {precision_ExtraTrees_kohavi_wolpert}\")"
      ]
    },
    {
      "cell_type": "markdown",
      "metadata": {
        "id": "4Pozuta_zEFz"
      },
      "source": [
        "Inter Rater measure"
      ]
    },
    {
      "cell_type": "code",
      "execution_count": 57,
      "metadata": {
        "colab": {
          "base_uri": "https://localhost:8080/"
        },
        "id": "o03jVvhdzEzu",
        "outputId": "bf970650-6d62-4c97-9c53-606b46536d91"
      },
      "outputs": [
        {
          "output_type": "stream",
          "name": "stdout",
          "text": [
            "1\n",
            "2\n",
            "3\n",
            "4\n",
            "5\n",
            "6\n",
            "7\n",
            "8\n",
            "9\n",
            "10\n",
            "11\n",
            "12\n",
            "13\n",
            "14\n",
            "15\n",
            "16\n",
            "17\n",
            "18\n",
            "19\n",
            "20\n",
            "21\n",
            "22\n",
            "23\n",
            "24\n",
            "25\n",
            "26\n",
            "27\n",
            "28\n",
            "29\n",
            "30\n",
            "31\n",
            "32\n",
            "33\n",
            "34\n",
            "35\n",
            "36\n",
            "37\n",
            "38\n",
            "39\n",
            "40\n",
            "41\n",
            "42\n",
            "43\n",
            "44\n",
            "45\n",
            "46\n",
            "47\n",
            "48\n"
          ]
        }
      ],
      "source": [
        "models_ExtraTrees_inter_rater = bagging_using_Diversity(ExtraTrees_inter_rater,ExtraTrees_inter_rater.n_estimators,deepcopy(train_set_x_and_y),\"inter rater measure\")"
      ]
    },
    {
      "cell_type": "code",
      "execution_count": 58,
      "metadata": {
        "colab": {
          "base_uri": "https://localhost:8080/"
        },
        "id": "TAjBdilk1GBL",
        "outputId": "95d3549a-1206-4801-edc4-4d333b22f655"
      },
      "outputs": [
        {
          "output_type": "execute_result",
          "data": {
            "text/plain": [
              "array([0.91139241, 0.92405063, 0.88607595, 0.88607595, 0.82165605])"
            ]
          },
          "metadata": {},
          "execution_count": 58
        }
      ],
      "source": [
        "ExtraTrees_inter_rater.estimators_ = models_ExtraTrees_inter_rater\n",
        "scores_ExtraTrees_inter_rater = cross_val_score(ExtraTrees_inter_rater, deepcopy(X_train.loc[:, features]), deepcopy(y_train['Loan_Status']).values, cv=5)\n",
        "scores_ExtraTrees_inter_rater"
      ]
    },
    {
      "cell_type": "code",
      "execution_count": 59,
      "metadata": {
        "colab": {
          "base_uri": "https://localhost:8080/"
        },
        "id": "ynH5XB7jzE7d",
        "outputId": "b81fe923-75e4-4daa-8935-8f4a14a028a8"
      },
      "outputs": [
        {
          "output_type": "stream",
          "name": "stdout",
          "text": [
            "Extra Trees Classifier - bagging using diversity inter-rater\n",
            "Accuracy score of Extra Trees using diversity inter-rater = 0.875\n",
            "Precision score of Extra Trees using diversity inter-rater = 0.8732098765432098\n"
          ]
        }
      ],
      "source": [
        "# ExtraTrees_inter_rater.estimators_ = models_ExtraTrees_inter_rater\n",
        "print(\"Extra Trees Classifier - bagging using diversity inter-rater\")\n",
        "inputs = pd.DataFrame(X_test)\n",
        "prediction_ExtraTrees_inter_rater = ExtraTrees_inter_rater.predict(inputs)\n",
        "accuracy_ExtraTrees_inter_rater = accuracy_score(y_test,prediction_ExtraTrees_inter_rater)\n",
        "print(f\"Accuracy score of Extra Trees using diversity inter-rater = {accuracy_ExtraTrees_inter_rater}\")\n",
        "\n",
        "precision_ExtraTrees_inter_rater = precision_score(y_test,prediction_ExtraTrees_inter_rater,average='weighted')\n",
        "print(f\"Precision score of Extra Trees using diversity inter-rater = {precision_ExtraTrees_inter_rater}\")"
      ]
    },
    {
      "cell_type": "markdown",
      "metadata": {
        "id": "4Vjoc7_OzFKP"
      },
      "source": [
        "General Diversity"
      ]
    },
    {
      "cell_type": "code",
      "execution_count": 60,
      "metadata": {
        "colab": {
          "base_uri": "https://localhost:8080/"
        },
        "id": "331ZuxQnzFTc",
        "outputId": "5903300c-9369-42d6-bbf5-cae41d82a7d1"
      },
      "outputs": [
        {
          "output_type": "stream",
          "name": "stdout",
          "text": [
            "1\n",
            "2\n",
            "3\n",
            "4\n",
            "5\n",
            "6\n",
            "7\n",
            "8\n",
            "9\n",
            "10\n",
            "11\n",
            "12\n",
            "13\n",
            "14\n",
            "15\n",
            "16\n",
            "17\n",
            "18\n",
            "19\n",
            "20\n",
            "21\n",
            "22\n",
            "23\n",
            "24\n",
            "25\n",
            "26\n",
            "27\n",
            "28\n",
            "29\n",
            "30\n",
            "31\n",
            "32\n",
            "33\n",
            "34\n",
            "35\n",
            "36\n",
            "37\n",
            "38\n",
            "39\n",
            "40\n",
            "41\n",
            "42\n",
            "43\n",
            "44\n",
            "45\n",
            "46\n",
            "47\n",
            "48\n"
          ]
        }
      ],
      "source": [
        "models_ExtraTrees_general_diversity = bagging_using_Diversity(ExtraTrees_general_diversity,ExtraTrees_general_diversity.n_estimators,deepcopy(train_set_x_and_y),\"general diversity\")"
      ]
    },
    {
      "cell_type": "code",
      "execution_count": 61,
      "metadata": {
        "colab": {
          "base_uri": "https://localhost:8080/"
        },
        "id": "BCiMZ0h81GBW",
        "outputId": "4c27f7ac-51c4-4146-f8fe-a5fe6c50d558"
      },
      "outputs": [
        {
          "output_type": "execute_result",
          "data": {
            "text/plain": [
              "array([0.91139241, 0.93037975, 0.87974684, 0.88607595, 0.81528662])"
            ]
          },
          "metadata": {},
          "execution_count": 61
        }
      ],
      "source": [
        "ExtraTrees_general_diversity.estimators_ = models_ExtraTrees_general_diversity\n",
        "scores_ExtraTrees_general_diversity = cross_val_score(ExtraTrees_general_diversity, deepcopy(X_train.loc[:, features]), deepcopy(y_train['Loan_Status']).values, cv=5)\n",
        "scores_ExtraTrees_general_diversity"
      ]
    },
    {
      "cell_type": "code",
      "execution_count": 62,
      "metadata": {
        "colab": {
          "base_uri": "https://localhost:8080/"
        },
        "id": "5C9mfpDZzFa2",
        "outputId": "f8547508-e478-47ab-febc-05602ca4d5b6"
      },
      "outputs": [
        {
          "output_type": "stream",
          "name": "stdout",
          "text": [
            "Extra Trees Classifier - bagging using diversity general diversity\n",
            "Accuracy score of Extra Trees using diversity general diversity = 0.875\n",
            "Precision score of Extra Trees using diversity general diversity = 0.8732098765432098\n"
          ]
        }
      ],
      "source": [
        "# ExtraTrees_general_diversity.estimators_ = models_ExtraTrees_general_diversity\n",
        "print(\"Extra Trees Classifier - bagging using diversity general diversity\")\n",
        "inputs = pd.DataFrame(X_test)\n",
        "prediction_ExtraTrees_general_diversity = ExtraTrees_general_diversity.predict(inputs)\n",
        "accuracy_ExtraTrees_general_diversity = accuracy_score(y_test,prediction_ExtraTrees_general_diversity)\n",
        "print(f\"Accuracy score of Extra Trees using diversity general diversity = {accuracy_ExtraTrees_general_diversity}\")\n",
        "\n",
        "precision_ExtraTrees_general_diversity = precision_score(y_test,prediction_ExtraTrees_general_diversity,average='weighted')\n",
        "print(f\"Precision score of Extra Trees using diversity general diversity = {precision_ExtraTrees_general_diversity}\")"
      ]
    },
    {
      "cell_type": "markdown",
      "metadata": {
        "id": "ZC3VFHDRzFjm"
      },
      "source": [
        "Double Fault"
      ]
    },
    {
      "cell_type": "code",
      "execution_count": 63,
      "metadata": {
        "colab": {
          "base_uri": "https://localhost:8080/"
        },
        "id": "DnLCFJqZzFs2",
        "outputId": "9c7890ec-f2be-46b0-a2f4-a65cf348bfbd"
      },
      "outputs": [
        {
          "output_type": "stream",
          "name": "stdout",
          "text": [
            "1\n",
            "2\n",
            "3\n",
            "4\n",
            "5\n",
            "6\n",
            "7\n",
            "8\n",
            "9\n",
            "10\n",
            "11\n",
            "12\n",
            "13\n",
            "14\n",
            "15\n",
            "16\n",
            "17\n",
            "18\n",
            "19\n",
            "20\n",
            "21\n",
            "22\n",
            "23\n",
            "24\n",
            "25\n",
            "26\n",
            "27\n",
            "28\n",
            "29\n",
            "30\n",
            "31\n",
            "32\n",
            "33\n",
            "34\n",
            "35\n",
            "36\n",
            "37\n",
            "38\n",
            "39\n",
            "40\n",
            "41\n",
            "42\n",
            "43\n",
            "44\n",
            "45\n",
            "46\n",
            "47\n",
            "48\n"
          ]
        }
      ],
      "source": [
        "models_ExtraTrees_Double_Fault = bagging_using_Diversity(ExtraTrees_Double_Fault,ExtraTrees_Double_Fault.n_estimators,deepcopy(train_set_x_and_y),\"Double Fault Measure\")"
      ]
    },
    {
      "cell_type": "code",
      "execution_count": 64,
      "metadata": {
        "id": "l3q8I9hz1GBX",
        "colab": {
          "base_uri": "https://localhost:8080/"
        },
        "outputId": "baf71edb-3e71-4d14-c683-49706f281b94"
      },
      "outputs": [
        {
          "output_type": "execute_result",
          "data": {
            "text/plain": [
              "array([0.91139241, 0.92405063, 0.87974684, 0.87341772, 0.82165605])"
            ]
          },
          "metadata": {},
          "execution_count": 64
        }
      ],
      "source": [
        "ExtraTrees_Double_Fault.estimators_ = models_ExtraTrees_Double_Fault\n",
        "scores_ExtraTrees_Double_Fault = cross_val_score(ExtraTrees_Double_Fault, deepcopy(X_train.loc[:, features]), deepcopy(y_train['Loan_Status']).values, cv=5)\n",
        "scores_ExtraTrees_Double_Fault"
      ]
    },
    {
      "cell_type": "code",
      "execution_count": 65,
      "metadata": {
        "id": "Gb1Ua13pzF04",
        "colab": {
          "base_uri": "https://localhost:8080/"
        },
        "outputId": "5bcb1b31-f2e3-40c0-8a8d-9d6ccd23a16c"
      },
      "outputs": [
        {
          "output_type": "stream",
          "name": "stdout",
          "text": [
            "Extra Trees Classifier - bagging using diversity Double Fault\n",
            "Accuracy score of Extra Trees using diversity Double Fault = 0.875\n",
            "Precision score of Extra Trees using diversity Double Fault = 0.8732098765432098\n"
          ]
        }
      ],
      "source": [
        "# ExtraTrees_Double_Fault.estimators_ = models_ExtraTrees_Double_Fault\n",
        "print(\"Extra Trees Classifier - bagging using diversity Double Fault\")\n",
        "inputs = pd.DataFrame(X_test)\n",
        "prediction_ExtraTrees_Double_Fault = ExtraTrees_Double_Fault.predict(inputs)\n",
        "accuracy_ExtraTrees_Double_Fault = accuracy_score(y_test,prediction_ExtraTrees_Double_Fault)\n",
        "print(f\"Accuracy score of Extra Trees using diversity Double Fault = {accuracy_ExtraTrees_Double_Fault}\")\n",
        "\n",
        "precision_ExtraTrees_Double_Fault = precision_score(y_test,prediction_ExtraTrees_Double_Fault,average='weighted')\n",
        "print(f\"Precision score of Extra Trees using diversity Double Fault = {precision_ExtraTrees_Double_Fault}\")"
      ]
    },
    {
      "cell_type": "markdown",
      "metadata": {
        "id": "1n7LpONp025Z"
      },
      "source": [
        "#Summary - Base inducer - Extra Trees"
      ]
    },
    {
      "cell_type": "code",
      "execution_count": 66,
      "metadata": {
        "id": "jcJT_UW406W4"
      },
      "outputs": [],
      "source": [
        "# print(tabulate([[\"Accuracy\",accuracy_ExtraTreesClassifier,\n",
        "#                  accuracy_ExtraTrees_kohavi_wolpert,\n",
        "#                  accuracy_ExtraTrees_inter_rater,\n",
        "#                  accuracy_ExtraTrees_general_diversity],\n",
        "#                 [\"Precision\",precision_ExtraTreesClassifier,\n",
        "#                  precision_ExtraTrees_kohavi_wolpert,\n",
        "#                  precision_ExtraTrees_inter_rater,\n",
        "#                  precision_ExtraTrees_general_diversity]],\n",
        "#                headers=[\"Metric\\Model\",\"ExtraTreesClassifier\",\n",
        "#                         \"Extra Trees-\\nbagging using diversity\\nkohavi-wolpert\",\n",
        "#                         \"Extra Trees-\\nbagging using diversity\\nInter-Rater-Measure\",\n",
        "#                         \"Extra Trees-\\nbagging using diversity\\nGeneral Diversity\"], tablefmt=\"grid\"))"
      ]
    },
    {
      "cell_type": "code",
      "execution_count": 67,
      "metadata": {
        "id": "W64rKlIu16P4",
        "colab": {
          "base_uri": "https://localhost:8080/"
        },
        "outputId": "8655c4a4-75f2-4828-ebd4-c6c9a3b0e5c0"
      },
      "outputs": [
        {
          "output_type": "stream",
          "name": "stdout",
          "text": [
            "+----------------+------------------------+---------------------------+---------------------------+---------------------------+---------------------------+\n",
            "| Metric\\Model   |   ExtraTreesClassifier |              Extra Trees- |              Extra Trees- |              Extra Trees- |              Extra Trees- |\n",
            "|                |                        |   bagging using diversity |   bagging using diversity |   bagging using diversity |   bagging using diversity |\n",
            "|                |                        |            kohavi-wolpert |       Inter-Rater-Measure |         General Diversity |      Double Fault Measure |\n",
            "+================+========================+===========================+===========================+===========================+===========================+\n",
            "| Accuracy       |                0.875   |                   0.875   |                   0.875   |                   0.875   |                   0.875   |\n",
            "+----------------+------------------------+---------------------------+---------------------------+---------------------------+---------------------------+\n",
            "| Precision      |                0.87321 |                   0.87321 |                   0.87321 |                   0.87321 |                   0.87321 |\n",
            "+----------------+------------------------+---------------------------+---------------------------+---------------------------+---------------------------+\n"
          ]
        }
      ],
      "source": [
        "print(tabulate([[\"Accuracy\",accuracy_ExtraTreesClassifier,\n",
        "                 accuracy_ExtraTrees_kohavi_wolpert,\n",
        "                 accuracy_ExtraTrees_inter_rater,\n",
        "                 accuracy_ExtraTrees_general_diversity,\n",
        "                 accuracy_ExtraTrees_Double_Fault],\n",
        "                [\"Precision\",precision_ExtraTreesClassifier,\n",
        "                 precision_ExtraTrees_kohavi_wolpert,\n",
        "                 precision_ExtraTrees_inter_rater,\n",
        "                 precision_ExtraTrees_general_diversity,\n",
        "                 precision_ExtraTrees_Double_Fault]],\n",
        "               headers=[\"Metric\\Model\",\"ExtraTreesClassifier\",\n",
        "                        \"Extra Trees-\\nbagging using diversity\\nkohavi-wolpert\",\n",
        "                        \"Extra Trees-\\nbagging using diversity\\nInter-Rater-Measure\",\n",
        "                        \"Extra Trees-\\nbagging using diversity\\nGeneral Diversity\",\n",
        "                        \"Extra Trees-\\nbagging using diversity\\nDouble Fault Measure\"], tablefmt=\"grid\"))"
      ]
    },
    {
      "cell_type": "code",
      "execution_count": 68,
      "metadata": {
        "id": "iL9jLhHK1GBZ",
        "colab": {
          "base_uri": "https://localhost:8080/"
        },
        "outputId": "b745fdf7-fa24-4e8a-ee4c-c0f2a001782a"
      },
      "outputs": [
        {
          "output_type": "stream",
          "name": "stdout",
          "text": [
            "False\n"
          ]
        }
      ],
      "source": [
        "print(ExtraTrees_general_diversity==ExtraTrees_inter_rater)"
      ]
    },
    {
      "cell_type": "code",
      "execution_count": 69,
      "metadata": {
        "id": "JqKrc2Du1GBZ",
        "colab": {
          "base_uri": "https://localhost:8080/"
        },
        "outputId": "d584601e-6b4d-4f0a-9d7b-0c10bae7292f"
      },
      "outputs": [
        {
          "output_type": "stream",
          "name": "stdout",
          "text": [
            "False\n"
          ]
        }
      ],
      "source": [
        "print(ExtraTrees_general_diversity.estimators_==ExtraTrees_inter_rater.estimators_)"
      ]
    },
    {
      "cell_type": "code",
      "execution_count": 70,
      "metadata": {
        "id": "a7xRr2361GBZ",
        "colab": {
          "base_uri": "https://localhost:8080/"
        },
        "outputId": "c61d09b0-eee2-4e40-aabe-b0cb682dfb70"
      },
      "outputs": [
        {
          "output_type": "stream",
          "name": "stdout",
          "text": [
            "False\n"
          ]
        }
      ],
      "source": [
        "print(ExtraTrees_general_diversity.estimators_[0]==ExtraTrees_inter_rater.estimators_[0])"
      ]
    },
    {
      "cell_type": "code",
      "execution_count": 70,
      "metadata": {
        "id": "pA4hBZPk1GBa"
      },
      "outputs": [],
      "source": []
    }
  ],
  "metadata": {
    "colab": {
      "provenance": [],
      "include_colab_link": true
    },
    "kernelspec": {
      "display_name": "Python 3 (ipykernel)",
      "language": "python",
      "name": "python3"
    },
    "language_info": {
      "codemirror_mode": {
        "name": "ipython",
        "version": 3
      },
      "file_extension": ".py",
      "mimetype": "text/x-python",
      "name": "python",
      "nbconvert_exporter": "python",
      "pygments_lexer": "ipython3",
      "version": "3.7.11"
    }
  },
  "nbformat": 4,
  "nbformat_minor": 0
}