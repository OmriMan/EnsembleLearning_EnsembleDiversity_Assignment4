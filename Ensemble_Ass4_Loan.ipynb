{
  "nbformat": 4,
  "nbformat_minor": 0,
  "metadata": {
    "colab": {
      "provenance": [],
      "authorship_tag": "ABX9TyPaPJ8bTrbYOw5WOAxiXhq7",
      "include_colab_link": true
    },
    "kernelspec": {
      "name": "python3",
      "display_name": "Python 3"
    },
    "language_info": {
      "name": "python"
    }
  },
  "cells": [
    {
      "cell_type": "markdown",
      "metadata": {
        "id": "view-in-github",
        "colab_type": "text"
      },
      "source": [
        "<a href=\"https://colab.research.google.com/github/OmriMan/EnsembleLearning_EnsembleDiversity_Assignment4/blob/main/Ensemble_Ass4_Loan.ipynb\" target=\"_parent\"><img src=\"https://colab.research.google.com/assets/colab-badge.svg\" alt=\"Open In Colab\"/></a>"
      ]
    },
    {
      "cell_type": "markdown",
      "source": [
        "Packages"
      ],
      "metadata": {
        "id": "8VSLHOlxr_Hd"
      }
    },
    {
      "cell_type": "code",
      "execution_count": 16,
      "metadata": {
        "id": "z4IJV2H_rQBx"
      },
      "outputs": [],
      "source": [
        "import numpy as np  \n",
        "import pandas as pd  \n",
        "\n",
        "from sklearn.ensemble import RandomForestClassifier\n",
        "from sklearn.ensemble import ExtraTreesClassifier\n",
        "from matplotlib import pyplot as plt  \n",
        "from sklearn.tree import plot_tree \n",
        "\n",
        "from sklearn.model_selection import train_test_split\n",
        "\n",
        "from sklearn.metrics import accuracy_score\n",
        "\n",
        "from sklearn.metrics import precision_score\n",
        "\n",
        "import random\n",
        "\n",
        "from sklearn.model_selection import RandomizedSearchCV\n",
        "\n",
        "from tabulate import tabulate"
      ]
    },
    {
      "cell_type": "markdown",
      "source": [
        "#Dataset Loan#\n",
        "Gender: Female = 1,Male = 0\n",
        "\n",
        "Married: No=0,Yes = 1\n",
        "\n",
        "Dependents: 1 , 2, '3+' = 3\n",
        "\n",
        "Education: Not Graduate=0,Graduate=1\n",
        "\n",
        "Self_Employed: Missing values ​​were replaced by '1' in the data set\n",
        "\n",
        "ApplicantIncome: Applicant Income - number\n",
        "\n",
        "CoapplicantIncome: Coapplicant Income  - number\n",
        "\n",
        "Loan Amount: number \n",
        "\n",
        "Loan_Amount_Term: Loan amount term in days, number  \n",
        "\n",
        "Credit_History: Applicant credit history, binary\n",
        "\n",
        "Property_Area: We did not use this feature\n",
        "\n",
        "Loan_Status: Yes = 1, No=0"
      ],
      "metadata": {
        "id": "s9OzR1WQsHTa"
      }
    },
    {
      "cell_type": "code",
      "source": [
        "def preprocess(df):\n",
        "    # Putting on index to each dataset before split it\n",
        "    # df = df.set_index(\"PassengerId\")\n",
        "    # Gender\n",
        "    change = {'Female':1,'Male':0}\n",
        "    df.Gender = df.Gender.map(change)\n",
        "    df['Gender'] = df['Gender'].replace(to_replace = np.nan, value = 0)\n",
        "\n",
        "    # Education\n",
        "    change = {'Not Graduate':0,'Yes':1}\n",
        "    df.Education = df.Education.map(change)\n",
        "    df['Education'] = df['Education'].replace(to_replace = np.nan, value =1)\n",
        "\n",
        "    # \tDependents\n",
        "    change = {'0':0,'1':1,'2':2,'3+':3,'+3':3}\n",
        "    df.Dependents = df.Dependents.map(change)\n",
        "\n",
        "\n",
        "    # Married\n",
        "    change = {'No':0,'Yes':1}\n",
        "    df.Married = df.Married.map(change)\n",
        "    # df['Married'] = df['Married'].replace(to_replace = np.nan, value =1)\n",
        "\n",
        "    #Self_Employed\n",
        "    df.Self_Employed = df.Self_Employed.map(change)\n",
        "    df['Self_Employed'] = df['Self_Employed'].replace(to_replace = np.nan, value =0)\n",
        "\n",
        "    #Loan_Status\n",
        "    change = {'N':0,'Y':1}\n",
        "    df.Loan_Status = df.Loan_Status.map(change)\n",
        "\n",
        "    # #ApplicantIncome\n",
        "    # df['ApplicantIncome'] = df['ApplicantIncome']/1000\n",
        "\n",
        "    # #CoapplicantIncome\n",
        "    # df['CoapplicantIncome'] = df['CoapplicantIncome']/1000\n",
        "\n",
        "    df = df.drop(columns=['Property_Area'])\n",
        "    return df"
      ],
      "metadata": {
        "id": "J1w6Tt62sJr-"
      },
      "execution_count": 17,
      "outputs": []
    },
    {
      "cell_type": "markdown",
      "source": [
        "Load the data set"
      ],
      "metadata": {
        "id": "A3zDhx-KsM2z"
      }
    },
    {
      "cell_type": "code",
      "source": [
        "df = pd.read_csv('/content/sample_data/Loan.csv')\n",
        "df = preprocess(df)\n",
        "features = ['Gender',\t'Married',\t'Dependents',\t'Education',\t'Self_Employed',\t'ApplicantIncome',\t'CoapplicantIncome',\t'LoanAmount',\t'Loan_Amount_Term',\t'Credit_History']\n",
        "X = df.loc[:, features]\n",
        "y = df.loc[:, ['Loan_Status']]"
      ],
      "metadata": {
        "id": "fiX1SZaJsOzx"
      },
      "execution_count": 18,
      "outputs": []
    },
    {
      "cell_type": "markdown",
      "source": [
        "Split the data into training and testin sets"
      ],
      "metadata": {
        "id": "rhcKZOFrsQdo"
      }
    },
    {
      "cell_type": "code",
      "source": [],
      "metadata": {
        "id": "rTwpTOWUsWMh"
      },
      "execution_count": 18,
      "outputs": []
    },
    {
      "cell_type": "code",
      "source": [
        "df = pd.read_csv('/content/sample_data/Loan.csv')\n",
        "df.isna().sum()"
      ],
      "metadata": {
        "colab": {
          "base_uri": "https://localhost:8080/"
        },
        "id": "v1Kh1mxhsQpP",
        "outputId": "ff2e7a43-1cf7-4fd9-a53c-dd692f85ee1a"
      },
      "execution_count": 19,
      "outputs": [
        {
          "output_type": "execute_result",
          "data": {
            "text/plain": [
              "Gender               1\n",
              "Married              0\n",
              "Dependents           0\n",
              "Education            0\n",
              "Self_Employed        9\n",
              "ApplicantIncome      0\n",
              "CoapplicantIncome    0\n",
              "LoanAmount           0\n",
              "Loan_Amount_Term     0\n",
              "Credit_History       0\n",
              "Property_Area        0\n",
              "Loan_Status          0\n",
              "dtype: int64"
            ]
          },
          "metadata": {},
          "execution_count": 19
        }
      ]
    },
    {
      "cell_type": "code",
      "source": [
        "X_train, X_test, y_train, y_test = train_test_split(X, y, random_state=0, train_size = .75)\n",
        "X_train"
      ],
      "metadata": {
        "colab": {
          "base_uri": "https://localhost:8080/",
          "height": 423
        },
        "id": "_qzrbFCKsW2V",
        "outputId": "bc9058ef-2711-44d7-9395-479c1e6e8639"
      },
      "execution_count": 20,
      "outputs": [
        {
          "output_type": "execute_result",
          "data": {
            "text/plain": [
              "      Gender  Married  Dependents  Education  Self_Employed  ApplicantIncome  \\\n",
              "158      0.0        0           0        1.0            0.0             2980   \n",
              "40       0.0        0           0        1.0            0.0             3600   \n",
              "757      1.0        1           0        1.0            0.0             3625   \n",
              "440      0.0        0           0        1.0            0.0             3660   \n",
              "927      1.0        1           0        1.0            0.0             2423   \n",
              "...      ...      ...         ...        ...            ...              ...   \n",
              "1033     1.0        1           0        1.0            1.0             2083   \n",
              "763      0.0        0           0        0.0            0.0             4885   \n",
              "835      1.0        0           1        1.0            0.0             3481   \n",
              "559      1.0        1           0        1.0            0.0             4180   \n",
              "684      0.0        1           0        1.0            0.0             9083   \n",
              "\n",
              "      CoapplicantIncome  LoanAmount  Loan_Amount_Term  Credit_History  \n",
              "158              2083.0         120               360               1  \n",
              "40                  0.0          80               360               1  \n",
              "757                 0.0         108               360               1  \n",
              "440              5064.0         187               360               1  \n",
              "927               505.0         130               360               1  \n",
              "...                 ...         ...               ...             ...  \n",
              "1033             4083.0         160               360               1  \n",
              "763                 0.0          48               360               1  \n",
              "835                 0.0         155                36               1  \n",
              "559              2306.0         182               360               1  \n",
              "684                 0.0         228               360               1  \n",
              "\n",
              "[789 rows x 10 columns]"
            ],
            "text/html": [
              "\n",
              "  <div id=\"df-069c2011-92dd-4e85-b01b-595e85ba7a39\">\n",
              "    <div class=\"colab-df-container\">\n",
              "      <div>\n",
              "<style scoped>\n",
              "    .dataframe tbody tr th:only-of-type {\n",
              "        vertical-align: middle;\n",
              "    }\n",
              "\n",
              "    .dataframe tbody tr th {\n",
              "        vertical-align: top;\n",
              "    }\n",
              "\n",
              "    .dataframe thead th {\n",
              "        text-align: right;\n",
              "    }\n",
              "</style>\n",
              "<table border=\"1\" class=\"dataframe\">\n",
              "  <thead>\n",
              "    <tr style=\"text-align: right;\">\n",
              "      <th></th>\n",
              "      <th>Gender</th>\n",
              "      <th>Married</th>\n",
              "      <th>Dependents</th>\n",
              "      <th>Education</th>\n",
              "      <th>Self_Employed</th>\n",
              "      <th>ApplicantIncome</th>\n",
              "      <th>CoapplicantIncome</th>\n",
              "      <th>LoanAmount</th>\n",
              "      <th>Loan_Amount_Term</th>\n",
              "      <th>Credit_History</th>\n",
              "    </tr>\n",
              "  </thead>\n",
              "  <tbody>\n",
              "    <tr>\n",
              "      <th>158</th>\n",
              "      <td>0.0</td>\n",
              "      <td>0</td>\n",
              "      <td>0</td>\n",
              "      <td>1.0</td>\n",
              "      <td>0.0</td>\n",
              "      <td>2980</td>\n",
              "      <td>2083.0</td>\n",
              "      <td>120</td>\n",
              "      <td>360</td>\n",
              "      <td>1</td>\n",
              "    </tr>\n",
              "    <tr>\n",
              "      <th>40</th>\n",
              "      <td>0.0</td>\n",
              "      <td>0</td>\n",
              "      <td>0</td>\n",
              "      <td>1.0</td>\n",
              "      <td>0.0</td>\n",
              "      <td>3600</td>\n",
              "      <td>0.0</td>\n",
              "      <td>80</td>\n",
              "      <td>360</td>\n",
              "      <td>1</td>\n",
              "    </tr>\n",
              "    <tr>\n",
              "      <th>757</th>\n",
              "      <td>1.0</td>\n",
              "      <td>1</td>\n",
              "      <td>0</td>\n",
              "      <td>1.0</td>\n",
              "      <td>0.0</td>\n",
              "      <td>3625</td>\n",
              "      <td>0.0</td>\n",
              "      <td>108</td>\n",
              "      <td>360</td>\n",
              "      <td>1</td>\n",
              "    </tr>\n",
              "    <tr>\n",
              "      <th>440</th>\n",
              "      <td>0.0</td>\n",
              "      <td>0</td>\n",
              "      <td>0</td>\n",
              "      <td>1.0</td>\n",
              "      <td>0.0</td>\n",
              "      <td>3660</td>\n",
              "      <td>5064.0</td>\n",
              "      <td>187</td>\n",
              "      <td>360</td>\n",
              "      <td>1</td>\n",
              "    </tr>\n",
              "    <tr>\n",
              "      <th>927</th>\n",
              "      <td>1.0</td>\n",
              "      <td>1</td>\n",
              "      <td>0</td>\n",
              "      <td>1.0</td>\n",
              "      <td>0.0</td>\n",
              "      <td>2423</td>\n",
              "      <td>505.0</td>\n",
              "      <td>130</td>\n",
              "      <td>360</td>\n",
              "      <td>1</td>\n",
              "    </tr>\n",
              "    <tr>\n",
              "      <th>...</th>\n",
              "      <td>...</td>\n",
              "      <td>...</td>\n",
              "      <td>...</td>\n",
              "      <td>...</td>\n",
              "      <td>...</td>\n",
              "      <td>...</td>\n",
              "      <td>...</td>\n",
              "      <td>...</td>\n",
              "      <td>...</td>\n",
              "      <td>...</td>\n",
              "    </tr>\n",
              "    <tr>\n",
              "      <th>1033</th>\n",
              "      <td>1.0</td>\n",
              "      <td>1</td>\n",
              "      <td>0</td>\n",
              "      <td>1.0</td>\n",
              "      <td>1.0</td>\n",
              "      <td>2083</td>\n",
              "      <td>4083.0</td>\n",
              "      <td>160</td>\n",
              "      <td>360</td>\n",
              "      <td>1</td>\n",
              "    </tr>\n",
              "    <tr>\n",
              "      <th>763</th>\n",
              "      <td>0.0</td>\n",
              "      <td>0</td>\n",
              "      <td>0</td>\n",
              "      <td>0.0</td>\n",
              "      <td>0.0</td>\n",
              "      <td>4885</td>\n",
              "      <td>0.0</td>\n",
              "      <td>48</td>\n",
              "      <td>360</td>\n",
              "      <td>1</td>\n",
              "    </tr>\n",
              "    <tr>\n",
              "      <th>835</th>\n",
              "      <td>1.0</td>\n",
              "      <td>0</td>\n",
              "      <td>1</td>\n",
              "      <td>1.0</td>\n",
              "      <td>0.0</td>\n",
              "      <td>3481</td>\n",
              "      <td>0.0</td>\n",
              "      <td>155</td>\n",
              "      <td>36</td>\n",
              "      <td>1</td>\n",
              "    </tr>\n",
              "    <tr>\n",
              "      <th>559</th>\n",
              "      <td>1.0</td>\n",
              "      <td>1</td>\n",
              "      <td>0</td>\n",
              "      <td>1.0</td>\n",
              "      <td>0.0</td>\n",
              "      <td>4180</td>\n",
              "      <td>2306.0</td>\n",
              "      <td>182</td>\n",
              "      <td>360</td>\n",
              "      <td>1</td>\n",
              "    </tr>\n",
              "    <tr>\n",
              "      <th>684</th>\n",
              "      <td>0.0</td>\n",
              "      <td>1</td>\n",
              "      <td>0</td>\n",
              "      <td>1.0</td>\n",
              "      <td>0.0</td>\n",
              "      <td>9083</td>\n",
              "      <td>0.0</td>\n",
              "      <td>228</td>\n",
              "      <td>360</td>\n",
              "      <td>1</td>\n",
              "    </tr>\n",
              "  </tbody>\n",
              "</table>\n",
              "<p>789 rows × 10 columns</p>\n",
              "</div>\n",
              "      <button class=\"colab-df-convert\" onclick=\"convertToInteractive('df-069c2011-92dd-4e85-b01b-595e85ba7a39')\"\n",
              "              title=\"Convert this dataframe to an interactive table.\"\n",
              "              style=\"display:none;\">\n",
              "        \n",
              "  <svg xmlns=\"http://www.w3.org/2000/svg\" height=\"24px\"viewBox=\"0 0 24 24\"\n",
              "       width=\"24px\">\n",
              "    <path d=\"M0 0h24v24H0V0z\" fill=\"none\"/>\n",
              "    <path d=\"M18.56 5.44l.94 2.06.94-2.06 2.06-.94-2.06-.94-.94-2.06-.94 2.06-2.06.94zm-11 1L8.5 8.5l.94-2.06 2.06-.94-2.06-.94L8.5 2.5l-.94 2.06-2.06.94zm10 10l.94 2.06.94-2.06 2.06-.94-2.06-.94-.94-2.06-.94 2.06-2.06.94z\"/><path d=\"M17.41 7.96l-1.37-1.37c-.4-.4-.92-.59-1.43-.59-.52 0-1.04.2-1.43.59L10.3 9.45l-7.72 7.72c-.78.78-.78 2.05 0 2.83L4 21.41c.39.39.9.59 1.41.59.51 0 1.02-.2 1.41-.59l7.78-7.78 2.81-2.81c.8-.78.8-2.07 0-2.86zM5.41 20L4 18.59l7.72-7.72 1.47 1.35L5.41 20z\"/>\n",
              "  </svg>\n",
              "      </button>\n",
              "      \n",
              "  <style>\n",
              "    .colab-df-container {\n",
              "      display:flex;\n",
              "      flex-wrap:wrap;\n",
              "      gap: 12px;\n",
              "    }\n",
              "\n",
              "    .colab-df-convert {\n",
              "      background-color: #E8F0FE;\n",
              "      border: none;\n",
              "      border-radius: 50%;\n",
              "      cursor: pointer;\n",
              "      display: none;\n",
              "      fill: #1967D2;\n",
              "      height: 32px;\n",
              "      padding: 0 0 0 0;\n",
              "      width: 32px;\n",
              "    }\n",
              "\n",
              "    .colab-df-convert:hover {\n",
              "      background-color: #E2EBFA;\n",
              "      box-shadow: 0px 1px 2px rgba(60, 64, 67, 0.3), 0px 1px 3px 1px rgba(60, 64, 67, 0.15);\n",
              "      fill: #174EA6;\n",
              "    }\n",
              "\n",
              "    [theme=dark] .colab-df-convert {\n",
              "      background-color: #3B4455;\n",
              "      fill: #D2E3FC;\n",
              "    }\n",
              "\n",
              "    [theme=dark] .colab-df-convert:hover {\n",
              "      background-color: #434B5C;\n",
              "      box-shadow: 0px 1px 3px 1px rgba(0, 0, 0, 0.15);\n",
              "      filter: drop-shadow(0px 1px 2px rgba(0, 0, 0, 0.3));\n",
              "      fill: #FFFFFF;\n",
              "    }\n",
              "  </style>\n",
              "\n",
              "      <script>\n",
              "        const buttonEl =\n",
              "          document.querySelector('#df-069c2011-92dd-4e85-b01b-595e85ba7a39 button.colab-df-convert');\n",
              "        buttonEl.style.display =\n",
              "          google.colab.kernel.accessAllowed ? 'block' : 'none';\n",
              "\n",
              "        async function convertToInteractive(key) {\n",
              "          const element = document.querySelector('#df-069c2011-92dd-4e85-b01b-595e85ba7a39');\n",
              "          const dataTable =\n",
              "            await google.colab.kernel.invokeFunction('convertToInteractive',\n",
              "                                                     [key], {});\n",
              "          if (!dataTable) return;\n",
              "\n",
              "          const docLinkHtml = 'Like what you see? Visit the ' +\n",
              "            '<a target=\"_blank\" href=https://colab.research.google.com/notebooks/data_table.ipynb>data table notebook</a>'\n",
              "            + ' to learn more about interactive tables.';\n",
              "          element.innerHTML = '';\n",
              "          dataTable['output_type'] = 'display_data';\n",
              "          await google.colab.output.renderOutput(dataTable, element);\n",
              "          const docLink = document.createElement('div');\n",
              "          docLink.innerHTML = docLinkHtml;\n",
              "          element.appendChild(docLink);\n",
              "        }\n",
              "      </script>\n",
              "    </div>\n",
              "  </div>\n",
              "  "
            ]
          },
          "metadata": {},
          "execution_count": 20
        }
      ]
    },
    {
      "cell_type": "code",
      "source": [
        "X_test.isna().sum()"
      ],
      "metadata": {
        "colab": {
          "base_uri": "https://localhost:8080/"
        },
        "id": "er0pdf3usZob",
        "outputId": "8ae30945-a616-41e1-ef12-99e1748da0c2"
      },
      "execution_count": 21,
      "outputs": [
        {
          "output_type": "execute_result",
          "data": {
            "text/plain": [
              "Gender               0\n",
              "Married              0\n",
              "Dependents           0\n",
              "Education            0\n",
              "Self_Employed        0\n",
              "ApplicantIncome      0\n",
              "CoapplicantIncome    0\n",
              "LoanAmount           0\n",
              "Loan_Amount_Term     0\n",
              "Credit_History       0\n",
              "dtype: int64"
            ]
          },
          "metadata": {},
          "execution_count": 21
        }
      ]
    },
    {
      "cell_type": "code",
      "source": [
        "X_train.isna().sum()"
      ],
      "metadata": {
        "colab": {
          "base_uri": "https://localhost:8080/"
        },
        "id": "uelfhcKGsbxx",
        "outputId": "f3138e63-dcb8-4243-f3ad-6a951da791e4"
      },
      "execution_count": 22,
      "outputs": [
        {
          "output_type": "execute_result",
          "data": {
            "text/plain": [
              "Gender               0\n",
              "Married              0\n",
              "Dependents           0\n",
              "Education            0\n",
              "Self_Employed        0\n",
              "ApplicantIncome      0\n",
              "CoapplicantIncome    0\n",
              "LoanAmount           0\n",
              "Loan_Amount_Term     0\n",
              "Credit_History       0\n",
              "dtype: int64"
            ]
          },
          "metadata": {},
          "execution_count": 22
        }
      ]
    },
    {
      "cell_type": "markdown",
      "source": [
        "#Target class distribution#"
      ],
      "metadata": {
        "id": "jiVWksANsfbt"
      }
    },
    {
      "cell_type": "code",
      "source": [
        "target = df['Loan_Status']\n",
        "target.value_counts()"
      ],
      "metadata": {
        "colab": {
          "base_uri": "https://localhost:8080/"
        },
        "id": "twn_QGw_sg8l",
        "outputId": "8d87cc57-5aba-43ae-be1e-ab9ef1242720"
      },
      "execution_count": 23,
      "outputs": [
        {
          "output_type": "execute_result",
          "data": {
            "text/plain": [
              "Y    729\n",
              "N    324\n",
              "Name: Loan_Status, dtype: int64"
            ]
          },
          "metadata": {},
          "execution_count": 23
        }
      ]
    },
    {
      "cell_type": "markdown",
      "source": [
        "#Define and train the models #"
      ],
      "metadata": {
        "id": "zOeiaQYCsjvn"
      }
    },
    {
      "cell_type": "markdown",
      "source": [
        "Random Forest Classifier"
      ],
      "metadata": {
        "id": "Veo2rPE5spDB"
      }
    },
    {
      "cell_type": "code",
      "source": [
        "model_rf = RandomForestClassifier(n_estimators=100)\n",
        "\n",
        "model_rf.fit(X_train,np.ravel(y_train))\n"
      ],
      "metadata": {
        "colab": {
          "base_uri": "https://localhost:8080/"
        },
        "id": "II534TP0ska3",
        "outputId": "d081210a-f6b6-4b4c-9477-737767764cf9"
      },
      "execution_count": 24,
      "outputs": [
        {
          "output_type": "execute_result",
          "data": {
            "text/plain": [
              "RandomForestClassifier()"
            ]
          },
          "metadata": {},
          "execution_count": 24
        }
      ]
    },
    {
      "cell_type": "code",
      "source": [
        "inputs = pd.DataFrame(X_test)\n",
        "prediction_RandomForestClassifier = model_rf.predict(inputs)\n",
        "\n",
        "accuracy_RandomForestClassifier = accuracy_score(y_test,prediction_RandomForestClassifier)\n",
        "print(f\"Accuracy score of RandomForestClassifier = {accuracy_RandomForestClassifier}\")\n",
        "\n",
        "precision_RandomForestClassifier = precision_score(y_test,prediction_RandomForestClassifier,average='weighted')\n",
        "print(f\"Precision score of RandomForestClassifier = {precision_RandomForestClassifier}\")"
      ],
      "metadata": {
        "colab": {
          "base_uri": "https://localhost:8080/"
        },
        "id": "O_b0x2L7swRv",
        "outputId": "c085406f-3b83-4b6a-d2b3-bd960086d97c"
      },
      "execution_count": 25,
      "outputs": [
        {
          "output_type": "stream",
          "name": "stdout",
          "text": [
            "Accuracy score of RandomForestClassifier = 0.8787878787878788\n",
            "Precision score of RandomForestClassifier = 0.87744901146963\n"
          ]
        }
      ]
    },
    {
      "cell_type": "markdown",
      "source": [
        "Extremely Randomized Trees"
      ],
      "metadata": {
        "id": "nCt1Lkfwszpz"
      }
    },
    {
      "cell_type": "code",
      "source": [
        "model_ExtraTreesClassifier = ExtraTreesClassifier(n_estimators=100)\n",
        "model_ExtraTreesClassifier.fit(X_train,np.ravel(y_train))"
      ],
      "metadata": {
        "colab": {
          "base_uri": "https://localhost:8080/"
        },
        "id": "_ukGNQyhs0T5",
        "outputId": "35c3453c-df40-4f87-dbb4-0c1dc0534df0"
      },
      "execution_count": 26,
      "outputs": [
        {
          "output_type": "execute_result",
          "data": {
            "text/plain": [
              "ExtraTreesClassifier()"
            ]
          },
          "metadata": {},
          "execution_count": 26
        }
      ]
    },
    {
      "cell_type": "code",
      "source": [
        "inputs = pd.DataFrame(X_test)\n",
        "prediction_ExtraTreesClassifier = model_ExtraTreesClassifier.predict(inputs)\n",
        "accuracy_ExtraTreesClassifier = accuracy_score(y_test,prediction_ExtraTreesClassifier)\n",
        "print(f\"Accuracy score of ExtraTreesClassifier = {accuracy_ExtraTreesClassifier}\")\n",
        "\n",
        "precision_ExtraTreesClassifier = precision_score(y_test,prediction_ExtraTreesClassifier,average='weighted')\n",
        "print(f\"Precision score of ExtraTreesClassifier = {precision_ExtraTreesClassifier}\")"
      ],
      "metadata": {
        "colab": {
          "base_uri": "https://localhost:8080/"
        },
        "id": "gIkk4T6Ds5QO",
        "outputId": "bb26bda5-2a31-4057-c831-3d65e4221b0f"
      },
      "execution_count": 27,
      "outputs": [
        {
          "output_type": "stream",
          "name": "stdout",
          "text": [
            "Accuracy score of ExtraTreesClassifier = 0.8787878787878788\n",
            "Precision score of ExtraTreesClassifier = 0.8771972242017035\n"
          ]
        }
      ]
    },
    {
      "cell_type": "markdown",
      "source": [
        "Summary - Loan dataset"
      ],
      "metadata": {
        "id": "7K1VJchIs9b3"
      }
    },
    {
      "cell_type": "code",
      "source": [
        "print(tabulate([[\"Accuracy\",accuracy_RandomForestClassifier,accuracy_ExtraTreesClassifier],[\"Precision\",precision_RandomForestClassifier,precision_ExtraTreesClassifier]], headers=[\"Metric\\Model\",\"RandomForestClassifier\",\"ExtraTreesClassifier\"], tablefmt=\"grid\"))"
      ],
      "metadata": {
        "colab": {
          "base_uri": "https://localhost:8080/"
        },
        "id": "HDevOpSrs9_0",
        "outputId": "a7fc443c-e4ca-4809-c01f-12909185cc3a"
      },
      "execution_count": 28,
      "outputs": [
        {
          "output_type": "stream",
          "name": "stdout",
          "text": [
            "+----------------+--------------------------+------------------------+\n",
            "| Metric\\Model   |   RandomForestClassifier |   ExtraTreesClassifier |\n",
            "+================+==========================+========================+\n",
            "| Accuracy       |                 0.878788 |               0.878788 |\n",
            "+----------------+--------------------------+------------------------+\n",
            "| Precision      |                 0.877449 |               0.877197 |\n",
            "+----------------+--------------------------+------------------------+\n"
          ]
        }
      ]
    }
  ]
}