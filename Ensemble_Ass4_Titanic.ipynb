{
  "nbformat": 4,
  "nbformat_minor": 0,
  "metadata": {
    "colab": {
      "provenance": [],
      "authorship_tag": "ABX9TyOUklFrX2VJnANxNmPkFFv0",
      "include_colab_link": true
    },
    "kernelspec": {
      "name": "python3",
      "display_name": "Python 3"
    },
    "language_info": {
      "name": "python"
    }
  },
  "cells": [
    {
      "cell_type": "markdown",
      "metadata": {
        "id": "view-in-github",
        "colab_type": "text"
      },
      "source": [
        "<a href=\"https://colab.research.google.com/github/OmriMan/EnsembleLearning_EnsembleDiversity_Assignment4/blob/main/Ensemble_Ass4_Titanic.ipynb\" target=\"_parent\"><img src=\"https://colab.research.google.com/assets/colab-badge.svg\" alt=\"Open In Colab\"/></a>"
      ]
    },
    {
      "cell_type": "markdown",
      "source": [
        "https://www.kaggle.com/code/chazzer/ml-grandmaster-decision-tree-classifier"
      ],
      "metadata": {
        "id": "0TAluNcdt2Pn"
      }
    },
    {
      "cell_type": "markdown",
      "source": [
        "Packages"
      ],
      "metadata": {
        "id": "o14SzdTzt6mM"
      }
    },
    {
      "cell_type": "code",
      "source": [
        "import numpy as np  \n",
        "import pandas as pd  \n",
        "\n",
        "from sklearn.ensemble import RandomForestClassifier\n",
        "from sklearn.ensemble import ExtraTreesClassifier\n",
        "from matplotlib import pyplot as plt  \n",
        "from sklearn.tree import plot_tree \n",
        "from sklearn.model_selection import train_test_split\n",
        "from sklearn.model_selection import RandomizedSearchCV\n",
        "from sklearn.metrics import accuracy_score\n",
        "from sklearn.metrics import precision_score\n",
        "\n",
        "import random\n",
        "from tabulate import tabulate"
      ],
      "metadata": {
        "id": "wBaZJwWgt6vY"
      },
      "execution_count": 94,
      "outputs": []
    },
    {
      "cell_type": "markdown",
      "source": [
        "#Dataset -Titanic\n",
        "\n",
        "Source: https://www.kaggle.com/competitions/titanic/data\n",
        "\n",
        "survival: Survival, 0 = No, 1 = Yes\n",
        "\n",
        "pclass: Ticket class, 1 = 1st, 2 = 2nd, 3 = 3rd\n",
        "\n",
        "sex: Sex. Female = 1,Male = 0\n",
        "\n",
        "Age: Age in years.Missing values ​​were replaced by the mean ages in the data set\n",
        "\n",
        "sibsp: numer of siblings / spouses aboard the Titanic\n",
        "\n",
        "parch: number of parents / children aboard the Titanic\n",
        "\n",
        "ticket: Ticket number.We did not use this feature\n",
        "\n",
        "fare: Passenger fare.Missing values ​​were replaced by the mean fare values in the data set\n",
        "\n",
        "cabin: Cabin number.We did not use this feature\n",
        "\n",
        "embarked: Port of Embarkation C=Cherbourg,Q=Queenstown,S=Southampton.We replaced the values ​​as follows: S=0,C=1,Q=2"
      ],
      "metadata": {
        "id": "3W4WXKPPuVV0"
      }
    },
    {
      "cell_type": "code",
      "execution_count": 95,
      "metadata": {
        "id": "QdAjxJgPt08x"
      },
      "outputs": [],
      "source": [
        "def preprocess(df):\n",
        "    # Putting on index to each dataset before split it\n",
        "    df = df.set_index(\"PassengerId\")\n",
        "    # Sex\n",
        "    change = {'female':1,'male':0}\n",
        "    df.Sex = df.Sex.map(change)\n",
        "\n",
        "    # Embarked\n",
        "    change = {'S':0,'C':1,'Q':2}\n",
        "    df.Embarked = df.Embarked.map(change)\n",
        "    df['Embarked'] = df['Embarked'].replace(to_replace = np.nan, value =1)\n",
        "\n",
        "    # df['Age'] = df['Age'].groupby(df['Age'].isnull()).mean()\n",
        "    df['Age'] = df['Age'].replace(to_replace = np.nan, value =df['Age'].mean())\n",
        "    # df['Age'] = df['Age'].replace(to_replace = np.nan, value =50)\n",
        "    df['Fare'] = df['Fare'].replace(to_replace = np.nan, value =df['Fare'].mean())\n",
        "    df = df.drop(columns=['Name','Ticket','Cabin'])\n",
        "    return df"
      ]
    },
    {
      "cell_type": "markdown",
      "source": [
        "Load the data set"
      ],
      "metadata": {
        "id": "TeDRfnqLu7MK"
      }
    },
    {
      "cell_type": "code",
      "source": [
        "df = pd.read_csv('/content/sample_data/titanic.csv')\n",
        "df.isna().sum()"
      ],
      "metadata": {
        "colab": {
          "base_uri": "https://localhost:8080/"
        },
        "id": "vURr828QvFas",
        "outputId": "e4e96274-0f6c-473e-b9b4-2d1e729abbee"
      },
      "execution_count": 96,
      "outputs": [
        {
          "output_type": "execute_result",
          "data": {
            "text/plain": [
              "PassengerId       0\n",
              "Survived          0\n",
              "Pclass            0\n",
              "Name              0\n",
              "Sex               0\n",
              "Age             263\n",
              "SibSp             0\n",
              "Parch             0\n",
              "Ticket            0\n",
              "Fare              1\n",
              "Cabin          1014\n",
              "Embarked          2\n",
              "dtype: int64"
            ]
          },
          "metadata": {},
          "execution_count": 96
        }
      ]
    },
    {
      "cell_type": "code",
      "source": [
        "df = preprocess(df)\n",
        "features = ['Pclass',\t'Sex',\t'Age',\t'SibSp',\t'Parch',\t'Fare',\t'Embarked']\n",
        "X = df.loc[:, features]\n",
        "y = df.loc[:, ['Survived']]"
      ],
      "metadata": {
        "id": "9Rw3U6Wku21j"
      },
      "execution_count": 97,
      "outputs": []
    },
    {
      "cell_type": "markdown",
      "source": [
        "Split the data into training and testin sets"
      ],
      "metadata": {
        "id": "9RYOdRLrvbd5"
      }
    },
    {
      "cell_type": "code",
      "source": [
        "X_train, X_test, y_train, y_test = train_test_split(X, y, random_state=0, train_size = .75)\n",
        "X_test"
      ],
      "metadata": {
        "colab": {
          "base_uri": "https://localhost:8080/",
          "height": 455
        },
        "id": "2OMqbT2wvWtT",
        "outputId": "2057ffd5-bf71-4f3c-f9d6-3405934fdb24"
      },
      "execution_count": 98,
      "outputs": [
        {
          "output_type": "execute_result",
          "data": {
            "text/plain": [
              "             Pclass  Sex        Age  SibSp  Parch      Fare  Embarked\n",
              "PassengerId                                                          \n",
              "1140              2    1  29.000000      1      0   26.0000       0.0\n",
              "534               3    1  29.881138      0      2   22.3583       1.0\n",
              "460               3    0  29.881138      0      0    7.7500       2.0\n",
              "1151              3    0  21.000000      0      0    7.7750       0.0\n",
              "394               1    1  23.000000      1      0  113.2750       1.0\n",
              "...             ...  ...        ...    ...    ...       ...       ...\n",
              "365               3    0  29.881138      1      0   15.5000       2.0\n",
              "495               3    0  21.000000      0      0    8.0500       0.0\n",
              "709               1    1  22.000000      0      0  151.5500       0.0\n",
              "647               3    0  19.000000      0      0    7.8958       0.0\n",
              "1279              2    0  57.000000      0      0   13.0000       0.0\n",
              "\n",
              "[328 rows x 7 columns]"
            ],
            "text/html": [
              "\n",
              "  <div id=\"df-d44fd9e7-8132-416d-8a28-53e2a4467a3b\">\n",
              "    <div class=\"colab-df-container\">\n",
              "      <div>\n",
              "<style scoped>\n",
              "    .dataframe tbody tr th:only-of-type {\n",
              "        vertical-align: middle;\n",
              "    }\n",
              "\n",
              "    .dataframe tbody tr th {\n",
              "        vertical-align: top;\n",
              "    }\n",
              "\n",
              "    .dataframe thead th {\n",
              "        text-align: right;\n",
              "    }\n",
              "</style>\n",
              "<table border=\"1\" class=\"dataframe\">\n",
              "  <thead>\n",
              "    <tr style=\"text-align: right;\">\n",
              "      <th></th>\n",
              "      <th>Pclass</th>\n",
              "      <th>Sex</th>\n",
              "      <th>Age</th>\n",
              "      <th>SibSp</th>\n",
              "      <th>Parch</th>\n",
              "      <th>Fare</th>\n",
              "      <th>Embarked</th>\n",
              "    </tr>\n",
              "    <tr>\n",
              "      <th>PassengerId</th>\n",
              "      <th></th>\n",
              "      <th></th>\n",
              "      <th></th>\n",
              "      <th></th>\n",
              "      <th></th>\n",
              "      <th></th>\n",
              "      <th></th>\n",
              "    </tr>\n",
              "  </thead>\n",
              "  <tbody>\n",
              "    <tr>\n",
              "      <th>1140</th>\n",
              "      <td>2</td>\n",
              "      <td>1</td>\n",
              "      <td>29.000000</td>\n",
              "      <td>1</td>\n",
              "      <td>0</td>\n",
              "      <td>26.0000</td>\n",
              "      <td>0.0</td>\n",
              "    </tr>\n",
              "    <tr>\n",
              "      <th>534</th>\n",
              "      <td>3</td>\n",
              "      <td>1</td>\n",
              "      <td>29.881138</td>\n",
              "      <td>0</td>\n",
              "      <td>2</td>\n",
              "      <td>22.3583</td>\n",
              "      <td>1.0</td>\n",
              "    </tr>\n",
              "    <tr>\n",
              "      <th>460</th>\n",
              "      <td>3</td>\n",
              "      <td>0</td>\n",
              "      <td>29.881138</td>\n",
              "      <td>0</td>\n",
              "      <td>0</td>\n",
              "      <td>7.7500</td>\n",
              "      <td>2.0</td>\n",
              "    </tr>\n",
              "    <tr>\n",
              "      <th>1151</th>\n",
              "      <td>3</td>\n",
              "      <td>0</td>\n",
              "      <td>21.000000</td>\n",
              "      <td>0</td>\n",
              "      <td>0</td>\n",
              "      <td>7.7750</td>\n",
              "      <td>0.0</td>\n",
              "    </tr>\n",
              "    <tr>\n",
              "      <th>394</th>\n",
              "      <td>1</td>\n",
              "      <td>1</td>\n",
              "      <td>23.000000</td>\n",
              "      <td>1</td>\n",
              "      <td>0</td>\n",
              "      <td>113.2750</td>\n",
              "      <td>1.0</td>\n",
              "    </tr>\n",
              "    <tr>\n",
              "      <th>...</th>\n",
              "      <td>...</td>\n",
              "      <td>...</td>\n",
              "      <td>...</td>\n",
              "      <td>...</td>\n",
              "      <td>...</td>\n",
              "      <td>...</td>\n",
              "      <td>...</td>\n",
              "    </tr>\n",
              "    <tr>\n",
              "      <th>365</th>\n",
              "      <td>3</td>\n",
              "      <td>0</td>\n",
              "      <td>29.881138</td>\n",
              "      <td>1</td>\n",
              "      <td>0</td>\n",
              "      <td>15.5000</td>\n",
              "      <td>2.0</td>\n",
              "    </tr>\n",
              "    <tr>\n",
              "      <th>495</th>\n",
              "      <td>3</td>\n",
              "      <td>0</td>\n",
              "      <td>21.000000</td>\n",
              "      <td>0</td>\n",
              "      <td>0</td>\n",
              "      <td>8.0500</td>\n",
              "      <td>0.0</td>\n",
              "    </tr>\n",
              "    <tr>\n",
              "      <th>709</th>\n",
              "      <td>1</td>\n",
              "      <td>1</td>\n",
              "      <td>22.000000</td>\n",
              "      <td>0</td>\n",
              "      <td>0</td>\n",
              "      <td>151.5500</td>\n",
              "      <td>0.0</td>\n",
              "    </tr>\n",
              "    <tr>\n",
              "      <th>647</th>\n",
              "      <td>3</td>\n",
              "      <td>0</td>\n",
              "      <td>19.000000</td>\n",
              "      <td>0</td>\n",
              "      <td>0</td>\n",
              "      <td>7.8958</td>\n",
              "      <td>0.0</td>\n",
              "    </tr>\n",
              "    <tr>\n",
              "      <th>1279</th>\n",
              "      <td>2</td>\n",
              "      <td>0</td>\n",
              "      <td>57.000000</td>\n",
              "      <td>0</td>\n",
              "      <td>0</td>\n",
              "      <td>13.0000</td>\n",
              "      <td>0.0</td>\n",
              "    </tr>\n",
              "  </tbody>\n",
              "</table>\n",
              "<p>328 rows × 7 columns</p>\n",
              "</div>\n",
              "      <button class=\"colab-df-convert\" onclick=\"convertToInteractive('df-d44fd9e7-8132-416d-8a28-53e2a4467a3b')\"\n",
              "              title=\"Convert this dataframe to an interactive table.\"\n",
              "              style=\"display:none;\">\n",
              "        \n",
              "  <svg xmlns=\"http://www.w3.org/2000/svg\" height=\"24px\"viewBox=\"0 0 24 24\"\n",
              "       width=\"24px\">\n",
              "    <path d=\"M0 0h24v24H0V0z\" fill=\"none\"/>\n",
              "    <path d=\"M18.56 5.44l.94 2.06.94-2.06 2.06-.94-2.06-.94-.94-2.06-.94 2.06-2.06.94zm-11 1L8.5 8.5l.94-2.06 2.06-.94-2.06-.94L8.5 2.5l-.94 2.06-2.06.94zm10 10l.94 2.06.94-2.06 2.06-.94-2.06-.94-.94-2.06-.94 2.06-2.06.94z\"/><path d=\"M17.41 7.96l-1.37-1.37c-.4-.4-.92-.59-1.43-.59-.52 0-1.04.2-1.43.59L10.3 9.45l-7.72 7.72c-.78.78-.78 2.05 0 2.83L4 21.41c.39.39.9.59 1.41.59.51 0 1.02-.2 1.41-.59l7.78-7.78 2.81-2.81c.8-.78.8-2.07 0-2.86zM5.41 20L4 18.59l7.72-7.72 1.47 1.35L5.41 20z\"/>\n",
              "  </svg>\n",
              "      </button>\n",
              "      \n",
              "  <style>\n",
              "    .colab-df-container {\n",
              "      display:flex;\n",
              "      flex-wrap:wrap;\n",
              "      gap: 12px;\n",
              "    }\n",
              "\n",
              "    .colab-df-convert {\n",
              "      background-color: #E8F0FE;\n",
              "      border: none;\n",
              "      border-radius: 50%;\n",
              "      cursor: pointer;\n",
              "      display: none;\n",
              "      fill: #1967D2;\n",
              "      height: 32px;\n",
              "      padding: 0 0 0 0;\n",
              "      width: 32px;\n",
              "    }\n",
              "\n",
              "    .colab-df-convert:hover {\n",
              "      background-color: #E2EBFA;\n",
              "      box-shadow: 0px 1px 2px rgba(60, 64, 67, 0.3), 0px 1px 3px 1px rgba(60, 64, 67, 0.15);\n",
              "      fill: #174EA6;\n",
              "    }\n",
              "\n",
              "    [theme=dark] .colab-df-convert {\n",
              "      background-color: #3B4455;\n",
              "      fill: #D2E3FC;\n",
              "    }\n",
              "\n",
              "    [theme=dark] .colab-df-convert:hover {\n",
              "      background-color: #434B5C;\n",
              "      box-shadow: 0px 1px 3px 1px rgba(0, 0, 0, 0.15);\n",
              "      filter: drop-shadow(0px 1px 2px rgba(0, 0, 0, 0.3));\n",
              "      fill: #FFFFFF;\n",
              "    }\n",
              "  </style>\n",
              "\n",
              "      <script>\n",
              "        const buttonEl =\n",
              "          document.querySelector('#df-d44fd9e7-8132-416d-8a28-53e2a4467a3b button.colab-df-convert');\n",
              "        buttonEl.style.display =\n",
              "          google.colab.kernel.accessAllowed ? 'block' : 'none';\n",
              "\n",
              "        async function convertToInteractive(key) {\n",
              "          const element = document.querySelector('#df-d44fd9e7-8132-416d-8a28-53e2a4467a3b');\n",
              "          const dataTable =\n",
              "            await google.colab.kernel.invokeFunction('convertToInteractive',\n",
              "                                                     [key], {});\n",
              "          if (!dataTable) return;\n",
              "\n",
              "          const docLinkHtml = 'Like what you see? Visit the ' +\n",
              "            '<a target=\"_blank\" href=https://colab.research.google.com/notebooks/data_table.ipynb>data table notebook</a>'\n",
              "            + ' to learn more about interactive tables.';\n",
              "          element.innerHTML = '';\n",
              "          dataTable['output_type'] = 'display_data';\n",
              "          await google.colab.output.renderOutput(dataTable, element);\n",
              "          const docLink = document.createElement('div');\n",
              "          docLink.innerHTML = docLinkHtml;\n",
              "          element.appendChild(docLink);\n",
              "        }\n",
              "      </script>\n",
              "    </div>\n",
              "  </div>\n",
              "  "
            ]
          },
          "metadata": {},
          "execution_count": 98
        }
      ]
    },
    {
      "cell_type": "markdown",
      "source": [
        "#Target class distribution\n"
      ],
      "metadata": {
        "id": "fTIQIzOuviHd"
      }
    },
    {
      "cell_type": "code",
      "source": [
        "target = df['Survived']\n",
        "target.value_counts()"
      ],
      "metadata": {
        "colab": {
          "base_uri": "https://localhost:8080/"
        },
        "id": "mIc2dwcYvjzI",
        "outputId": "cf3650f2-302e-460b-c64b-a5bf272d3341"
      },
      "execution_count": 99,
      "outputs": [
        {
          "output_type": "execute_result",
          "data": {
            "text/plain": [
              "0    815\n",
              "1    494\n",
              "Name: Survived, dtype: int64"
            ]
          },
          "metadata": {},
          "execution_count": 99
        }
      ]
    },
    {
      "cell_type": "markdown",
      "source": [
        "#Define and train the models with default hyper parameters\n",
        "we are using 100 trees for each ensemble. Leave the other parameters at their default settings.\n"
      ],
      "metadata": {
        "id": "JEwHH0vHvqrI"
      }
    },
    {
      "cell_type": "markdown",
      "source": [
        "Random Forest"
      ],
      "metadata": {
        "id": "5GXVvWQqwAtc"
      }
    },
    {
      "cell_type": "code",
      "source": [
        "model_rf = RandomForestClassifier(n_estimators=100)\n",
        "\n",
        "model_rf.fit(X_train,np.ravel(y_train))"
      ],
      "metadata": {
        "colab": {
          "base_uri": "https://localhost:8080/"
        },
        "id": "pxlYmGI6v_36",
        "outputId": "eef896be-171c-47c8-c96d-99ad72db1b65"
      },
      "execution_count": 100,
      "outputs": [
        {
          "output_type": "execute_result",
          "data": {
            "text/plain": [
              "RandomForestClassifier()"
            ]
          },
          "metadata": {},
          "execution_count": 100
        }
      ]
    },
    {
      "cell_type": "code",
      "source": [
        "inputs = pd.DataFrame(X_test)\n",
        "prediction_RandomForestClassifier = model_rf.predict(\n",
        "    inputs\n",
        ")\n",
        "accuracy_RandomForestClassifier = accuracy_score(y_test,prediction_RandomForestClassifier)\n",
        "print(f\"Accuracy score of RandomForestClassifier = {accuracy_RandomForestClassifier}\")\n",
        "\n",
        "precision_RandomForestClassifier = precision_score(y_test,prediction_RandomForestClassifier,average='weighted')\n",
        "print(f\"Precision score of RandomForestClassifier = {precision_RandomForestClassifier}\")"
      ],
      "metadata": {
        "colab": {
          "base_uri": "https://localhost:8080/"
        },
        "id": "zMNja-n5wNH_",
        "outputId": "91d17113-ccb6-4e5e-d821-c8c8a0692560"
      },
      "execution_count": 101,
      "outputs": [
        {
          "output_type": "stream",
          "name": "stdout",
          "text": [
            "Accuracy score of RandomForestClassifier = 0.8597560975609756\n",
            "Precision score of RandomForestClassifier = 0.8599780761852562\n"
          ]
        }
      ]
    },
    {
      "cell_type": "markdown",
      "source": [
        "Extremely Randomized Trees"
      ],
      "metadata": {
        "id": "cN-m9sX4wO9_"
      }
    },
    {
      "cell_type": "code",
      "source": [
        "model_ExtraTreesClassifier = ExtraTreesClassifier(n_estimators=100)\n",
        "model_ExtraTreesClassifier.fit(X_train,np.ravel(y_train))"
      ],
      "metadata": {
        "colab": {
          "base_uri": "https://localhost:8080/"
        },
        "id": "S-SiIB3RwPr0",
        "outputId": "17398c96-2cac-48ed-e359-49c0f4d020f1"
      },
      "execution_count": 102,
      "outputs": [
        {
          "output_type": "execute_result",
          "data": {
            "text/plain": [
              "ExtraTreesClassifier()"
            ]
          },
          "metadata": {},
          "execution_count": 102
        }
      ]
    },
    {
      "cell_type": "code",
      "source": [
        "inputs = pd.DataFrame(X_test)\n",
        "prediction_ExtraTreesClassifier = model_ExtraTreesClassifier.predict(\n",
        "    inputs\n",
        ")\n",
        "accuracy_ExtraTreesClassifier = accuracy_score(y_test,prediction_ExtraTreesClassifier)\n",
        "print(f\"Accuracy score of ExtraTreesClassifier = {accuracy_ExtraTreesClassifier}\")\n",
        "\n",
        "precision_ExtraTreesClassifier = precision_score(y_test,prediction_ExtraTreesClassifier,average='weighted')\n",
        "print(f\"Precision score of ExtraTreesClassifier = {precision_ExtraTreesClassifier}\")"
      ],
      "metadata": {
        "colab": {
          "base_uri": "https://localhost:8080/"
        },
        "id": "sezF8HqWwsBm",
        "outputId": "4dc807b2-99e3-499a-a8f5-10a8a30de57e"
      },
      "execution_count": 103,
      "outputs": [
        {
          "output_type": "stream",
          "name": "stdout",
          "text": [
            "Accuracy score of ExtraTreesClassifier = 0.8353658536585366\n",
            "Precision score of ExtraTreesClassifier = 0.8359602929163262\n"
          ]
        }
      ]
    },
    {
      "cell_type": "markdown",
      "source": [
        "#Summary - Titanic dataset"
      ],
      "metadata": {
        "id": "kgz7MMwKwWxb"
      }
    },
    {
      "cell_type": "code",
      "source": [
        "print(tabulate([[\"Accuracy\",accuracy_RandomForestClassifier,accuracy_ExtraTreesClassifier],[\"Precision\",precision_RandomForestClassifier,precision_ExtraTreesClassifier]], headers=[\"Metric\\Model\",\"RandomForestClassifier\",\"ExtraTreesClassifier\"], tablefmt=\"grid\"))"
      ],
      "metadata": {
        "colab": {
          "base_uri": "https://localhost:8080/"
        },
        "id": "-brN5aMBwZVK",
        "outputId": "c13b01ee-548b-4de6-8758-1e61528181df"
      },
      "execution_count": 104,
      "outputs": [
        {
          "output_type": "stream",
          "name": "stdout",
          "text": [
            "+----------------+--------------------------+------------------------+\n",
            "| Metric\\Model   |   RandomForestClassifier |   ExtraTreesClassifier |\n",
            "+================+==========================+========================+\n",
            "| Accuracy       |                 0.859756 |               0.835366 |\n",
            "+----------------+--------------------------+------------------------+\n",
            "| Precision      |                 0.859978 |               0.83596  |\n",
            "+----------------+--------------------------+------------------------+\n"
          ]
        }
      ]
    },
    {
      "cell_type": "markdown",
      "source": [
        "##Diversity measurements"
      ],
      "metadata": {
        "id": "LhBAkNENlr8v"
      }
    },
    {
      "cell_type": "code",
      "source": [
        "# import diversity_measures as diversity_measures\n",
        "from diversity_measures import *"
      ],
      "metadata": {
        "id": "bbpAVafOmatv"
      },
      "execution_count": 105,
      "outputs": []
    },
    {
      "cell_type": "markdown",
      "source": [
        "Double Fault Measure"
      ],
      "metadata": {
        "id": "DgKnCPJFluwC"
      }
    },
    {
      "cell_type": "code",
      "source": [
        "inputs_train = pd.DataFrame(X_train)\n",
        "def DoubleFaultMeasure(s, set_of_classifiers):\n",
        "  train_set=s[0]\n",
        "  sum = 0\n",
        "  i_index = 0\n",
        "  predictions =[]\n",
        "  # For each classifier, insert all its predictions (depending on the index of x) into the list .\n",
        "  for classifier in set_of_classifiers:\n",
        "    preds = classifier.predict(train_set.values)\n",
        "    predictions.append((classifier,preds))\n",
        "  for i,model_i_predictions in predictions:\n",
        "    # i.fit(X_train,np.ravel(y_train))\n",
        "    # preds_i = i.predict(inputs_train.values)\n",
        "    for j,model_j_predictions in predictions[i_index:]:\n",
        "      num_of_instances = 0\n",
        "      if i != j: # if not the same tree\n",
        "        # preds_j = j.predict(inputs_train.values)\n",
        "        for k in range(len(np.ravel(y_train))):\n",
        "          if (model_i_predictions[k] != np.ravel(y_train)[k] and model_j_predictions[k] != np.ravel(y_train)[k]): # if both trees misclasified then add 1 to num of instances...\n",
        "            num_of_instances += 1\n",
        "\n",
        "        sum += num_of_instances\n",
        "    i_index += 1\n",
        "    # print(i_index)\n",
        "\n",
        "  res = (2*sum)/(len(train_set)*len(set_of_classifiers)*(len(set_of_classifiers)-1))\n",
        "  return res"
      ],
      "metadata": {
        "id": "IWuTHskhltMY"
      },
      "execution_count": 106,
      "outputs": []
    },
    {
      "cell_type": "code",
      "source": [
        "# DoubleFaultMeasure((X_train,y_train),model_rf)"
      ],
      "metadata": {
        "id": "KyRlT16FlysM"
      },
      "execution_count": 107,
      "outputs": []
    },
    {
      "cell_type": "markdown",
      "source": [
        "Kohavi Wolpert"
      ],
      "metadata": {
        "id": "1JkO6t5wlxsL"
      }
    },
    {
      "cell_type": "code",
      "source": [
        "def kohavi_wolpert(s,m):\n",
        "  '''\n",
        "  s - the original training set tuple of (X_train,y_train) --> ((dataframe),((dataframe))\n",
        "  s[0] = x train\n",
        "  s[1] = y train\n",
        "  m - list of classifiers examined\n",
        "  '''\n",
        "  x = s[0]\n",
        "  y=s[1]\n",
        "  predictions =[]\n",
        "  sum =0\n",
        "  # For each classifier, insert all its predictions (depending on the index of x) into the list .\n",
        "  for classifier in m:\n",
        "    preds = classifier.predict(x.values)\n",
        "    predictions.append(preds)\n",
        "  # Run through all the records in the training set and for each record : count the number of classifiers that made an incorrect classification(misclassified)\n",
        "  l_i=0\n",
        "  for (index_x, x_i),(index_y, y_i),pred_index in zip(x.iterrows(),y.iterrows(),range(len(predictions[0]))):\n",
        "    l_i=0\n",
        "    for model_i_prediction in predictions:\n",
        "      # l_i = number of classifiers misclassified x_i,y_i\n",
        "      if model_i_prediction[pred_index] != y_i.values:\n",
        "        l_i+=1\n",
        "      #end sum all misclassification for x_i,y_i\n",
        "    #sum = sum + l_i * (len(m) - l_i)\n",
        "    sum = sum + ( l_i * ( len(m)-l_i ) ) \n",
        "  # print(f\"sum/(len(x)*(len(m)**2)) : {sum/(len(x)*(len(m)**2))}\")\n",
        "  return (sum) / ( len(y) * (len(m)**2) )"
      ],
      "metadata": {
        "id": "ILi4pgkwlyOl"
      },
      "execution_count": 108,
      "outputs": []
    },
    {
      "cell_type": "code",
      "source": [
        "# kohavi_wolpert((X_train,y_train),model_rf.estimators_)"
      ],
      "metadata": {
        "id": "OZ3W6h2ql3xA"
      },
      "execution_count": 109,
      "outputs": []
    },
    {
      "cell_type": "markdown",
      "source": [
        "Inter Rater Measure"
      ],
      "metadata": {
        "id": "bnfSHgDGl-fb"
      }
    },
    {
      "cell_type": "code",
      "source": [
        "def inter_rater_measure(s,m):\n",
        "    '''\n",
        "    s - the original training set tuple of (X_train,y_train) --> ((dataframe),((dataframe))\n",
        "    s[0] = x train\n",
        "    s[1] = y train\n",
        "    m - list of classifiers examined\n",
        "    '''\n",
        "    x = s[0]\n",
        "    y=s[1]\n",
        "    predictions =[]\n",
        "    sum =0\n",
        "    # For each classifier, insert all its predictions (depending on the index of x) into the list .\n",
        "    for classifier in m:\n",
        "        preds = classifier.predict(x.values)\n",
        "        predictions.append(preds)\n",
        "    # Run through all the records in the training set and for each record : count the number of classifiers that made an incorrect classification(misclassified)\n",
        "    l=[]\n",
        "    for (index_x, x_i),(index_y, y_i),pred_index in zip(x.iterrows(),y.iterrows(),range(len(predictions[0]))):\n",
        "        l_i=0\n",
        "        for model_i_prediction in predictions:\n",
        "            # l_i = number of classifiers misclassified x_i,y_i\n",
        "            if model_i_prediction[pred_index] != y_i.values:\n",
        "                l_i+=1\n",
        "            #end sum all misclassification for x_i,y_i\n",
        "        l.append(l_i)\n",
        "        #sum = sum + l_i * (len(m) - l_i)\n",
        "        sum = sum + ( l_i * ( len(m) - l_i) )\n",
        "    # p = 1 - ( sum(l) / (|s| *|m|) )\n",
        "    sum_l=0\n",
        "    for val in l:\n",
        "        sum_l+=val\n",
        "    p = 1 - ( sum_l / (len(x)*len(m)) )\n",
        "    if p==1:\n",
        "        return 1\n",
        "    result = 1 - (sum / ( len(x)*len(m)*(len(m)-1)*p*(1-p)  ) )\n",
        "    return result"
      ],
      "metadata": {
        "id": "ayFUAnTOl-s3"
      },
      "execution_count": 110,
      "outputs": []
    },
    {
      "cell_type": "code",
      "source": [
        "# inter_rater_measure((X_train,y_train),model_rf.estimators_)"
      ],
      "metadata": {
        "id": "yCkNWbk8l-17"
      },
      "execution_count": 111,
      "outputs": []
    },
    {
      "cell_type": "markdown",
      "source": [
        "General Diversity"
      ],
      "metadata": {
        "id": "rXAhEE-gmEzy"
      }
    },
    {
      "cell_type": "code",
      "source": [
        "import statistics\n",
        "def general_diversity(s,m):\n",
        "  '''\n",
        "  s - the original training set tuple of (X_train,y_train) --> ((dataframe),((dataframe))\n",
        "  s[0] = x train\n",
        "  s[1] = y train\n",
        "  m - list of classifiers examined\n",
        "  '''\n",
        "  x = s[0]\n",
        "  y=s[1]\n",
        "  predictions =[]\n",
        "  # For each classifier, insert all its predictions (depending on the index of x) into the list .\n",
        "  for classifier in m:\n",
        "    preds = classifier.predict(x.values)\n",
        "    predictions.append(preds)\n",
        "  # Run through all the records in the training set and for each record : count the number of classifiers that made an incorrect classification(misclassified)\n",
        "  v=[]\n",
        "  for (index_x, x_i),(index_y, y_i),pred_index in zip(x.iterrows(),y.iterrows(),range(len(predictions[0]))):\n",
        "    l_i=0\n",
        "    for model_i_prediction in predictions:\n",
        "      # l_i = number of classifiers misclassified x_i,y_i\n",
        "      if model_i_prediction[pred_index] != y_i.values:\n",
        "        l_i+=1\n",
        "      #end sum all misclassification for x_i,y_i\n",
        "    v_i= (len(m)-l_i) / len(m)\n",
        "    v.append(v_i)\n",
        "  # end of run through all the records in the training set and for each record : count the number of classifiers that made an incorrect classification(misclassified)\n",
        "  # compute variance of v using statistics.variance\n",
        "  variance_v = statistics.variance(v)\n",
        "  return variance_v"
      ],
      "metadata": {
        "id": "50pcc3y4mHeN"
      },
      "execution_count": 112,
      "outputs": []
    },
    {
      "cell_type": "code",
      "source": [
        "# general_diversity((X_train,y_train),model_rf.estimators_)"
      ],
      "metadata": {
        "id": "hIKoDjWimHmr"
      },
      "execution_count": 113,
      "outputs": []
    },
    {
      "cell_type": "markdown",
      "source": [
        "#Bagging using diversity"
      ],
      "metadata": {
        "id": "ArmX3KlcmK4q"
      }
    },
    {
      "cell_type": "code",
      "source": [
        "from sklearn.metrics import classification_report, confusion_matrix\n",
        "from functools import reduce\n",
        "\n",
        "def bagging_using_Diversity(i,t,s,d):\n",
        "  '''\n",
        "  i - a base inducer\n",
        "  t - number of iterations\n",
        "  s - the original training set\n",
        "  d- diversity measure - { \"\"  :kohavi_wolpert , \"\" :inter_rater_measure ,\"general diversity\": general_diversity }\n",
        "  '''\n",
        "  diversity_measure = {\"Double Fault Measure\": DoubleFaultMeasure, \"kohavi wolpert\"  :kohavi_wolpert , \"inter rater measure\" :inter_rater_measure ,\"general diversity\": general_diversity }\n",
        "  m_ts =[]\n",
        "  #m_ts - list of tuples - each tuple in the following format : (model,number_of_misclassifieds)\n",
        "  # m_ts --> [(model1,number_of_misclassifieds1),(model2,number_of_misclassifieds2),...,(model_t,number_of_misclassifieds_t)]\n",
        "  for iter in range(t):\n",
        "    s_tag = s.sample(frac = 1)\n",
        "    m_t = i.estimators_[iter]\n",
        "    x = s_tag.loc[:, features]\n",
        "    y = s_tag.loc[:, ['Survived']]\n",
        "    preds = m_t.predict(x.values)\n",
        "    # confusion_matrix(y,preds) - [[ture_positive, false_positive][false_neg,true_neg]]\n",
        "    number_of_misclassifieds = confusion_matrix(y,preds)[0][1] + confusion_matrix(y,preds)[1][0]\n",
        "    m_ts.append((m_t,number_of_misclassifieds))\n",
        "  # end of rows 1-3\n",
        "  x = s.loc[:, features]\n",
        "  y = s.loc[:, ['Survived']]\n",
        "  # 5\n",
        "  m_tag=[]\n",
        "  # use reduce() and min() to find the minimum value in the second element of each tuple\n",
        "  min_misclassifields = reduce(lambda x, y: min(x, y[1]), m_ts, float(\"inf\"))\n",
        "  # Find an element (model,number_of_misclassifieds) in m_ts(list of tuples).\n",
        "  m_tags_optinals = [item for item in m_ts if item[1] == min_misclassifields]\n",
        "  # m_tags_optinals - list of tuples [(model1,min_misclassifields),...]\n",
        "  m_tag.append(m_tags_optinals[0][0])\n",
        "  m_ts.remove(m_tags_optinals[0])\n",
        "  # 6\n",
        "  for i in range(1,int((t/2)-1)):\n",
        "    results_of_d =[]\n",
        "    # results_of_d - list of tuples - each tuple in the following format : (model,diversity measure value)\n",
        "    if (d==\"Double Fault Measure\" or d==\"kohavi wolpert\" or d==\"general diversity\"):\n",
        "      # need to take the model that return maximum diversity measure\n",
        "      print(i)\n",
        "      for temp_model,number_of_misclassifieds in m_ts:\n",
        "        # m_tag_only_models = [tup[0] for tup in m_tag]\n",
        "        results_of_d.append( (temp_model, diversity_measure[d]((x,y),m_tag+[temp_model])) )\n",
        "      # need to find maximum value of diversity measure\n",
        "      # use reduce() and min() to find the minimum value in the second element of each tuple\n",
        "      # results_of_d[0] = (model,diversity measure value)\n",
        "      max_d = reduce(lambda x, y: max(x, y[1]), results_of_d, float(\"-inf\"))\n",
        "      # Find an element (model,diversity measure value) in results_of_d(list of tuples).\n",
        "      m_tags_optinals = [item for item in  results_of_d if item[1] == max_d]\n",
        "      # m_tags_optinals[0] = (model,diversity measure value), e.g: (DecisionTreeClassifier(max_features='auto', random_state=1913246406), 0.014287578288100209)\n",
        "      # m_tags_optinals[0][0] - temp_model\n",
        "      # m_tags_optinals[0][1] - maximum diversity measure value , and its for m_tag with temp_model\n",
        "      # we want to add only the model to m_tag so we add m_tags_optinals[0][0]\n",
        "      m_tag.append(m_tags_optinals[0][0])\n",
        "      # need to find m_tags_optinals[0][0] (the model) in m_ts and remove it from m_ts\n",
        "      model_num_of_mis_tuple_to_remove_from_m_ts = [item for item in m_ts if item[0] == m_tags_optinals[0][0]]\n",
        "      m_ts.remove(model_num_of_mis_tuple_to_remove_from_m_ts[0])\n",
        "    else:\n",
        "      # need to take the model that return minimum diversity measure\n",
        "      print(i)\n",
        "      for temp_model,number_of_misclassifieds in m_ts:\n",
        "        # m_tag_only_models = [tup[0] for tup in m_tag]\n",
        "        results_of_d.append( (temp_model, diversity_measure[d]((x,y),m_tag+[temp_model])) )\n",
        "      # need to find maximum value of diversity measure\n",
        "      # use reduce() and min() to find the minimum value in the second element of each tuple\n",
        "      # results_of_d[0] = (model,diversity measure value)\n",
        "      min_d = reduce(lambda x, y: min(x, y[1]), results_of_d, float(\"inf\"))\n",
        "      # Find an element (model,diversity measure value) in results_of_d(list of tuples).\n",
        "      m_tags_optinals = [item for item in  results_of_d if item[1] == min_d]\n",
        "      # m_tags_optinals[0] = (model,diversity measure value), e.g: (DecisionTreeClassifier(max_features='auto', random_state=1913246406), 0.014287578288100209)\n",
        "      # m_tags_optinals[0][0] - temp_model\n",
        "      # m_tags_optinals[0][1] - minimum diversity measure value , and its for m_tag with temp_model\n",
        "      # we want to add only the model to m_tag so we add m_tags_optinals[0][0]\n",
        "      m_tag.append(m_tags_optinals[0][0])\n",
        "      # need to find m_tags_optinals[0][0] (the model) in m_ts and remove it from m_ts\n",
        "      model_num_of_mis_tuple_to_remove_from_m_ts = [item for item in m_ts if item[0] == m_tags_optinals[0][0]]\n",
        "      m_ts.remove(model_num_of_mis_tuple_to_remove_from_m_ts[0])\n",
        "\n",
        "  return m_tag"
      ],
      "metadata": {
        "id": "7KxNOPxPm6KB"
      },
      "execution_count": 114,
      "outputs": []
    },
    {
      "cell_type": "code",
      "source": [
        "from copy import deepcopy"
      ],
      "metadata": {
        "id": "JpybxzDangxN"
      },
      "execution_count": 115,
      "outputs": []
    },
    {
      "cell_type": "code",
      "source": [
        "train_set_x_and_y = deepcopy(X_train.loc[:, features])\n",
        "train_set_x_and_y['Survived'] = deepcopy(y_train['Survived'])"
      ],
      "metadata": {
        "id": "gVkJcAEFnOlj"
      },
      "execution_count": 116,
      "outputs": []
    },
    {
      "cell_type": "markdown",
      "source": [
        "#Base inducer - Random Forest"
      ],
      "metadata": {
        "id": "0p4ScmvdncZZ"
      }
    },
    {
      "cell_type": "code",
      "source": [
        "RandomForestClassifier_bagging_using_Diversity_Double_Fault_Measure = deepcopy(model_rf)"
      ],
      "metadata": {
        "id": "z-NXOYf_nZgC"
      },
      "execution_count": 117,
      "outputs": []
    },
    {
      "cell_type": "code",
      "source": [
        "RandomForestClassifier_bagging_using_Diversity_kohavi_wolpert = deepcopy(model_rf)"
      ],
      "metadata": {
        "id": "jH-_SWmrpQce"
      },
      "execution_count": 118,
      "outputs": []
    },
    {
      "cell_type": "code",
      "source": [
        "RandomForestClassifier_bagging_using_Diversity_inter_rater_measure = deepcopy(model_rf)"
      ],
      "metadata": {
        "id": "vDijvCYNpQiG"
      },
      "execution_count": 119,
      "outputs": []
    },
    {
      "cell_type": "code",
      "source": [
        "RandomForestClassifier_bagging_using_Diversity_general_diversity = deepcopy(model_rf)"
      ],
      "metadata": {
        "id": "8RreiU7upQoc"
      },
      "execution_count": 120,
      "outputs": []
    },
    {
      "cell_type": "markdown",
      "source": [
        "Kohavi Wolpert"
      ],
      "metadata": {
        "id": "nAECQEDupWsU"
      }
    },
    {
      "cell_type": "code",
      "source": [
        "models_RandomForestClassifier_bagging_using_Diversity_kohavi_wolpert = bagging_using_Diversity(RandomForestClassifier_bagging_using_Diversity_kohavi_wolpert,RandomForestClassifier_bagging_using_Diversity_kohavi_wolpert.n_estimators,train_set_x_and_y,\"kohavi wolpert\")"
      ],
      "metadata": {
        "colab": {
          "base_uri": "https://localhost:8080/"
        },
        "id": "clZ-lL86pXfZ",
        "outputId": "3f9e96e7-e46a-4b7a-c5e3-36f9b9bfd808"
      },
      "execution_count": 121,
      "outputs": [
        {
          "output_type": "stream",
          "name": "stdout",
          "text": [
            "1\n",
            "2\n",
            "3\n",
            "4\n",
            "5\n",
            "6\n",
            "7\n",
            "8\n",
            "9\n",
            "10\n",
            "11\n",
            "12\n",
            "13\n",
            "14\n",
            "15\n",
            "16\n",
            "17\n",
            "18\n",
            "19\n",
            "20\n",
            "21\n",
            "22\n",
            "23\n",
            "24\n",
            "25\n",
            "26\n",
            "27\n",
            "28\n",
            "29\n",
            "30\n",
            "31\n",
            "32\n",
            "33\n",
            "34\n",
            "35\n",
            "36\n",
            "37\n",
            "38\n",
            "39\n",
            "40\n",
            "41\n",
            "42\n",
            "43\n",
            "44\n",
            "45\n",
            "46\n",
            "47\n",
            "48\n"
          ]
        }
      ]
    },
    {
      "cell_type": "code",
      "source": [
        "RandomForestClassifier_bagging_using_Diversity_kohavi_wolpert.estimators_ = models_RandomForestClassifier_bagging_using_Diversity_kohavi_wolpert\n",
        "print(\"Random Forest Classifier - bagging using diversity kohavi-wolpert\")\n",
        "inputs = pd.DataFrame(X_test)\n",
        "prediction_RandomForestClassifier_bagging_using_Diversity_kohavi_wolpert = RandomForestClassifier_bagging_using_Diversity_kohavi_wolpert.predict(inputs)\n",
        "accuracy_RandomForestClassifier_bagging_using_Diversity_kohavi_wolpert = accuracy_score(y_test,prediction_RandomForestClassifier_bagging_using_Diversity_kohavi_wolpert)\n",
        "print(f\"Accuracy score of RandomForestClassifier using diversity kohavi-wolpert = {accuracy_RandomForestClassifier_bagging_using_Diversity_kohavi_wolpert}\")\n",
        "\n",
        "precision_RandomForestClassifier_bagging_using_Diversity_kohavi_wolpert = precision_score(y_test,prediction_RandomForestClassifier_bagging_using_Diversity_kohavi_wolpert,average='weighted')\n",
        "print(f\"Precision score of RandomForestClassifier using diversity kohavi-wolpert = {precision_RandomForestClassifier_bagging_using_Diversity_kohavi_wolpert}\")"
      ],
      "metadata": {
        "colab": {
          "base_uri": "https://localhost:8080/"
        },
        "id": "B57LFlQDpXjG",
        "outputId": "40bc6b2d-d4a1-48cc-f5d8-4e429926b2ef"
      },
      "execution_count": 122,
      "outputs": [
        {
          "output_type": "stream",
          "name": "stdout",
          "text": [
            "Random Forest Classifier - bagging using diversity kohavi-wolpert\n",
            "Accuracy score of RandomForestClassifier using diversity kohavi-wolpert = 0.8475609756097561\n",
            "Precision score of RandomForestClassifier using diversity kohavi-wolpert = 0.8477957431259705\n"
          ]
        }
      ]
    },
    {
      "cell_type": "markdown",
      "source": [
        "Inter Rater Measure"
      ],
      "metadata": {
        "id": "1s-vYIiepbSk"
      }
    },
    {
      "cell_type": "code",
      "source": [
        "models_RandomForestClassifier_bagging_using_Diversity_inter_rater_measure = bagging_using_Diversity(RandomForestClassifier_bagging_using_Diversity_inter_rater_measure,RandomForestClassifier_bagging_using_Diversity_inter_rater_measure.n_estimators,train_set_x_and_y,\"inter rater measure\")"
      ],
      "metadata": {
        "colab": {
          "base_uri": "https://localhost:8080/"
        },
        "id": "lbixeQvupbgW",
        "outputId": "3b5a1252-8057-4402-bef0-95f32497ffb1"
      },
      "execution_count": 123,
      "outputs": [
        {
          "output_type": "stream",
          "name": "stdout",
          "text": [
            "1\n",
            "2\n",
            "3\n",
            "4\n",
            "5\n",
            "6\n",
            "7\n",
            "8\n",
            "9\n",
            "10\n",
            "11\n",
            "12\n",
            "13\n",
            "14\n",
            "15\n",
            "16\n",
            "17\n",
            "18\n",
            "19\n",
            "20\n",
            "21\n",
            "22\n",
            "23\n",
            "24\n",
            "25\n",
            "26\n",
            "27\n",
            "28\n",
            "29\n",
            "30\n",
            "31\n",
            "32\n",
            "33\n",
            "34\n",
            "35\n",
            "36\n",
            "37\n",
            "38\n",
            "39\n",
            "40\n",
            "41\n",
            "42\n",
            "43\n",
            "44\n",
            "45\n",
            "46\n",
            "47\n",
            "48\n"
          ]
        }
      ]
    },
    {
      "cell_type": "code",
      "source": [
        "RandomForestClassifier_bagging_using_Diversity_inter_rater_measure.estimators_ = models_RandomForestClassifier_bagging_using_Diversity_inter_rater_measure\n",
        "print(\"Random Forest Classifier - bagging using diversity Inter-Rater-Measure\")\n",
        "inputs = pd.DataFrame(X_test)\n",
        "prediction_RandomForestClassifier_bagging_using_Diversity_inter_rater_measure = RandomForestClassifier_bagging_using_Diversity_inter_rater_measure.predict(inputs)\n",
        "accuracy_RandomForestClassifier_bagging_using_Diversity_inter_rater_measure = accuracy_score(y_test,prediction_RandomForestClassifier_bagging_using_Diversity_inter_rater_measure)\n",
        "print(f\"Accuracy score of RandomForestClassifier using diversity Inter-Rater-Measure = {accuracy_RandomForestClassifier_bagging_using_Diversity_inter_rater_measure}\")\n",
        "\n",
        "precision_RandomForestClassifier_bagging_using_Diversity_inter_rater_measure = precision_score(y_test,prediction_RandomForestClassifier_bagging_using_Diversity_inter_rater_measure,average='weighted')\n",
        "print(f\"Precision score of RandomForestClassifier using diversity Inter-Rater-Measure = {precision_RandomForestClassifier_bagging_using_Diversity_inter_rater_measure}\")"
      ],
      "metadata": {
        "colab": {
          "base_uri": "https://localhost:8080/"
        },
        "id": "EpZtFd11pbjr",
        "outputId": "7a4df1eb-5af1-4f07-a3f5-bc974b517794"
      },
      "execution_count": 124,
      "outputs": [
        {
          "output_type": "stream",
          "name": "stdout",
          "text": [
            "Random Forest Classifier - bagging using diversity Inter-Rater-Measure\n",
            "Accuracy score of RandomForestClassifier using diversity Inter-Rater-Measure = 0.8536585365853658\n",
            "Precision score of RandomForestClassifier using diversity Inter-Rater-Measure = 0.8542201540436457\n"
          ]
        }
      ]
    },
    {
      "cell_type": "markdown",
      "source": [
        "General Diversity"
      ],
      "metadata": {
        "id": "8AmVtNnMpb3o"
      }
    },
    {
      "cell_type": "code",
      "source": [
        "models_RandomForestClassifier_bagging_using_Diversity_general_diversity = bagging_using_Diversity(RandomForestClassifier_bagging_using_Diversity_general_diversity,RandomForestClassifier_bagging_using_Diversity_general_diversity.n_estimators,train_set_x_and_y,\"general diversity\")"
      ],
      "metadata": {
        "colab": {
          "base_uri": "https://localhost:8080/"
        },
        "id": "Hbp9gjurpcC9",
        "outputId": "d6d8cc48-20d8-47e4-f918-5661ad41fcef"
      },
      "execution_count": 125,
      "outputs": [
        {
          "output_type": "stream",
          "name": "stdout",
          "text": [
            "1\n",
            "2\n",
            "3\n",
            "4\n",
            "5\n",
            "6\n",
            "7\n",
            "8\n",
            "9\n",
            "10\n",
            "11\n",
            "12\n",
            "13\n",
            "14\n",
            "15\n",
            "16\n",
            "17\n",
            "18\n",
            "19\n",
            "20\n",
            "21\n",
            "22\n",
            "23\n",
            "24\n",
            "25\n",
            "26\n",
            "27\n",
            "28\n",
            "29\n",
            "30\n",
            "31\n",
            "32\n",
            "33\n",
            "34\n",
            "35\n",
            "36\n",
            "37\n",
            "38\n",
            "39\n",
            "40\n",
            "41\n",
            "42\n",
            "43\n",
            "44\n",
            "45\n",
            "46\n",
            "47\n",
            "48\n"
          ]
        }
      ]
    },
    {
      "cell_type": "code",
      "source": [
        "RandomForestClassifier_bagging_using_Diversity_general_diversity.estimators_ = models_RandomForestClassifier_bagging_using_Diversity_general_diversity\n",
        "print(\"Random Forest Classifier - bagging using diversity General Diversity\")\n",
        "inputs = pd.DataFrame(X_test)\n",
        "prediction_RandomForestClassifier_bagging_using_Diversity_general_diversity = RandomForestClassifier_bagging_using_Diversity_general_diversity.predict(inputs)\n",
        "accuracy_RandomForestClassifier_bagging_using_Diversity_general_diversity = accuracy_score(y_test,prediction_RandomForestClassifier_bagging_using_Diversity_general_diversity)\n",
        "print(f\"Accuracy score of RandomForestClassifier using diversity General Diversity = {accuracy_RandomForestClassifier_bagging_using_Diversity_general_diversity}\")\n",
        "\n",
        "precision_RandomForestClassifier_bagging_using_Diversity_general_diversity = precision_score(y_test,prediction_RandomForestClassifier_bagging_using_Diversity_general_diversity,average='weighted')\n",
        "print(f\"Precision score of RandomForestClassifier using diversity General Diversity = {precision_RandomForestClassifier_bagging_using_Diversity_general_diversity}\")"
      ],
      "metadata": {
        "colab": {
          "base_uri": "https://localhost:8080/"
        },
        "id": "EZVwlohOpcHe",
        "outputId": "23e9a79c-531e-42b8-e068-12a26c34de06"
      },
      "execution_count": 126,
      "outputs": [
        {
          "output_type": "stream",
          "name": "stdout",
          "text": [
            "Random Forest Classifier - bagging using diversity General Diversity\n",
            "Accuracy score of RandomForestClassifier using diversity General Diversity = 0.8628048780487805\n",
            "Precision score of RandomForestClassifier using diversity General Diversity = 0.8627360120709111\n"
          ]
        }
      ]
    },
    {
      "cell_type": "markdown",
      "source": [
        "Double Fault Measure"
      ],
      "metadata": {
        "id": "bV-lKGSNpcTw"
      }
    },
    {
      "cell_type": "code",
      "source": [
        "# models_RandomForestClassifier_bagging_using_Diversity_Double_Fault_Measure = bagging_using_Diversity(RandomForestClassifier_bagging_using_Diversity_Double_Fault_Measure,RandomForestClassifier_bagging_using_Diversity_Double_Fault_Measure.n_estimators,train_set_x_and_y,\"Double Fault Measure\")"
      ],
      "metadata": {
        "id": "2cSvE_yMpccb"
      },
      "execution_count": 127,
      "outputs": []
    },
    {
      "cell_type": "code",
      "source": [
        "# RandomForestClassifier_bagging_using_Diversity_Double_Fault_Measure.estimators_ = models_RandomForestClassifier_bagging_using_Diversity_Double_Fault_Measure\n",
        "# print(\"Random Forest Classifier - bagging using diversity Double Fault Measure\")\n",
        "# inputs = pd.DataFrame(X_test)\n",
        "# prediction_RandomForestClassifier_bagging_using_Diversity_Double_Fault_Measure = RandomForestClassifier_bagging_using_Diversity_Double_Fault_Measure.predict(inputs)\n",
        "# accuracy_RandomForestClassifier_bagging_using_Diversity_Double_Fault_Measure = accuracy_score(y_test,prediction_RandomForestClassifier_bagging_using_Diversity_Double_Fault_Measure)\n",
        "# print(f\"Accuracy score of RandomForestClassifier using diversity Double Fault Measure = {accuracy_RandomForestClassifier_bagging_using_Diversity_Double_Fault_Measure}\")\n",
        "\n",
        "# precision_RandomForestClassifier_bagging_using_Diversity_Double_Fault_Measure = precision_score(y_test,prediction_RandomForestClassifier_bagging_using_Diversity_Double_Fault_Measure,average='weighted')\n",
        "# print(f\"Precision score of RandomForestClassifier using diversity Double Fault Measure = {precision_RandomForestClassifier_bagging_using_Diversity_Double_Fault_Measure}\")"
      ],
      "metadata": {
        "id": "CeGfiKnGpcf5"
      },
      "execution_count": 128,
      "outputs": []
    },
    {
      "cell_type": "markdown",
      "source": [
        "#Summary - Base inducer - Random Forest"
      ],
      "metadata": {
        "id": "m6Vo1H9Wp17p"
      }
    },
    {
      "cell_type": "code",
      "source": [
        "print(tabulate([[\"Accuracy\",accuracy_RandomForestClassifier,\n",
        "                 accuracy_RandomForestClassifier_bagging_using_Diversity_kohavi_wolpert,\n",
        "                 accuracy_RandomForestClassifier_bagging_using_Diversity_inter_rater_measure,\n",
        "                 accuracy_RandomForestClassifier_bagging_using_Diversity_general_diversity],\n",
        "                [\"Precision\",precision_RandomForestClassifier,\n",
        "                 precision_RandomForestClassifier_bagging_using_Diversity_kohavi_wolpert,\n",
        "                 precision_RandomForestClassifier_bagging_using_Diversity_inter_rater_measure,\n",
        "                 precision_RandomForestClassifier_bagging_using_Diversity_general_diversity]],\n",
        "               headers=[\"Metric\\Model\",\"RandomForestClassifier\",\n",
        "                        \"Random Forest-\\nbagging using diversity\\nkohavi-wolpert\",\n",
        "                        \"Random Forest-\\nbagging using diversity\\nInter-Rater-Measure\",\n",
        "                        \"Random Forest-\\nbagging using diversity\\nGeneral Diversity\"], tablefmt=\"grid\"))"
      ],
      "metadata": {
        "colab": {
          "base_uri": "https://localhost:8080/"
        },
        "id": "xUAOHrEsp2hP",
        "outputId": "561fdad2-ba4c-4ff3-c973-d3ade91472ec"
      },
      "execution_count": 129,
      "outputs": [
        {
          "output_type": "stream",
          "name": "stdout",
          "text": [
            "+----------------+--------------------------+---------------------------+---------------------------+---------------------------+\n",
            "| Metric\\Model   |   RandomForestClassifier |            Random Forest- |            Random Forest- |            Random Forest- |\n",
            "|                |                          |   bagging using diversity |   bagging using diversity |   bagging using diversity |\n",
            "|                |                          |            kohavi-wolpert |       Inter-Rater-Measure |         General Diversity |\n",
            "+================+==========================+===========================+===========================+===========================+\n",
            "| Accuracy       |                 0.859756 |                  0.847561 |                  0.853659 |                  0.862805 |\n",
            "+----------------+--------------------------+---------------------------+---------------------------+---------------------------+\n",
            "| Precision      |                 0.859978 |                  0.847796 |                  0.85422  |                  0.862736 |\n",
            "+----------------+--------------------------+---------------------------+---------------------------+---------------------------+\n"
          ]
        }
      ]
    },
    {
      "cell_type": "code",
      "source": [
        "# print(tabulate([[\"Accuracy\",accuracy_RandomForestClassifier,\n",
        "#                  accuracy_RandomForestClassifier_bagging_using_Diversity_kohavi_wolpert,\n",
        "#                  accuracy_RandomForestClassifier_bagging_using_Diversity_inter_rater_measure,\n",
        "#                  accuracy_RandomForestClassifier_bagging_using_Diversity_general_diversity,\n",
        "#                  accuracy_RandomForestClassifier_bagging_using_Diversity_Double_Fault_Measure],\n",
        "#                 [\"Precision\",precision_RandomForestClassifier,\n",
        "#                  precision_RandomForestClassifier_bagging_using_Diversity_kohavi_wolpert,\n",
        "#                  precision_RandomForestClassifier_bagging_using_Diversity_inter_rater_measure,\n",
        "#                  precision_RandomForestClassifier_bagging_using_Diversity_general_diversity,\n",
        "#                  precision_RandomForestClassifier_bagging_using_Diversity_Double_Fault_Measure]],\n",
        "#                headers=[\"Metric\\Model\",\"RandomForestClassifier\",\n",
        "#                         \"Random Forest-\\nbagging using diversity\\nkohavi-wolpert\",\n",
        "#                         \"Random Forest-\\nbagging using diversity\\nInter-Rater-Measure\",\n",
        "#                         \"Random Forest-\\nbagging using diversity\\nGeneral Diversity\",\n",
        "#                         \"Random Forest-\\nbagging using diversity\\nDouble Fault Measure\"], tablefmt=\"grid\"))"
      ],
      "metadata": {
        "id": "55_G0gF_p6q0"
      },
      "execution_count": 130,
      "outputs": []
    },
    {
      "cell_type": "markdown",
      "source": [
        "#Base inducer - Extra Trees"
      ],
      "metadata": {
        "id": "zqFi6oUCp8Ig"
      }
    },
    {
      "cell_type": "code",
      "source": [
        "ExtraTrees_Double_Fault = deepcopy(model_ExtraTreesClassifier)"
      ],
      "metadata": {
        "id": "Mca5FJFNp8RR"
      },
      "execution_count": 131,
      "outputs": []
    },
    {
      "cell_type": "code",
      "source": [
        "ExtraTrees_kohavi_wolpert = deepcopy(model_ExtraTreesClassifier)"
      ],
      "metadata": {
        "id": "VplRfrmMp_KI"
      },
      "execution_count": 132,
      "outputs": []
    },
    {
      "cell_type": "code",
      "source": [
        "ExtraTrees_inter_rater = deepcopy(model_ExtraTreesClassifier)"
      ],
      "metadata": {
        "id": "nv5gKSg0p_QK"
      },
      "execution_count": 133,
      "outputs": []
    },
    {
      "cell_type": "code",
      "source": [
        "ExtraTrees_general_diversity = deepcopy(model_ExtraTreesClassifier)"
      ],
      "metadata": {
        "id": "KLjML6Nyp_Xa"
      },
      "execution_count": 134,
      "outputs": []
    },
    {
      "cell_type": "code",
      "source": [
        "train_set_x_and_y = deepcopy(X_train.loc[:, features])\n",
        "train_set_x_and_y['Survived'] = deepcopy(y_train['Survived'])"
      ],
      "metadata": {
        "id": "yynNBMMhrRDI"
      },
      "execution_count": 135,
      "outputs": []
    },
    {
      "cell_type": "markdown",
      "source": [
        "Kohavi Wolpert"
      ],
      "metadata": {
        "id": "NwxYEmfdqLNr"
      }
    },
    {
      "cell_type": "code",
      "source": [
        "models_ExtraTrees_kohavi_wolpert = bagging_using_Diversity(ExtraTrees_kohavi_wolpert,ExtraTrees_kohavi_wolpert.n_estimators,train_set_x_and_y,\"kohavi wolpert\")"
      ],
      "metadata": {
        "colab": {
          "base_uri": "https://localhost:8080/"
        },
        "id": "Kt23-wS_qLgM",
        "outputId": "d892a245-fd09-4207-a8a7-1def84cf9339"
      },
      "execution_count": 136,
      "outputs": [
        {
          "output_type": "stream",
          "name": "stdout",
          "text": [
            "1\n",
            "2\n",
            "3\n",
            "4\n",
            "5\n",
            "6\n",
            "7\n",
            "8\n",
            "9\n",
            "10\n",
            "11\n",
            "12\n",
            "13\n",
            "14\n",
            "15\n",
            "16\n",
            "17\n",
            "18\n",
            "19\n",
            "20\n",
            "21\n",
            "22\n",
            "23\n",
            "24\n",
            "25\n",
            "26\n",
            "27\n",
            "28\n",
            "29\n",
            "30\n",
            "31\n",
            "32\n",
            "33\n",
            "34\n",
            "35\n",
            "36\n",
            "37\n",
            "38\n",
            "39\n",
            "40\n",
            "41\n",
            "42\n",
            "43\n",
            "44\n",
            "45\n",
            "46\n",
            "47\n",
            "48\n"
          ]
        }
      ]
    },
    {
      "cell_type": "code",
      "source": [
        "ExtraTrees_kohavi_wolpert.estimators_ = models_ExtraTrees_kohavi_wolpert\n",
        "print(\"Extra Trees Classifier - bagging using diversity kohavi-wolpert\")\n",
        "inputs = pd.DataFrame(X_test)\n",
        "prediction_ExtraTrees_kohavi_wolpert = ExtraTrees_kohavi_wolpert.predict(inputs)\n",
        "accuracy_ExtraTrees_kohavi_wolpert = accuracy_score(y_test,prediction_ExtraTrees_kohavi_wolpert)\n",
        "print(f\"Accuracy score of Extra Trees using diversity kohavi-wolpert = {accuracy_ExtraTrees_kohavi_wolpert}\")\n",
        "\n",
        "precision_ExtraTrees_kohavi_wolpert = precision_score(y_test,prediction_ExtraTrees_kohavi_wolpert,average='weighted')\n",
        "print(f\"Precision score of Extra Trees using diversity kohavi-wolpert = {precision_ExtraTrees_kohavi_wolpert}\")"
      ],
      "metadata": {
        "colab": {
          "base_uri": "https://localhost:8080/"
        },
        "id": "RinN8cZXqLlQ",
        "outputId": "674d21cf-0584-4128-bc6c-f97b85770995"
      },
      "execution_count": 137,
      "outputs": [
        {
          "output_type": "stream",
          "name": "stdout",
          "text": [
            "Extra Trees Classifier - bagging using diversity kohavi-wolpert\n",
            "Accuracy score of Extra Trees using diversity kohavi-wolpert = 0.8384146341463414\n",
            "Precision score of Extra Trees using diversity kohavi-wolpert = 0.8392134089408121\n"
          ]
        }
      ]
    },
    {
      "cell_type": "markdown",
      "source": [
        "Inter Rater measure"
      ],
      "metadata": {
        "id": "Tv-3IyKJqLz6"
      }
    },
    {
      "cell_type": "code",
      "source": [
        "models_ExtraTrees_inter_rater = bagging_using_Diversity(ExtraTrees_inter_rater,ExtraTrees_inter_rater.n_estimators,train_set_x_and_y,\"inter rater measure\")"
      ],
      "metadata": {
        "colab": {
          "base_uri": "https://localhost:8080/"
        },
        "id": "uCa7mcFFqL8y",
        "outputId": "cbf1c2c2-2547-4ff7-f4a7-b81960de096d"
      },
      "execution_count": 138,
      "outputs": [
        {
          "output_type": "stream",
          "name": "stdout",
          "text": [
            "1\n",
            "2\n",
            "3\n",
            "4\n",
            "5\n",
            "6\n",
            "7\n",
            "8\n",
            "9\n",
            "10\n",
            "11\n",
            "12\n",
            "13\n",
            "14\n",
            "15\n",
            "16\n",
            "17\n",
            "18\n",
            "19\n",
            "20\n",
            "21\n",
            "22\n",
            "23\n",
            "24\n",
            "25\n",
            "26\n",
            "27\n",
            "28\n",
            "29\n",
            "30\n",
            "31\n",
            "32\n",
            "33\n",
            "34\n",
            "35\n",
            "36\n",
            "37\n",
            "38\n",
            "39\n",
            "40\n",
            "41\n",
            "42\n",
            "43\n",
            "44\n",
            "45\n",
            "46\n",
            "47\n",
            "48\n"
          ]
        }
      ]
    },
    {
      "cell_type": "code",
      "source": [
        "ExtraTrees_inter_rater.estimators_ = models_ExtraTrees_inter_rater\n",
        "print(\"Extra Trees Classifier - bagging using diversity inter-rater\")\n",
        "inputs = pd.DataFrame(X_test)\n",
        "prediction_ExtraTrees_inter_rater = ExtraTrees_inter_rater.predict(inputs)\n",
        "accuracy_ExtraTrees_inter_rater = accuracy_score(y_test,prediction_ExtraTrees_inter_rater)\n",
        "print(f\"Accuracy score of Extra Trees using diversity inter-rater = {accuracy_ExtraTrees_inter_rater}\")\n",
        "\n",
        "precision_ExtraTrees_inter_rater = precision_score(y_test,prediction_ExtraTrees_inter_rater,average='weighted')\n",
        "print(f\"Precision score of Extra Trees using diversity inter-rater = {precision_ExtraTrees_inter_rater}\")"
      ],
      "metadata": {
        "colab": {
          "base_uri": "https://localhost:8080/"
        },
        "id": "7MsFJROoqMBf",
        "outputId": "3d243e38-0a73-4136-cf41-b7f31c00f0b6"
      },
      "execution_count": 139,
      "outputs": [
        {
          "output_type": "stream",
          "name": "stdout",
          "text": [
            "Extra Trees Classifier - bagging using diversity inter-rater\n",
            "Accuracy score of Extra Trees using diversity inter-rater = 0.8384146341463414\n",
            "Precision score of Extra Trees using diversity inter-rater = 0.8392134089408121\n"
          ]
        }
      ]
    },
    {
      "cell_type": "markdown",
      "source": [
        "General Diversity"
      ],
      "metadata": {
        "id": "wOLL0lUyqMMU"
      }
    },
    {
      "cell_type": "code",
      "source": [
        "models_ExtraTrees_general_diversity = bagging_using_Diversity(ExtraTrees_general_diversity,ExtraTrees_general_diversity.n_estimators,train_set_x_and_y,\"general diversity\")"
      ],
      "metadata": {
        "colab": {
          "base_uri": "https://localhost:8080/"
        },
        "id": "Nru0PrbZqMVq",
        "outputId": "ab88364d-3eb6-460f-94e6-7342879b5915"
      },
      "execution_count": 140,
      "outputs": [
        {
          "output_type": "stream",
          "name": "stdout",
          "text": [
            "1\n",
            "2\n",
            "3\n",
            "4\n",
            "5\n",
            "6\n",
            "7\n",
            "8\n",
            "9\n",
            "10\n",
            "11\n",
            "12\n",
            "13\n",
            "14\n",
            "15\n",
            "16\n",
            "17\n",
            "18\n",
            "19\n",
            "20\n",
            "21\n",
            "22\n",
            "23\n",
            "24\n",
            "25\n",
            "26\n",
            "27\n",
            "28\n",
            "29\n",
            "30\n",
            "31\n",
            "32\n",
            "33\n",
            "34\n",
            "35\n",
            "36\n",
            "37\n",
            "38\n",
            "39\n",
            "40\n",
            "41\n",
            "42\n",
            "43\n",
            "44\n",
            "45\n",
            "46\n",
            "47\n",
            "48\n"
          ]
        }
      ]
    },
    {
      "cell_type": "code",
      "source": [
        "ExtraTrees_general_diversity.estimators_ = models_ExtraTrees_general_diversity\n",
        "print(\"Extra Trees Classifier - bagging using diversity general diversity\")\n",
        "inputs = pd.DataFrame(X_test)\n",
        "prediction_ExtraTrees_general_diversity = ExtraTrees_general_diversity.predict(inputs)\n",
        "accuracy_ExtraTrees_general_diversity = accuracy_score(y_test,prediction_ExtraTrees_general_diversity)\n",
        "print(f\"Accuracy score of Extra Trees using diversity general diversity = {accuracy_ExtraTrees_general_diversity}\")\n",
        "\n",
        "precision_ExtraTrees_general_diversity = precision_score(y_test,prediction_ExtraTrees_general_diversity,average='weighted')\n",
        "print(f\"Precision score of Extra Trees using diversity general diversity = {precision_ExtraTrees_general_diversity}\")"
      ],
      "metadata": {
        "colab": {
          "base_uri": "https://localhost:8080/"
        },
        "id": "RWGorQHYqMZK",
        "outputId": "4b3ac860-c94b-4226-ceb8-902c804d888c"
      },
      "execution_count": 141,
      "outputs": [
        {
          "output_type": "stream",
          "name": "stdout",
          "text": [
            "Extra Trees Classifier - bagging using diversity general diversity\n",
            "Accuracy score of Extra Trees using diversity general diversity = 0.8384146341463414\n",
            "Precision score of Extra Trees using diversity general diversity = 0.8392134089408121\n"
          ]
        }
      ]
    },
    {
      "cell_type": "markdown",
      "source": [
        "Double Fault"
      ],
      "metadata": {
        "id": "mVIugJX5qMis"
      }
    },
    {
      "cell_type": "code",
      "source": [
        "# models_ExtraTrees_Double_Fault = bagging_using_Diversity(ExtraTrees_Double_Fault,ExtraTrees_Double_Fault.n_estimators,train_set_x_and_y,\"\"Double Fault Measure\")"
      ],
      "metadata": {
        "id": "yfjLrIYxqMqq"
      },
      "execution_count": 142,
      "outputs": []
    },
    {
      "cell_type": "code",
      "source": [
        "# ExtraTrees_Double_Fault.estimators_ = models_ExtraTrees_Double_Fault\n",
        "# print(\"Extra Trees Classifier - bagging using diversity Double Fault\")\n",
        "# inputs = pd.DataFrame(X_test)\n",
        "# prediction_ExtraTrees_Double_Fault = ExtraTrees_Double_Fault.predict(inputs)\n",
        "# accuracy_ExtraTrees_Double_Fault = accuracy_score(y_test,prediction_ExtraTrees_Double_Fault)\n",
        "# print(f\"Accuracy score of Extra Trees using diversity Double Fault = {accuracy_ExtraTrees_Double_Fault}\")\n",
        "\n",
        "# precision_ExtraTrees_Double_Fault = precision_score(y_test,prediction_ExtraTrees_Double_Fault,average='weighted')\n",
        "# print(f\"Precision score of Extra Trees using diversity Double Fault = {precision_ExtraTrees_Double_Fault}\")"
      ],
      "metadata": {
        "id": "lQ35iLQOqMtr"
      },
      "execution_count": 143,
      "outputs": []
    },
    {
      "cell_type": "markdown",
      "source": [
        "#Summary - Base inducer - Extra Trees"
      ],
      "metadata": {
        "id": "APHhMbxnr21_"
      }
    },
    {
      "cell_type": "code",
      "source": [
        "print(tabulate([[\"Accuracy\",accuracy_ExtraTreesClassifier,\n",
        "                 accuracy_ExtraTrees_kohavi_wolpert,\n",
        "                 accuracy_ExtraTrees_inter_rater,\n",
        "                 accuracy_ExtraTrees_general_diversity],\n",
        "                [\"Precision\",precision_ExtraTreesClassifier,\n",
        "                 precision_ExtraTrees_kohavi_wolpert,\n",
        "                 precision_ExtraTrees_inter_rater,\n",
        "                 precision_ExtraTrees_general_diversity]],\n",
        "               headers=[\"Metric\\Model\",\"ExtraTreesClassifier\",\n",
        "                        \"Extra Trees-\\nbagging using diversity\\nkohavi-wolpert\",\n",
        "                        \"Extra Trees-\\nbagging using diversity\\nInter-Rater-Measure\",\n",
        "                        \"Extra Trees-\\nbagging using diversity\\nGeneral Diversity\"], tablefmt=\"grid\"))"
      ],
      "metadata": {
        "colab": {
          "base_uri": "https://localhost:8080/"
        },
        "id": "Uz7GRHZPr3wA",
        "outputId": "c788e45f-0d33-4692-b1fc-419821a2cfc2"
      },
      "execution_count": 144,
      "outputs": [
        {
          "output_type": "stream",
          "name": "stdout",
          "text": [
            "+----------------+------------------------+---------------------------+---------------------------+---------------------------+\n",
            "| Metric\\Model   |   ExtraTreesClassifier |              Extra Trees- |              Extra Trees- |              Extra Trees- |\n",
            "|                |                        |   bagging using diversity |   bagging using diversity |   bagging using diversity |\n",
            "|                |                        |            kohavi-wolpert |       Inter-Rater-Measure |         General Diversity |\n",
            "+================+========================+===========================+===========================+===========================+\n",
            "| Accuracy       |               0.835366 |                  0.838415 |                  0.838415 |                  0.838415 |\n",
            "+----------------+------------------------+---------------------------+---------------------------+---------------------------+\n",
            "| Precision      |               0.83596  |                  0.839213 |                  0.839213 |                  0.839213 |\n",
            "+----------------+------------------------+---------------------------+---------------------------+---------------------------+\n"
          ]
        }
      ]
    },
    {
      "cell_type": "code",
      "source": [
        "# print(tabulate([[\"Accuracy\",accuracy_ExtraTreesClassifier,\n",
        "#                  accuracy_ExtraTrees_kohavi_wolpert,\n",
        "#                  accuracy_ExtraTrees_inter_rater,\n",
        "#                  accuracy_ExtraTrees_general_diversity,\n",
        "#                  accuracy_ExtraTrees_Double_Fault],\n",
        "#                 [\"Precision\",precision_ExtraTreesClassifier,\n",
        "#                  precision_ExtraTrees_kohavi_wolpert,\n",
        "#                  precision_ExtraTrees_inter_rater,\n",
        "#                  precision_ExtraTrees_general_diversity,\n",
        "#                  precision_ExtraTrees_Double_Fault]],\n",
        "#                headers=[\"Metric\\Model\",\"ExtraTreesClassifier\",\n",
        "#                         \"Extra Trees-\\nbagging using diversity\\nkohavi-wolpert\",\n",
        "#                         \"Extra Trees-\\nbagging using diversity\\nInter-Rater-Measure\",\n",
        "#                         \"Extra Trees-\\nbagging using diversity\\nGeneral Diversity\",\n",
        "#                         \"Extra Trees-\\nbagging using diversity\\nDouble Fault Measure\"], tablefmt=\"grid\"))"
      ],
      "metadata": {
        "id": "5sP7M9yvr63X"
      },
      "execution_count": 145,
      "outputs": []
    }
  ]
}