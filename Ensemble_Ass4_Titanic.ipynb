{
  "nbformat": 4,
  "nbformat_minor": 0,
  "metadata": {
    "colab": {
      "provenance": [],
      "authorship_tag": "ABX9TyNBh+Cdx9Ts4XjCln4x9yIq",
      "include_colab_link": true
    },
    "kernelspec": {
      "name": "python3",
      "display_name": "Python 3"
    },
    "language_info": {
      "name": "python"
    }
  },
  "cells": [
    {
      "cell_type": "markdown",
      "metadata": {
        "id": "view-in-github",
        "colab_type": "text"
      },
      "source": [
        "<a href=\"https://colab.research.google.com/github/OmriMan/EnsembleLearning_EnsembleDiversity_Assignment4/blob/main/Ensemble_Ass4_Titanic.ipynb\" target=\"_parent\"><img src=\"https://colab.research.google.com/assets/colab-badge.svg\" alt=\"Open In Colab\"/></a>"
      ]
    },
    {
      "cell_type": "markdown",
      "source": [
        "https://www.kaggle.com/code/chazzer/ml-grandmaster-decision-tree-classifier"
      ],
      "metadata": {
        "id": "0TAluNcdt2Pn"
      }
    },
    {
      "cell_type": "markdown",
      "source": [
        "Packages"
      ],
      "metadata": {
        "id": "o14SzdTzt6mM"
      }
    },
    {
      "cell_type": "code",
      "source": [
        "import numpy as np  \n",
        "import pandas as pd  \n",
        "\n",
        "from sklearn.ensemble import RandomForestClassifier\n",
        "from sklearn.ensemble import ExtraTreesClassifier\n",
        "from matplotlib import pyplot as plt  \n",
        "from sklearn.tree import plot_tree \n",
        "from sklearn.model_selection import train_test_split\n",
        "from sklearn.model_selection import RandomizedSearchCV\n",
        "from sklearn.metrics import accuracy_score\n",
        "from sklearn.metrics import precision_score\n",
        "\n",
        "import random\n",
        "from tabulate import tabulate"
      ],
      "metadata": {
        "id": "wBaZJwWgt6vY"
      },
      "execution_count": 14,
      "outputs": []
    },
    {
      "cell_type": "markdown",
      "source": [
        "#Dataset -Titanic\n",
        "\n",
        "Source: https://www.kaggle.com/competitions/titanic/data\n",
        "\n",
        "survival: Survival, 0 = No, 1 = Yes\n",
        "\n",
        "pclass: Ticket class, 1 = 1st, 2 = 2nd, 3 = 3rd\n",
        "\n",
        "sex: Sex. Female = 1,Male = 0\n",
        "\n",
        "Age: Age in years.Missing values ​​were replaced by the mean ages in the data set\n",
        "\n",
        "sibsp: numer of siblings / spouses aboard the Titanic\n",
        "\n",
        "parch: number of parents / children aboard the Titanic\n",
        "\n",
        "ticket: Ticket number.We did not use this feature\n",
        "\n",
        "fare: Passenger fare.Missing values ​​were replaced by the mean fare values in the data set\n",
        "\n",
        "cabin: Cabin number.We did not use this feature\n",
        "\n",
        "embarked: Port of Embarkation C=Cherbourg,Q=Queenstown,S=Southampton.We replaced the values ​​as follows: S=0,C=1,Q=2"
      ],
      "metadata": {
        "id": "3W4WXKPPuVV0"
      }
    },
    {
      "cell_type": "code",
      "execution_count": 15,
      "metadata": {
        "id": "QdAjxJgPt08x"
      },
      "outputs": [],
      "source": [
        "def preprocess(df):\n",
        "    # Putting on index to each dataset before split it\n",
        "    df = df.set_index(\"PassengerId\")\n",
        "    # Sex\n",
        "    change = {'female':1,'male':0}\n",
        "    df.Sex = df.Sex.map(change)\n",
        "\n",
        "    # Embarked\n",
        "    change = {'S':0,'C':1,'Q':2}\n",
        "    df.Embarked = df.Embarked.map(change)\n",
        "    df['Embarked'] = df['Embarked'].replace(to_replace = np.nan, value =1)\n",
        "\n",
        "    # df['Age'] = df['Age'].groupby(df['Age'].isnull()).mean()\n",
        "    df['Age'] = df['Age'].replace(to_replace = np.nan, value =df['Age'].mean())\n",
        "    # df['Age'] = df['Age'].replace(to_replace = np.nan, value =50)\n",
        "    df['Fare'] = df['Fare'].replace(to_replace = np.nan, value =df['Fare'].mean())\n",
        "    df = df.drop(columns=['Name','Ticket','Cabin'])\n",
        "    return df"
      ]
    },
    {
      "cell_type": "markdown",
      "source": [
        "Load the data set"
      ],
      "metadata": {
        "id": "TeDRfnqLu7MK"
      }
    },
    {
      "cell_type": "code",
      "source": [
        "df = pd.read_csv('/content/sample_data/titanic.csv')\n",
        "df.isna().sum()"
      ],
      "metadata": {
        "colab": {
          "base_uri": "https://localhost:8080/"
        },
        "id": "vURr828QvFas",
        "outputId": "4b981670-ce36-4765-d66c-6101781fc224"
      },
      "execution_count": 16,
      "outputs": [
        {
          "output_type": "execute_result",
          "data": {
            "text/plain": [
              "PassengerId       0\n",
              "Survived          0\n",
              "Pclass            0\n",
              "Name              0\n",
              "Sex               0\n",
              "Age             263\n",
              "SibSp             0\n",
              "Parch             0\n",
              "Ticket            0\n",
              "Fare              1\n",
              "Cabin          1014\n",
              "Embarked          2\n",
              "dtype: int64"
            ]
          },
          "metadata": {},
          "execution_count": 16
        }
      ]
    },
    {
      "cell_type": "code",
      "source": [
        "df = preprocess(df)\n",
        "features = ['Pclass',\t'Sex',\t'Age',\t'SibSp',\t'Parch',\t'Fare',\t'Embarked']\n",
        "X = df.loc[:, features]\n",
        "y = df.loc[:, ['Survived']]"
      ],
      "metadata": {
        "id": "9Rw3U6Wku21j"
      },
      "execution_count": 17,
      "outputs": []
    },
    {
      "cell_type": "markdown",
      "source": [
        "Split the data into training and testin sets"
      ],
      "metadata": {
        "id": "9RYOdRLrvbd5"
      }
    },
    {
      "cell_type": "code",
      "source": [
        "X_train, X_test, y_train, y_test = train_test_split(X, y, random_state=0, train_size = .75)\n",
        "X_test"
      ],
      "metadata": {
        "colab": {
          "base_uri": "https://localhost:8080/",
          "height": 455
        },
        "id": "2OMqbT2wvWtT",
        "outputId": "e4dc469c-3053-422b-91a9-2eb3f180bef0"
      },
      "execution_count": 18,
      "outputs": [
        {
          "output_type": "execute_result",
          "data": {
            "text/plain": [
              "             Pclass  Sex        Age  SibSp  Parch      Fare  Embarked\n",
              "PassengerId                                                          \n",
              "1140              2    1  29.000000      1      0   26.0000       0.0\n",
              "534               3    1  29.881138      0      2   22.3583       1.0\n",
              "460               3    0  29.881138      0      0    7.7500       2.0\n",
              "1151              3    0  21.000000      0      0    7.7750       0.0\n",
              "394               1    1  23.000000      1      0  113.2750       1.0\n",
              "...             ...  ...        ...    ...    ...       ...       ...\n",
              "365               3    0  29.881138      1      0   15.5000       2.0\n",
              "495               3    0  21.000000      0      0    8.0500       0.0\n",
              "709               1    1  22.000000      0      0  151.5500       0.0\n",
              "647               3    0  19.000000      0      0    7.8958       0.0\n",
              "1279              2    0  57.000000      0      0   13.0000       0.0\n",
              "\n",
              "[328 rows x 7 columns]"
            ],
            "text/html": [
              "\n",
              "  <div id=\"df-cf9ac870-be7e-46aa-b66e-24f0de8cad86\">\n",
              "    <div class=\"colab-df-container\">\n",
              "      <div>\n",
              "<style scoped>\n",
              "    .dataframe tbody tr th:only-of-type {\n",
              "        vertical-align: middle;\n",
              "    }\n",
              "\n",
              "    .dataframe tbody tr th {\n",
              "        vertical-align: top;\n",
              "    }\n",
              "\n",
              "    .dataframe thead th {\n",
              "        text-align: right;\n",
              "    }\n",
              "</style>\n",
              "<table border=\"1\" class=\"dataframe\">\n",
              "  <thead>\n",
              "    <tr style=\"text-align: right;\">\n",
              "      <th></th>\n",
              "      <th>Pclass</th>\n",
              "      <th>Sex</th>\n",
              "      <th>Age</th>\n",
              "      <th>SibSp</th>\n",
              "      <th>Parch</th>\n",
              "      <th>Fare</th>\n",
              "      <th>Embarked</th>\n",
              "    </tr>\n",
              "    <tr>\n",
              "      <th>PassengerId</th>\n",
              "      <th></th>\n",
              "      <th></th>\n",
              "      <th></th>\n",
              "      <th></th>\n",
              "      <th></th>\n",
              "      <th></th>\n",
              "      <th></th>\n",
              "    </tr>\n",
              "  </thead>\n",
              "  <tbody>\n",
              "    <tr>\n",
              "      <th>1140</th>\n",
              "      <td>2</td>\n",
              "      <td>1</td>\n",
              "      <td>29.000000</td>\n",
              "      <td>1</td>\n",
              "      <td>0</td>\n",
              "      <td>26.0000</td>\n",
              "      <td>0.0</td>\n",
              "    </tr>\n",
              "    <tr>\n",
              "      <th>534</th>\n",
              "      <td>3</td>\n",
              "      <td>1</td>\n",
              "      <td>29.881138</td>\n",
              "      <td>0</td>\n",
              "      <td>2</td>\n",
              "      <td>22.3583</td>\n",
              "      <td>1.0</td>\n",
              "    </tr>\n",
              "    <tr>\n",
              "      <th>460</th>\n",
              "      <td>3</td>\n",
              "      <td>0</td>\n",
              "      <td>29.881138</td>\n",
              "      <td>0</td>\n",
              "      <td>0</td>\n",
              "      <td>7.7500</td>\n",
              "      <td>2.0</td>\n",
              "    </tr>\n",
              "    <tr>\n",
              "      <th>1151</th>\n",
              "      <td>3</td>\n",
              "      <td>0</td>\n",
              "      <td>21.000000</td>\n",
              "      <td>0</td>\n",
              "      <td>0</td>\n",
              "      <td>7.7750</td>\n",
              "      <td>0.0</td>\n",
              "    </tr>\n",
              "    <tr>\n",
              "      <th>394</th>\n",
              "      <td>1</td>\n",
              "      <td>1</td>\n",
              "      <td>23.000000</td>\n",
              "      <td>1</td>\n",
              "      <td>0</td>\n",
              "      <td>113.2750</td>\n",
              "      <td>1.0</td>\n",
              "    </tr>\n",
              "    <tr>\n",
              "      <th>...</th>\n",
              "      <td>...</td>\n",
              "      <td>...</td>\n",
              "      <td>...</td>\n",
              "      <td>...</td>\n",
              "      <td>...</td>\n",
              "      <td>...</td>\n",
              "      <td>...</td>\n",
              "    </tr>\n",
              "    <tr>\n",
              "      <th>365</th>\n",
              "      <td>3</td>\n",
              "      <td>0</td>\n",
              "      <td>29.881138</td>\n",
              "      <td>1</td>\n",
              "      <td>0</td>\n",
              "      <td>15.5000</td>\n",
              "      <td>2.0</td>\n",
              "    </tr>\n",
              "    <tr>\n",
              "      <th>495</th>\n",
              "      <td>3</td>\n",
              "      <td>0</td>\n",
              "      <td>21.000000</td>\n",
              "      <td>0</td>\n",
              "      <td>0</td>\n",
              "      <td>8.0500</td>\n",
              "      <td>0.0</td>\n",
              "    </tr>\n",
              "    <tr>\n",
              "      <th>709</th>\n",
              "      <td>1</td>\n",
              "      <td>1</td>\n",
              "      <td>22.000000</td>\n",
              "      <td>0</td>\n",
              "      <td>0</td>\n",
              "      <td>151.5500</td>\n",
              "      <td>0.0</td>\n",
              "    </tr>\n",
              "    <tr>\n",
              "      <th>647</th>\n",
              "      <td>3</td>\n",
              "      <td>0</td>\n",
              "      <td>19.000000</td>\n",
              "      <td>0</td>\n",
              "      <td>0</td>\n",
              "      <td>7.8958</td>\n",
              "      <td>0.0</td>\n",
              "    </tr>\n",
              "    <tr>\n",
              "      <th>1279</th>\n",
              "      <td>2</td>\n",
              "      <td>0</td>\n",
              "      <td>57.000000</td>\n",
              "      <td>0</td>\n",
              "      <td>0</td>\n",
              "      <td>13.0000</td>\n",
              "      <td>0.0</td>\n",
              "    </tr>\n",
              "  </tbody>\n",
              "</table>\n",
              "<p>328 rows × 7 columns</p>\n",
              "</div>\n",
              "      <button class=\"colab-df-convert\" onclick=\"convertToInteractive('df-cf9ac870-be7e-46aa-b66e-24f0de8cad86')\"\n",
              "              title=\"Convert this dataframe to an interactive table.\"\n",
              "              style=\"display:none;\">\n",
              "        \n",
              "  <svg xmlns=\"http://www.w3.org/2000/svg\" height=\"24px\"viewBox=\"0 0 24 24\"\n",
              "       width=\"24px\">\n",
              "    <path d=\"M0 0h24v24H0V0z\" fill=\"none\"/>\n",
              "    <path d=\"M18.56 5.44l.94 2.06.94-2.06 2.06-.94-2.06-.94-.94-2.06-.94 2.06-2.06.94zm-11 1L8.5 8.5l.94-2.06 2.06-.94-2.06-.94L8.5 2.5l-.94 2.06-2.06.94zm10 10l.94 2.06.94-2.06 2.06-.94-2.06-.94-.94-2.06-.94 2.06-2.06.94z\"/><path d=\"M17.41 7.96l-1.37-1.37c-.4-.4-.92-.59-1.43-.59-.52 0-1.04.2-1.43.59L10.3 9.45l-7.72 7.72c-.78.78-.78 2.05 0 2.83L4 21.41c.39.39.9.59 1.41.59.51 0 1.02-.2 1.41-.59l7.78-7.78 2.81-2.81c.8-.78.8-2.07 0-2.86zM5.41 20L4 18.59l7.72-7.72 1.47 1.35L5.41 20z\"/>\n",
              "  </svg>\n",
              "      </button>\n",
              "      \n",
              "  <style>\n",
              "    .colab-df-container {\n",
              "      display:flex;\n",
              "      flex-wrap:wrap;\n",
              "      gap: 12px;\n",
              "    }\n",
              "\n",
              "    .colab-df-convert {\n",
              "      background-color: #E8F0FE;\n",
              "      border: none;\n",
              "      border-radius: 50%;\n",
              "      cursor: pointer;\n",
              "      display: none;\n",
              "      fill: #1967D2;\n",
              "      height: 32px;\n",
              "      padding: 0 0 0 0;\n",
              "      width: 32px;\n",
              "    }\n",
              "\n",
              "    .colab-df-convert:hover {\n",
              "      background-color: #E2EBFA;\n",
              "      box-shadow: 0px 1px 2px rgba(60, 64, 67, 0.3), 0px 1px 3px 1px rgba(60, 64, 67, 0.15);\n",
              "      fill: #174EA6;\n",
              "    }\n",
              "\n",
              "    [theme=dark] .colab-df-convert {\n",
              "      background-color: #3B4455;\n",
              "      fill: #D2E3FC;\n",
              "    }\n",
              "\n",
              "    [theme=dark] .colab-df-convert:hover {\n",
              "      background-color: #434B5C;\n",
              "      box-shadow: 0px 1px 3px 1px rgba(0, 0, 0, 0.15);\n",
              "      filter: drop-shadow(0px 1px 2px rgba(0, 0, 0, 0.3));\n",
              "      fill: #FFFFFF;\n",
              "    }\n",
              "  </style>\n",
              "\n",
              "      <script>\n",
              "        const buttonEl =\n",
              "          document.querySelector('#df-cf9ac870-be7e-46aa-b66e-24f0de8cad86 button.colab-df-convert');\n",
              "        buttonEl.style.display =\n",
              "          google.colab.kernel.accessAllowed ? 'block' : 'none';\n",
              "\n",
              "        async function convertToInteractive(key) {\n",
              "          const element = document.querySelector('#df-cf9ac870-be7e-46aa-b66e-24f0de8cad86');\n",
              "          const dataTable =\n",
              "            await google.colab.kernel.invokeFunction('convertToInteractive',\n",
              "                                                     [key], {});\n",
              "          if (!dataTable) return;\n",
              "\n",
              "          const docLinkHtml = 'Like what you see? Visit the ' +\n",
              "            '<a target=\"_blank\" href=https://colab.research.google.com/notebooks/data_table.ipynb>data table notebook</a>'\n",
              "            + ' to learn more about interactive tables.';\n",
              "          element.innerHTML = '';\n",
              "          dataTable['output_type'] = 'display_data';\n",
              "          await google.colab.output.renderOutput(dataTable, element);\n",
              "          const docLink = document.createElement('div');\n",
              "          docLink.innerHTML = docLinkHtml;\n",
              "          element.appendChild(docLink);\n",
              "        }\n",
              "      </script>\n",
              "    </div>\n",
              "  </div>\n",
              "  "
            ]
          },
          "metadata": {},
          "execution_count": 18
        }
      ]
    },
    {
      "cell_type": "markdown",
      "source": [
        "#Target class distribution\n"
      ],
      "metadata": {
        "id": "fTIQIzOuviHd"
      }
    },
    {
      "cell_type": "code",
      "source": [
        "target = df['Survived']\n",
        "target.value_counts()"
      ],
      "metadata": {
        "colab": {
          "base_uri": "https://localhost:8080/"
        },
        "id": "mIc2dwcYvjzI",
        "outputId": "390db990-a5d2-47a5-f047-32d9a52d8b6c"
      },
      "execution_count": 19,
      "outputs": [
        {
          "output_type": "execute_result",
          "data": {
            "text/plain": [
              "0    815\n",
              "1    494\n",
              "Name: Survived, dtype: int64"
            ]
          },
          "metadata": {},
          "execution_count": 19
        }
      ]
    },
    {
      "cell_type": "markdown",
      "source": [
        "#Define and train the models with default hyper parameters\n",
        "we are using 100 trees for each ensemble. Leave the other parameters at their default settings.\n"
      ],
      "metadata": {
        "id": "JEwHH0vHvqrI"
      }
    },
    {
      "cell_type": "markdown",
      "source": [
        "Random Forest"
      ],
      "metadata": {
        "id": "5GXVvWQqwAtc"
      }
    },
    {
      "cell_type": "code",
      "source": [
        "model_rf = RandomForestClassifier(n_estimators=100)\n",
        "\n",
        "model_rf.fit(X_train,np.ravel(y_train))"
      ],
      "metadata": {
        "colab": {
          "base_uri": "https://localhost:8080/"
        },
        "id": "pxlYmGI6v_36",
        "outputId": "6304434c-9ffb-4d1f-b91c-b8b7704f79ab"
      },
      "execution_count": 20,
      "outputs": [
        {
          "output_type": "execute_result",
          "data": {
            "text/plain": [
              "RandomForestClassifier()"
            ]
          },
          "metadata": {},
          "execution_count": 20
        }
      ]
    },
    {
      "cell_type": "code",
      "source": [
        "inputs = pd.DataFrame(X_test)\n",
        "prediction_RandomForestClassifier = model_rf.predict(\n",
        "    inputs\n",
        ")\n",
        "accuracy_RandomForestClassifier = accuracy_score(y_test,prediction_RandomForestClassifier)\n",
        "print(f\"Accuracy score of RandomForestClassifier = {accuracy_RandomForestClassifier}\")\n",
        "\n",
        "precision_RandomForestClassifier = precision_score(y_test,prediction_RandomForestClassifier,average='weighted')\n",
        "print(f\"Precision score of RandomForestClassifier = {precision_RandomForestClassifier}\")"
      ],
      "metadata": {
        "colab": {
          "base_uri": "https://localhost:8080/"
        },
        "id": "zMNja-n5wNH_",
        "outputId": "88b013fd-760a-48e1-d5be-1b267db96b48"
      },
      "execution_count": 21,
      "outputs": [
        {
          "output_type": "stream",
          "name": "stdout",
          "text": [
            "Accuracy score of RandomForestClassifier = 0.8597560975609756\n",
            "Precision score of RandomForestClassifier = 0.8599780761852562\n"
          ]
        }
      ]
    },
    {
      "cell_type": "markdown",
      "source": [
        "Extremely Randomized Trees"
      ],
      "metadata": {
        "id": "cN-m9sX4wO9_"
      }
    },
    {
      "cell_type": "code",
      "source": [
        "model_ExtraTreesClassifier = ExtraTreesClassifier(n_estimators=100)\n",
        "model_ExtraTreesClassifier.fit(X_train,np.ravel(y_train))"
      ],
      "metadata": {
        "colab": {
          "base_uri": "https://localhost:8080/"
        },
        "id": "S-SiIB3RwPr0",
        "outputId": "74f76811-bb37-4692-a9ad-07444379eabd"
      },
      "execution_count": 22,
      "outputs": [
        {
          "output_type": "execute_result",
          "data": {
            "text/plain": [
              "ExtraTreesClassifier()"
            ]
          },
          "metadata": {},
          "execution_count": 22
        }
      ]
    },
    {
      "cell_type": "code",
      "source": [
        "inputs = pd.DataFrame(X_test)\n",
        "prediction_ExtraTreesClassifier = model_ExtraTreesClassifier.predict(\n",
        "    inputs\n",
        ")\n",
        "accuracy_ExtraTreesClassifier = accuracy_score(y_test,prediction_ExtraTreesClassifier)\n",
        "print(f\"Accuracy score of ExtraTreesClassifier = {accuracy_ExtraTreesClassifier}\")\n",
        "\n",
        "precision_ExtraTreesClassifier = precision_score(y_test,prediction_ExtraTreesClassifier,average='weighted')\n",
        "print(f\"Precision score of ExtraTreesClassifier = {precision_ExtraTreesClassifier}\")"
      ],
      "metadata": {
        "colab": {
          "base_uri": "https://localhost:8080/"
        },
        "id": "sezF8HqWwsBm",
        "outputId": "3947d93c-4d93-4bff-e1f1-74380476427b"
      },
      "execution_count": 23,
      "outputs": [
        {
          "output_type": "stream",
          "name": "stdout",
          "text": [
            "Accuracy score of ExtraTreesClassifier = 0.8323170731707317\n",
            "Precision score of ExtraTreesClassifier = 0.8336247004088538\n"
          ]
        }
      ]
    },
    {
      "cell_type": "markdown",
      "source": [
        "#Summary - Titanic dataset"
      ],
      "metadata": {
        "id": "kgz7MMwKwWxb"
      }
    },
    {
      "cell_type": "code",
      "source": [
        "print(tabulate([[\"Accuracy\",accuracy_RandomForestClassifier,accuracy_ExtraTreesClassifier],[\"Precision\",precision_RandomForestClassifier,precision_ExtraTreesClassifier]], headers=[\"Metric\\Model\",\"RandomForestClassifier\",\"ExtraTreesClassifier\"], tablefmt=\"grid\"))"
      ],
      "metadata": {
        "colab": {
          "base_uri": "https://localhost:8080/"
        },
        "id": "-brN5aMBwZVK",
        "outputId": "53d175dd-e576-49ce-e2d5-20771e02b508"
      },
      "execution_count": 24,
      "outputs": [
        {
          "output_type": "stream",
          "name": "stdout",
          "text": [
            "+----------------+--------------------------+------------------------+\n",
            "| Metric\\Model   |   RandomForestClassifier |   ExtraTreesClassifier |\n",
            "+================+==========================+========================+\n",
            "| Accuracy       |                 0.859756 |               0.832317 |\n",
            "+----------------+--------------------------+------------------------+\n",
            "| Precision      |                 0.859978 |               0.833625 |\n",
            "+----------------+--------------------------+------------------------+\n"
          ]
        }
      ]
    }
  ]
}