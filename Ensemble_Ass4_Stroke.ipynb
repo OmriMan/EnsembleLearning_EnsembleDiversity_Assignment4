{
  "nbformat": 4,
  "nbformat_minor": 0,
  "metadata": {
    "colab": {
      "provenance": [],
      "authorship_tag": "ABX9TyNMiwcC2pL2mFX7AY4UjiOb",
      "include_colab_link": true
    },
    "kernelspec": {
      "name": "python3",
      "display_name": "Python 3"
    },
    "language_info": {
      "name": "python"
    }
  },
  "cells": [
    {
      "cell_type": "markdown",
      "metadata": {
        "id": "view-in-github",
        "colab_type": "text"
      },
      "source": [
        "<a href=\"https://colab.research.google.com/github/OmriMan/EnsembleLearning_EnsembleDiversity_Assignment4/blob/main/Ensemble_Ass4_Stroke.ipynb\" target=\"_parent\"><img src=\"https://colab.research.google.com/assets/colab-badge.svg\" alt=\"Open In Colab\"/></a>"
      ]
    },
    {
      "cell_type": "code",
      "execution_count": 370,
      "metadata": {
        "id": "EsNsoQJTUlKx"
      },
      "outputs": [],
      "source": []
    },
    {
      "cell_type": "markdown",
      "source": [
        "Packages"
      ],
      "metadata": {
        "id": "A5-wBBrlUwSy"
      }
    },
    {
      "cell_type": "code",
      "source": [
        "import numpy as np  \n",
        "import pandas as pd  \n",
        "\n",
        "from sklearn.ensemble import RandomForestClassifier\n",
        "from sklearn.ensemble import ExtraTreesClassifier\n",
        "from matplotlib import pyplot as plt  \n",
        "from sklearn.tree import plot_tree \n",
        "\n",
        "from sklearn.model_selection import train_test_split\n",
        "\n",
        "from sklearn.metrics import accuracy_score\n",
        "\n",
        "from sklearn.metrics import precision_score\n",
        "\n",
        "import random\n",
        "\n",
        "from sklearn.model_selection import RandomizedSearchCV\n",
        "\n",
        "from tabulate import tabulate"
      ],
      "metadata": {
        "id": "t-aj9JzcUxfm"
      },
      "execution_count": 371,
      "outputs": []
    },
    {
      "cell_type": "markdown",
      "source": [
        "#Dataset Stroke Prediction#\n",
        "source: https://www.kaggle.com/datasets/fedesoriano/stroke-prediction-dataset\n",
        "\n",
        "Classify / predict whether a patient can suffer a stroke."
      ],
      "metadata": {
        "id": "sDRcyn_FUwZp"
      }
    },
    {
      "cell_type": "markdown",
      "source": [
        "Dataset Attributes :\n",
        "\n",
        "id : unique identifier\n",
        "\n",
        "gender : \"Male\", \"Female\" or \"Other\"\n",
        "\n",
        "age : age of the patient\n",
        "\n",
        "hypertension: 0 if the patient doesn't have hypertension, 1 if the patient has hypertension\n",
        "\n",
        "heart_disease : 0 if the patient doesn't have any heart diseases, 1 if the patient has a heart disease\n",
        "\n",
        "ever_married : \"No\" or \"Yes\"\n",
        "\n",
        "work_type : \"children\", \"Govt_job\", \"Never_worked\", \"Private\" or \"Self-employed\"\n",
        "\n",
        "Residence_type : \"Rural\" or \"Urban\"\n",
        "\n",
        "avg_glucose_level : average glucose level in blood\n",
        "\n",
        "bmi : body mass index\n",
        "\n",
        "smoking_status : \"formerly smoked\", \"never smoked\", \"smokes\" or \"Unknown\"*\n",
        "\n",
        "stroke : 1 if the patient had a stroke or 0 if not\n",
        "\n",
        "The data contains 5110 observations with 12 attributes.\n",
        "\n",
        "source: https://www.kaggle.com/datasets/fedesoriano/stroke-prediction-dataset"
      ],
      "metadata": {
        "id": "LhlD97XkU2vk"
      }
    },
    {
      "cell_type": "code",
      "source": [
        "def preprocess(df):\n",
        "    # Gender\n",
        "    change = { 'Other': 2,'Female':1,'Male':0}\n",
        "    df.gender = df.gender.map(change)\n",
        "\n",
        "    # BMI\n",
        "    df['bmi'] = df['bmi'].replace(to_replace = np.nan, value =df['bmi'].mean())\n",
        "\n",
        "    # ever_married\n",
        "    change = {'No':0,'Yes':1}\n",
        "    df.ever_married = df.ever_married.map(change)\n",
        "\n",
        "    # Residence_type\t\n",
        "    change = {\"Rural\":1,\"Urban\":2}\n",
        "    df.Residence_type\t = df.Residence_type.map(change)\n",
        "\n",
        "    #work_type\n",
        "    change = {\"children\":0, \"Govt_job\":1, \"Never_worked\":2, \"Private\":3 , \"Self-employed\":4}\n",
        "    df.work_type = df.work_type.map(change)\n",
        "\n",
        "    #smoking_status\n",
        "    change = {\"never smoked\":0, \"formerly smoked\":1, \"smokes\":2, \"Unknown\":3}\n",
        "    df.smoking_status\t = df.smoking_status.map(change)\n",
        "\n",
        "    df = df.drop(columns=['id'])\n",
        "    return df"
      ],
      "metadata": {
        "id": "fo9DLH4JU45w"
      },
      "execution_count": 372,
      "outputs": []
    },
    {
      "cell_type": "markdown",
      "source": [
        "Load the data set"
      ],
      "metadata": {
        "id": "4BRq7ILsU6md"
      }
    },
    {
      "cell_type": "code",
      "source": [
        "df = pd.read_csv('/content/sample_data/stroke.csv')\n",
        "df = preprocess(df)\n",
        "features = ['gender',\t'age',\t'hypertension',\t'heart_disease',\t'ever_married',\t'work_type',\t'Residence_type',\t'avg_glucose_level',\t'bmi',\t'smoking_status']\n",
        "X = df.loc[:, features]\n",
        "y = df.loc[:, ['stroke']]"
      ],
      "metadata": {
        "id": "yvDrGlHHU7gG"
      },
      "execution_count": 373,
      "outputs": []
    },
    {
      "cell_type": "markdown",
      "source": [
        "Split the data into training and testin sets"
      ],
      "metadata": {
        "id": "FTGb3waFU9Eg"
      }
    },
    {
      "cell_type": "code",
      "source": [
        "X_train, X_test, y_train, y_test = train_test_split(X, y, random_state=0, train_size = .75)\n",
        "X_train"
      ],
      "metadata": {
        "colab": {
          "base_uri": "https://localhost:8080/",
          "height": 423
        },
        "id": "Fs2OLtp9VACc",
        "outputId": "012d4f5f-0ce0-4a44-e030-c5223424fee5"
      },
      "execution_count": 374,
      "outputs": [
        {
          "output_type": "execute_result",
          "data": {
            "text/plain": [
              "      gender   age  hypertension  heart_disease  ever_married  work_type  \\\n",
              "2954       1  18.0             0              0             0          3   \n",
              "1933       1  70.0             0              0             1          3   \n",
              "4311       1  65.0             0              0             1          3   \n",
              "2365       1  36.0             0              0             0          3   \n",
              "927        0  64.0             0              0             1          3   \n",
              "...      ...   ...           ...            ...           ...        ...   \n",
              "4931       1  53.0             1              0             1          1   \n",
              "3264       1  61.0             0              0             1          3   \n",
              "1653       0  44.0             0              0             1          3   \n",
              "2607       0  21.0             0              0             0          3   \n",
              "2732       1  58.0             1              0             1          1   \n",
              "\n",
              "      Residence_type  avg_glucose_level   bmi  smoking_status  \n",
              "2954               2              70.54  23.5               3  \n",
              "1933               2              91.25  36.0               3  \n",
              "4311               1             205.78  41.7               0  \n",
              "2365               2             216.96  34.5               3  \n",
              "927                2              86.05  23.0               3  \n",
              "...              ...                ...   ...             ...  \n",
              "4931               1              98.61  38.8               2  \n",
              "3264               1              72.01  26.0               1  \n",
              "1653               1              94.71  28.4               2  \n",
              "2607               2             120.94  29.7               1  \n",
              "2732               1              59.52  33.2               0  \n",
              "\n",
              "[3832 rows x 10 columns]"
            ],
            "text/html": [
              "\n",
              "  <div id=\"df-18973f20-6a7e-4359-a22f-0e2c3e487175\">\n",
              "    <div class=\"colab-df-container\">\n",
              "      <div>\n",
              "<style scoped>\n",
              "    .dataframe tbody tr th:only-of-type {\n",
              "        vertical-align: middle;\n",
              "    }\n",
              "\n",
              "    .dataframe tbody tr th {\n",
              "        vertical-align: top;\n",
              "    }\n",
              "\n",
              "    .dataframe thead th {\n",
              "        text-align: right;\n",
              "    }\n",
              "</style>\n",
              "<table border=\"1\" class=\"dataframe\">\n",
              "  <thead>\n",
              "    <tr style=\"text-align: right;\">\n",
              "      <th></th>\n",
              "      <th>gender</th>\n",
              "      <th>age</th>\n",
              "      <th>hypertension</th>\n",
              "      <th>heart_disease</th>\n",
              "      <th>ever_married</th>\n",
              "      <th>work_type</th>\n",
              "      <th>Residence_type</th>\n",
              "      <th>avg_glucose_level</th>\n",
              "      <th>bmi</th>\n",
              "      <th>smoking_status</th>\n",
              "    </tr>\n",
              "  </thead>\n",
              "  <tbody>\n",
              "    <tr>\n",
              "      <th>2954</th>\n",
              "      <td>1</td>\n",
              "      <td>18.0</td>\n",
              "      <td>0</td>\n",
              "      <td>0</td>\n",
              "      <td>0</td>\n",
              "      <td>3</td>\n",
              "      <td>2</td>\n",
              "      <td>70.54</td>\n",
              "      <td>23.5</td>\n",
              "      <td>3</td>\n",
              "    </tr>\n",
              "    <tr>\n",
              "      <th>1933</th>\n",
              "      <td>1</td>\n",
              "      <td>70.0</td>\n",
              "      <td>0</td>\n",
              "      <td>0</td>\n",
              "      <td>1</td>\n",
              "      <td>3</td>\n",
              "      <td>2</td>\n",
              "      <td>91.25</td>\n",
              "      <td>36.0</td>\n",
              "      <td>3</td>\n",
              "    </tr>\n",
              "    <tr>\n",
              "      <th>4311</th>\n",
              "      <td>1</td>\n",
              "      <td>65.0</td>\n",
              "      <td>0</td>\n",
              "      <td>0</td>\n",
              "      <td>1</td>\n",
              "      <td>3</td>\n",
              "      <td>1</td>\n",
              "      <td>205.78</td>\n",
              "      <td>41.7</td>\n",
              "      <td>0</td>\n",
              "    </tr>\n",
              "    <tr>\n",
              "      <th>2365</th>\n",
              "      <td>1</td>\n",
              "      <td>36.0</td>\n",
              "      <td>0</td>\n",
              "      <td>0</td>\n",
              "      <td>0</td>\n",
              "      <td>3</td>\n",
              "      <td>2</td>\n",
              "      <td>216.96</td>\n",
              "      <td>34.5</td>\n",
              "      <td>3</td>\n",
              "    </tr>\n",
              "    <tr>\n",
              "      <th>927</th>\n",
              "      <td>0</td>\n",
              "      <td>64.0</td>\n",
              "      <td>0</td>\n",
              "      <td>0</td>\n",
              "      <td>1</td>\n",
              "      <td>3</td>\n",
              "      <td>2</td>\n",
              "      <td>86.05</td>\n",
              "      <td>23.0</td>\n",
              "      <td>3</td>\n",
              "    </tr>\n",
              "    <tr>\n",
              "      <th>...</th>\n",
              "      <td>...</td>\n",
              "      <td>...</td>\n",
              "      <td>...</td>\n",
              "      <td>...</td>\n",
              "      <td>...</td>\n",
              "      <td>...</td>\n",
              "      <td>...</td>\n",
              "      <td>...</td>\n",
              "      <td>...</td>\n",
              "      <td>...</td>\n",
              "    </tr>\n",
              "    <tr>\n",
              "      <th>4931</th>\n",
              "      <td>1</td>\n",
              "      <td>53.0</td>\n",
              "      <td>1</td>\n",
              "      <td>0</td>\n",
              "      <td>1</td>\n",
              "      <td>1</td>\n",
              "      <td>1</td>\n",
              "      <td>98.61</td>\n",
              "      <td>38.8</td>\n",
              "      <td>2</td>\n",
              "    </tr>\n",
              "    <tr>\n",
              "      <th>3264</th>\n",
              "      <td>1</td>\n",
              "      <td>61.0</td>\n",
              "      <td>0</td>\n",
              "      <td>0</td>\n",
              "      <td>1</td>\n",
              "      <td>3</td>\n",
              "      <td>1</td>\n",
              "      <td>72.01</td>\n",
              "      <td>26.0</td>\n",
              "      <td>1</td>\n",
              "    </tr>\n",
              "    <tr>\n",
              "      <th>1653</th>\n",
              "      <td>0</td>\n",
              "      <td>44.0</td>\n",
              "      <td>0</td>\n",
              "      <td>0</td>\n",
              "      <td>1</td>\n",
              "      <td>3</td>\n",
              "      <td>1</td>\n",
              "      <td>94.71</td>\n",
              "      <td>28.4</td>\n",
              "      <td>2</td>\n",
              "    </tr>\n",
              "    <tr>\n",
              "      <th>2607</th>\n",
              "      <td>0</td>\n",
              "      <td>21.0</td>\n",
              "      <td>0</td>\n",
              "      <td>0</td>\n",
              "      <td>0</td>\n",
              "      <td>3</td>\n",
              "      <td>2</td>\n",
              "      <td>120.94</td>\n",
              "      <td>29.7</td>\n",
              "      <td>1</td>\n",
              "    </tr>\n",
              "    <tr>\n",
              "      <th>2732</th>\n",
              "      <td>1</td>\n",
              "      <td>58.0</td>\n",
              "      <td>1</td>\n",
              "      <td>0</td>\n",
              "      <td>1</td>\n",
              "      <td>1</td>\n",
              "      <td>1</td>\n",
              "      <td>59.52</td>\n",
              "      <td>33.2</td>\n",
              "      <td>0</td>\n",
              "    </tr>\n",
              "  </tbody>\n",
              "</table>\n",
              "<p>3832 rows × 10 columns</p>\n",
              "</div>\n",
              "      <button class=\"colab-df-convert\" onclick=\"convertToInteractive('df-18973f20-6a7e-4359-a22f-0e2c3e487175')\"\n",
              "              title=\"Convert this dataframe to an interactive table.\"\n",
              "              style=\"display:none;\">\n",
              "        \n",
              "  <svg xmlns=\"http://www.w3.org/2000/svg\" height=\"24px\"viewBox=\"0 0 24 24\"\n",
              "       width=\"24px\">\n",
              "    <path d=\"M0 0h24v24H0V0z\" fill=\"none\"/>\n",
              "    <path d=\"M18.56 5.44l.94 2.06.94-2.06 2.06-.94-2.06-.94-.94-2.06-.94 2.06-2.06.94zm-11 1L8.5 8.5l.94-2.06 2.06-.94-2.06-.94L8.5 2.5l-.94 2.06-2.06.94zm10 10l.94 2.06.94-2.06 2.06-.94-2.06-.94-.94-2.06-.94 2.06-2.06.94z\"/><path d=\"M17.41 7.96l-1.37-1.37c-.4-.4-.92-.59-1.43-.59-.52 0-1.04.2-1.43.59L10.3 9.45l-7.72 7.72c-.78.78-.78 2.05 0 2.83L4 21.41c.39.39.9.59 1.41.59.51 0 1.02-.2 1.41-.59l7.78-7.78 2.81-2.81c.8-.78.8-2.07 0-2.86zM5.41 20L4 18.59l7.72-7.72 1.47 1.35L5.41 20z\"/>\n",
              "  </svg>\n",
              "      </button>\n",
              "      \n",
              "  <style>\n",
              "    .colab-df-container {\n",
              "      display:flex;\n",
              "      flex-wrap:wrap;\n",
              "      gap: 12px;\n",
              "    }\n",
              "\n",
              "    .colab-df-convert {\n",
              "      background-color: #E8F0FE;\n",
              "      border: none;\n",
              "      border-radius: 50%;\n",
              "      cursor: pointer;\n",
              "      display: none;\n",
              "      fill: #1967D2;\n",
              "      height: 32px;\n",
              "      padding: 0 0 0 0;\n",
              "      width: 32px;\n",
              "    }\n",
              "\n",
              "    .colab-df-convert:hover {\n",
              "      background-color: #E2EBFA;\n",
              "      box-shadow: 0px 1px 2px rgba(60, 64, 67, 0.3), 0px 1px 3px 1px rgba(60, 64, 67, 0.15);\n",
              "      fill: #174EA6;\n",
              "    }\n",
              "\n",
              "    [theme=dark] .colab-df-convert {\n",
              "      background-color: #3B4455;\n",
              "      fill: #D2E3FC;\n",
              "    }\n",
              "\n",
              "    [theme=dark] .colab-df-convert:hover {\n",
              "      background-color: #434B5C;\n",
              "      box-shadow: 0px 1px 3px 1px rgba(0, 0, 0, 0.15);\n",
              "      filter: drop-shadow(0px 1px 2px rgba(0, 0, 0, 0.3));\n",
              "      fill: #FFFFFF;\n",
              "    }\n",
              "  </style>\n",
              "\n",
              "      <script>\n",
              "        const buttonEl =\n",
              "          document.querySelector('#df-18973f20-6a7e-4359-a22f-0e2c3e487175 button.colab-df-convert');\n",
              "        buttonEl.style.display =\n",
              "          google.colab.kernel.accessAllowed ? 'block' : 'none';\n",
              "\n",
              "        async function convertToInteractive(key) {\n",
              "          const element = document.querySelector('#df-18973f20-6a7e-4359-a22f-0e2c3e487175');\n",
              "          const dataTable =\n",
              "            await google.colab.kernel.invokeFunction('convertToInteractive',\n",
              "                                                     [key], {});\n",
              "          if (!dataTable) return;\n",
              "\n",
              "          const docLinkHtml = 'Like what you see? Visit the ' +\n",
              "            '<a target=\"_blank\" href=https://colab.research.google.com/notebooks/data_table.ipynb>data table notebook</a>'\n",
              "            + ' to learn more about interactive tables.';\n",
              "          element.innerHTML = '';\n",
              "          dataTable['output_type'] = 'display_data';\n",
              "          await google.colab.output.renderOutput(dataTable, element);\n",
              "          const docLink = document.createElement('div');\n",
              "          docLink.innerHTML = docLinkHtml;\n",
              "          element.appendChild(docLink);\n",
              "        }\n",
              "      </script>\n",
              "    </div>\n",
              "  </div>\n",
              "  "
            ]
          },
          "metadata": {},
          "execution_count": 374
        }
      ]
    },
    {
      "cell_type": "code",
      "source": [
        "train = X_train"
      ],
      "metadata": {
        "id": "RFWxPYesErTi"
      },
      "execution_count": 375,
      "outputs": []
    },
    {
      "cell_type": "markdown",
      "source": [],
      "metadata": {
        "id": "6gk6tzkuVEYH"
      }
    },
    {
      "cell_type": "code",
      "source": [
        "df = pd.read_csv('/content/sample_data/stroke.csv')\n",
        "df.isna().sum()"
      ],
      "metadata": {
        "colab": {
          "base_uri": "https://localhost:8080/"
        },
        "id": "HoYkZ9vrVEnZ",
        "outputId": "8bc9f670-2f2a-43e0-8d8a-7e65176f341d"
      },
      "execution_count": 376,
      "outputs": [
        {
          "output_type": "execute_result",
          "data": {
            "text/plain": [
              "id                     0\n",
              "gender                 0\n",
              "age                    0\n",
              "hypertension           0\n",
              "heart_disease          0\n",
              "ever_married           0\n",
              "work_type              0\n",
              "Residence_type         0\n",
              "avg_glucose_level      0\n",
              "bmi                  201\n",
              "smoking_status         0\n",
              "stroke                 0\n",
              "dtype: int64"
            ]
          },
          "metadata": {},
          "execution_count": 376
        }
      ]
    },
    {
      "cell_type": "markdown",
      "source": [
        "#Target class distribution#"
      ],
      "metadata": {
        "id": "sCpEs5DYVHuy"
      }
    },
    {
      "cell_type": "code",
      "source": [
        "target = df['stroke']\n",
        "target.value_counts()"
      ],
      "metadata": {
        "colab": {
          "base_uri": "https://localhost:8080/"
        },
        "id": "n4xLMMVhVIeo",
        "outputId": "42c49e37-e0d0-4ae2-f8b9-bb81fdc17cee"
      },
      "execution_count": 377,
      "outputs": [
        {
          "output_type": "execute_result",
          "data": {
            "text/plain": [
              "0    4861\n",
              "1     249\n",
              "Name: stroke, dtype: int64"
            ]
          },
          "metadata": {},
          "execution_count": 377
        }
      ]
    },
    {
      "cell_type": "markdown",
      "source": [
        "#Define and train the models #"
      ],
      "metadata": {
        "id": "P9TETG-eVKRR"
      }
    },
    {
      "cell_type": "markdown",
      "source": [
        "Random Forest Classifier"
      ],
      "metadata": {
        "id": "NOeBQU_MVOTp"
      }
    },
    {
      "cell_type": "code",
      "source": [
        "model_rf = RandomForestClassifier(n_estimators=100)\n",
        "model_rf.fit(X_train,np.ravel(y_train))"
      ],
      "metadata": {
        "colab": {
          "base_uri": "https://localhost:8080/"
        },
        "id": "4TnoWzA5VR3F",
        "outputId": "2184d2c9-1c49-4fb3-dfef-204c0561f7b8"
      },
      "execution_count": 378,
      "outputs": [
        {
          "output_type": "execute_result",
          "data": {
            "text/plain": [
              "RandomForestClassifier()"
            ]
          },
          "metadata": {},
          "execution_count": 378
        }
      ]
    },
    {
      "cell_type": "code",
      "source": [
        "inputs = pd.DataFrame(X_test)\n",
        "prediction_RandomForestClassifier = model_rf.predict(\n",
        "    inputs\n",
        ")\n",
        "accuracy_RandomForestClassifier = accuracy_score(y_test,prediction_RandomForestClassifier)\n",
        "print(f\"Accuracy score of RandomForestClassifier = {accuracy_RandomForestClassifier}\")\n",
        "\n",
        "precision_RandomForestClassifier = precision_score(y_test,prediction_RandomForestClassifier,average='weighted')\n",
        "print(f\"Precision score of RandomForestClassifier = {precision_RandomForestClassifier}\")"
      ],
      "metadata": {
        "colab": {
          "base_uri": "https://localhost:8080/"
        },
        "id": "iqkvOdBuVZDu",
        "outputId": "d8deabe7-78ef-4379-bd37-27e5696d8496"
      },
      "execution_count": 379,
      "outputs": [
        {
          "output_type": "stream",
          "name": "stdout",
          "text": [
            "Accuracy score of RandomForestClassifier = 0.9483568075117371\n",
            "Precision score of RandomForestClassifier = 0.9008275704868732\n"
          ]
        }
      ]
    },
    {
      "cell_type": "markdown",
      "source": [
        "Extremely Randomized Trees"
      ],
      "metadata": {
        "id": "6NHwl1S7VfTC"
      }
    },
    {
      "cell_type": "code",
      "source": [
        "model_ExtraTreesClassifier = ExtraTreesClassifier(n_estimators=100)\n",
        "model_ExtraTreesClassifier.fit(\n",
        "    X_train,\n",
        "    np.ravel(y_train)\n",
        ")"
      ],
      "metadata": {
        "colab": {
          "base_uri": "https://localhost:8080/"
        },
        "id": "tXdeBFuXVhDs",
        "outputId": "fd9c8a2a-aeb2-44ab-ce1d-9bbbdb0ee3c0"
      },
      "execution_count": 380,
      "outputs": [
        {
          "output_type": "execute_result",
          "data": {
            "text/plain": [
              "ExtraTreesClassifier()"
            ]
          },
          "metadata": {},
          "execution_count": 380
        }
      ]
    },
    {
      "cell_type": "code",
      "source": [
        "inputs = pd.DataFrame(X_test)\n",
        "prediction_ExtraTreesClassifier = model_ExtraTreesClassifier.predict(\n",
        "    inputs\n",
        ")\n",
        "accuracy_ExtraTreesClassifier = accuracy_score(y_test,prediction_ExtraTreesClassifier)\n",
        "print(f\"Accuracy score of ExtraTreesClassifier = {accuracy_ExtraTreesClassifier}\")\n",
        "\n",
        "precision_ExtraTreesClassifier = precision_score(y_test,prediction_ExtraTreesClassifier,average='weighted')\n",
        "print(f\"Precision score of ExtraTreesClassifier = {precision_ExtraTreesClassifier}\")"
      ],
      "metadata": {
        "colab": {
          "base_uri": "https://localhost:8080/"
        },
        "id": "prDJH8oYVjF1",
        "outputId": "7be18f5f-03cc-4862-ddb3-29360dd61d45"
      },
      "execution_count": 381,
      "outputs": [
        {
          "output_type": "stream",
          "name": "stdout",
          "text": [
            "Accuracy score of ExtraTreesClassifier = 0.9413145539906104\n",
            "Precision score of ExtraTreesClassifier = 0.9004846640304497\n"
          ]
        }
      ]
    },
    {
      "cell_type": "markdown",
      "source": [
        "Summary - Stroke dataset"
      ],
      "metadata": {
        "id": "HzwCCT9PVlD6"
      }
    },
    {
      "cell_type": "code",
      "source": [
        "print(tabulate([[\"Accuracy\",accuracy_RandomForestClassifier,accuracy_ExtraTreesClassifier],[\"Precision\",precision_RandomForestClassifier,precision_ExtraTreesClassifier]], headers=[\"Metric\\Model\",\"RandomForestClassifier\",\"ExtraTreesClassifier\"], tablefmt=\"grid\"))"
      ],
      "metadata": {
        "colab": {
          "base_uri": "https://localhost:8080/"
        },
        "id": "mdnMOcwlVl3n",
        "outputId": "88d95a33-ebcf-4132-a117-440998e56b4b"
      },
      "execution_count": 382,
      "outputs": [
        {
          "output_type": "stream",
          "name": "stdout",
          "text": [
            "+----------------+--------------------------+------------------------+\n",
            "| Metric\\Model   |   RandomForestClassifier |   ExtraTreesClassifier |\n",
            "+================+==========================+========================+\n",
            "| Accuracy       |                 0.948357 |               0.941315 |\n",
            "+----------------+--------------------------+------------------------+\n",
            "| Precision      |                 0.900828 |               0.900485 |\n",
            "+----------------+--------------------------+------------------------+\n"
          ]
        }
      ]
    },
    {
      "cell_type": "code",
      "source": [],
      "metadata": {
        "id": "yQCk-2jS7AU9"
      },
      "execution_count": 382,
      "outputs": []
    },
    {
      "cell_type": "code",
      "source": [
        "# i=0\n",
        "# print(len(model_rf.estimators_))\n",
        "# for t in model_rf.estimators_:\n",
        "#   if i%2==0:\n",
        "#     model_rf.estimators_.remove(t)\n",
        "#   i+=0\n",
        "# print(\"DHODI\")\n",
        "# print(len(model_rf.estimators_))"
      ],
      "metadata": {
        "id": "S6ataMaQ7An7"
      },
      "execution_count": 383,
      "outputs": []
    },
    {
      "cell_type": "code",
      "source": [
        "a = [5, 7, 11, 4, 5]\n",
        "for i in range(1,len(a)):\n",
        "  for previous, current in zip(a, a[i:]):\n",
        "      print(previous, current)"
      ],
      "metadata": {
        "colab": {
          "base_uri": "https://localhost:8080/"
        },
        "id": "EgBsUGxXDJjM",
        "outputId": "2d752adb-becd-4c23-c7e8-f85f6cb1873d"
      },
      "execution_count": 384,
      "outputs": [
        {
          "output_type": "stream",
          "name": "stdout",
          "text": [
            "5 7\n",
            "7 11\n",
            "11 4\n",
            "4 5\n",
            "5 11\n",
            "7 4\n",
            "11 5\n",
            "5 4\n",
            "7 5\n",
            "5 5\n"
          ]
        }
      ]
    },
    {
      "cell_type": "code",
      "source": [
        "from sklearn import tree\n",
        "inputs_train = pd.DataFrame(X_train)\n",
        "def DoubleFaultMeasure(s, set_of_classifiers):\n",
        "  train_set=s[0]\n",
        "  sum = 0\n",
        "  i_index = 0\n",
        "  for i in set_of_classifiers.estimators_:\n",
        "    # i.fit(X_train,np.ravel(y_train))\n",
        "    preds_i = i.predict(inputs_train.values)\n",
        "    for j in set_of_classifiers.estimators_[i_index:]:\n",
        "      num_of_instances = 0\n",
        "      if i != j: # if not the same tree\n",
        "        preds_j = j.predict(inputs_train.values)\n",
        "        for k in range(len(np.ravel(y_train))):\n",
        "          if (preds_i[k] != np.ravel(y_train)[k] and preds_j[k] != np.ravel(y_train)[k]): # if both trees misclasified then add 1 to num of instances...\n",
        "            num_of_instances += 1\n",
        "\n",
        "        sum += num_of_instances\n",
        "    i_index += 1\n",
        "    # print(i_index)\n",
        "\n",
        "  res = (2*sum)/(len(train_set)*len(set_of_classifiers.estimators_)*(len(set_of_classifiers.estimators_)-1))\n",
        "  return res"
      ],
      "metadata": {
        "id": "FRpx-s_Sc_5R"
      },
      "execution_count": 411,
      "outputs": []
    },
    {
      "cell_type": "code",
      "source": [
        "DoubleFaultMeasure((X_train,y_train),model_rf)"
      ],
      "metadata": {
        "colab": {
          "base_uri": "https://localhost:8080/"
        },
        "id": "wTzIhQVweBSy",
        "outputId": "a7d35ae3-7b6e-4f8c-b40d-029e3747c21d"
      },
      "execution_count": 412,
      "outputs": [
        {
          "output_type": "execute_result",
          "data": {
            "text/plain": [
              "0.00677076676181955"
            ]
          },
          "metadata": {},
          "execution_count": 412
        }
      ]
    },
    {
      "cell_type": "code",
      "source": [
        "def kohavi_wolpert(s,m):\n",
        "  '''\n",
        "  s - the original training set tuple of (X_train,y_train) --> ((dataframe),((dataframe))\n",
        "  s[0] = x train\n",
        "  s[1] = y train\n",
        "  m - list of classifiers examined\n",
        "  '''\n",
        "  x = s[0]\n",
        "  y=s[1]\n",
        "  predictions =[]\n",
        "  sum =0\n",
        "  # For each classifier, insert all its predictions (depending on the index of x) into the list .\n",
        "  for classifier in m:\n",
        "    preds = classifier.predict(x.values)\n",
        "    predictions.append(preds)\n",
        "  # Run through all the records in the training set and for each record : count the number of classifiers that made an incorrect classification(misclassified)\n",
        "  l_i=0\n",
        "  for (index_x, x_i),(index_y, y_i),pred_index in zip(x.iterrows(),y.iterrows(),range(len(predictions[0]))):\n",
        "    l_i=0\n",
        "    for model_i_prediction in predictions:\n",
        "      # l_i = number of classifiers misclassified x_i,y_i\n",
        "      if model_i_prediction[pred_index] != y_i.values:\n",
        "        l_i+=1\n",
        "      #end sum all misclassification for x_i,y_i\n",
        "    #sum = sum + l_i * (len(m) - l_i)\n",
        "    sum = sum + ( l_i * ( len(m)-l_i ) ) \n",
        "  # print(f\"sum/(len(x)*(len(m)**2)) : {sum/(len(x)*(len(m)**2))}\")\n",
        "  return (sum) / ( len(y) * (len(m)**2) )\n",
        "\n"
      ],
      "metadata": {
        "id": "kvjonnmigPc2"
      },
      "execution_count": 387,
      "outputs": []
    },
    {
      "cell_type": "code",
      "source": [
        "kohavi_wolpert((X_train,y_train),model_rf.estimators_)"
      ],
      "metadata": {
        "colab": {
          "base_uri": "https://localhost:8080/"
        },
        "id": "NrmCwJJNEVlo",
        "outputId": "615749bd-1c7a-4e91-ea53-6ddcbcc2cabc"
      },
      "execution_count": 388,
      "outputs": [
        {
          "output_type": "execute_result",
          "data": {
            "text/plain": [
              "0.02539151878914405"
            ]
          },
          "metadata": {},
          "execution_count": 388
        }
      ]
    },
    {
      "cell_type": "code",
      "source": [
        "def inter_rater_measure(s,m):\n",
        "  '''\n",
        "  s - the original training set tuple of (X_train,y_train) --> ((dataframe),((dataframe))\n",
        "  s[0] = x train\n",
        "  s[1] = y train\n",
        "  m - list of classifiers examined\n",
        "  '''\n",
        "  x = s[0]\n",
        "  y=s[1]\n",
        "  predictions =[]\n",
        "  sum =0\n",
        "  # For each classifier, insert all its predictions (depending on the index of x) into the list .\n",
        "  for classifier in m:\n",
        "    preds = classifier.predict(x.values)\n",
        "    predictions.append(preds)\n",
        "  # Run through all the records in the training set and for each record : count the number of classifiers that made an incorrect classification(misclassified)\n",
        "  l=[]\n",
        "  for (index_x, x_i),(index_y, y_i),pred_index in zip(x.iterrows(),y.iterrows(),range(len(predictions[0]))):\n",
        "    l_i=0\n",
        "    for model_i_prediction in predictions:\n",
        "      # l_i = number of classifiers misclassified x_i,y_i\n",
        "      if model_i_prediction[pred_index] != y_i.values:\n",
        "        l_i+=1\n",
        "      #end sum all misclassification for x_i,y_i\n",
        "    l.append(l_i)\n",
        "    #sum = sum + l_i * (len(m) - l_i)\n",
        "    sum = sum + ( l_i * ( len(m) - l_i) )\n",
        "  # p = 1 - ( sum(l) / (|s| *|m|) )\n",
        "  sum_l=0\n",
        "  for val in l:\n",
        "    sum_l+=val\n",
        "  p = 1 - ( sum_l / (len(x)*len(m)) )\n",
        "  result = 1 - (sum / ( len(x)*len(m)*(len(m)-1)*p*(1-p)  ) )\n",
        "  return result"
      ],
      "metadata": {
        "id": "lDomh8_ZAsGZ"
      },
      "execution_count": 389,
      "outputs": []
    },
    {
      "cell_type": "code",
      "source": [
        "inter_rater_measure((X_train,y_train),model_rf.estimators_)"
      ],
      "metadata": {
        "colab": {
          "base_uri": "https://localhost:8080/"
        },
        "id": "Nrxuh2tyEXbl",
        "outputId": "7270ec92-48cf-4ad9-d63e-56502ae3f92e"
      },
      "execution_count": 390,
      "outputs": [
        {
          "output_type": "execute_result",
          "data": {
            "text/plain": [
              "0.1586347431252514"
            ]
          },
          "metadata": {},
          "execution_count": 390
        }
      ]
    },
    {
      "cell_type": "code",
      "source": [
        "import statistics\n",
        "def general_diversity(s,m):\n",
        "  '''\n",
        "  s - the original training set tuple of (X_train,y_train) --> ((dataframe),((dataframe))\n",
        "  s[0] = x train\n",
        "  s[1] = y train\n",
        "  m - list of classifiers examined\n",
        "  '''\n",
        "  x = s[0]\n",
        "  y=s[1]\n",
        "  predictions =[]\n",
        "  # For each classifier, insert all its predictions (depending on the index of x) into the list .\n",
        "  for classifier in m:\n",
        "    preds = classifier.predict(x.values)\n",
        "    predictions.append(preds)\n",
        "  # Run through all the records in the training set and for each record : count the number of classifiers that made an incorrect classification(misclassified)\n",
        "  v=[]\n",
        "  for (index_x, x_i),(index_y, y_i),pred_index in zip(x.iterrows(),y.iterrows(),range(len(predictions[0]))):\n",
        "    l_i=0\n",
        "    for model_i_prediction in predictions:\n",
        "      # l_i = number of classifiers misclassified x_i,y_i\n",
        "      if model_i_prediction[pred_index] != y_i.values:\n",
        "        l_i+=1\n",
        "      #end sum all misclassification for x_i,y_i\n",
        "    v_i= (len(m)-l_i) / len(m)\n",
        "    v.append(v_i)\n",
        "  # end of run through all the records in the training set and for each record : count the number of classifiers that made an incorrect classification(misclassified)\n",
        "  # compute variance of v using statistics.variance\n",
        "  variance_v = statistics.variance(v)\n",
        "  return variance_v"
      ],
      "metadata": {
        "id": "kLdr3cbVEU7l"
      },
      "execution_count": 391,
      "outputs": []
    },
    {
      "cell_type": "code",
      "source": [
        "general_diversity((X_train,y_train),model_rf.estimators_)"
      ],
      "metadata": {
        "colab": {
          "base_uri": "https://localhost:8080/"
        },
        "id": "khZ3mQ3GwFyQ",
        "outputId": "b6dcf474-dd54-4b66-c16e-9844852ba447"
      },
      "execution_count": 392,
      "outputs": [
        {
          "output_type": "execute_result",
          "data": {
            "text/plain": [
              "0.005093596839920896"
            ]
          },
          "metadata": {},
          "execution_count": 392
        }
      ]
    },
    {
      "cell_type": "code",
      "source": [
        "X_train"
      ],
      "metadata": {
        "colab": {
          "base_uri": "https://localhost:8080/",
          "height": 423
        },
        "id": "7r4LzBLmgypU",
        "outputId": "14f05f34-fcc4-4ef2-a798-8c264e06500d"
      },
      "execution_count": 393,
      "outputs": [
        {
          "output_type": "execute_result",
          "data": {
            "text/plain": [
              "      gender   age  hypertension  heart_disease  ever_married  work_type  \\\n",
              "2954       1  18.0             0              0             0          3   \n",
              "1933       1  70.0             0              0             1          3   \n",
              "4311       1  65.0             0              0             1          3   \n",
              "2365       1  36.0             0              0             0          3   \n",
              "927        0  64.0             0              0             1          3   \n",
              "...      ...   ...           ...            ...           ...        ...   \n",
              "4931       1  53.0             1              0             1          1   \n",
              "3264       1  61.0             0              0             1          3   \n",
              "1653       0  44.0             0              0             1          3   \n",
              "2607       0  21.0             0              0             0          3   \n",
              "2732       1  58.0             1              0             1          1   \n",
              "\n",
              "      Residence_type  avg_glucose_level   bmi  smoking_status  \n",
              "2954               2              70.54  23.5               3  \n",
              "1933               2              91.25  36.0               3  \n",
              "4311               1             205.78  41.7               0  \n",
              "2365               2             216.96  34.5               3  \n",
              "927                2              86.05  23.0               3  \n",
              "...              ...                ...   ...             ...  \n",
              "4931               1              98.61  38.8               2  \n",
              "3264               1              72.01  26.0               1  \n",
              "1653               1              94.71  28.4               2  \n",
              "2607               2             120.94  29.7               1  \n",
              "2732               1              59.52  33.2               0  \n",
              "\n",
              "[3832 rows x 10 columns]"
            ],
            "text/html": [
              "\n",
              "  <div id=\"df-629330c1-5eb2-480f-ba81-10e685902d63\">\n",
              "    <div class=\"colab-df-container\">\n",
              "      <div>\n",
              "<style scoped>\n",
              "    .dataframe tbody tr th:only-of-type {\n",
              "        vertical-align: middle;\n",
              "    }\n",
              "\n",
              "    .dataframe tbody tr th {\n",
              "        vertical-align: top;\n",
              "    }\n",
              "\n",
              "    .dataframe thead th {\n",
              "        text-align: right;\n",
              "    }\n",
              "</style>\n",
              "<table border=\"1\" class=\"dataframe\">\n",
              "  <thead>\n",
              "    <tr style=\"text-align: right;\">\n",
              "      <th></th>\n",
              "      <th>gender</th>\n",
              "      <th>age</th>\n",
              "      <th>hypertension</th>\n",
              "      <th>heart_disease</th>\n",
              "      <th>ever_married</th>\n",
              "      <th>work_type</th>\n",
              "      <th>Residence_type</th>\n",
              "      <th>avg_glucose_level</th>\n",
              "      <th>bmi</th>\n",
              "      <th>smoking_status</th>\n",
              "    </tr>\n",
              "  </thead>\n",
              "  <tbody>\n",
              "    <tr>\n",
              "      <th>2954</th>\n",
              "      <td>1</td>\n",
              "      <td>18.0</td>\n",
              "      <td>0</td>\n",
              "      <td>0</td>\n",
              "      <td>0</td>\n",
              "      <td>3</td>\n",
              "      <td>2</td>\n",
              "      <td>70.54</td>\n",
              "      <td>23.5</td>\n",
              "      <td>3</td>\n",
              "    </tr>\n",
              "    <tr>\n",
              "      <th>1933</th>\n",
              "      <td>1</td>\n",
              "      <td>70.0</td>\n",
              "      <td>0</td>\n",
              "      <td>0</td>\n",
              "      <td>1</td>\n",
              "      <td>3</td>\n",
              "      <td>2</td>\n",
              "      <td>91.25</td>\n",
              "      <td>36.0</td>\n",
              "      <td>3</td>\n",
              "    </tr>\n",
              "    <tr>\n",
              "      <th>4311</th>\n",
              "      <td>1</td>\n",
              "      <td>65.0</td>\n",
              "      <td>0</td>\n",
              "      <td>0</td>\n",
              "      <td>1</td>\n",
              "      <td>3</td>\n",
              "      <td>1</td>\n",
              "      <td>205.78</td>\n",
              "      <td>41.7</td>\n",
              "      <td>0</td>\n",
              "    </tr>\n",
              "    <tr>\n",
              "      <th>2365</th>\n",
              "      <td>1</td>\n",
              "      <td>36.0</td>\n",
              "      <td>0</td>\n",
              "      <td>0</td>\n",
              "      <td>0</td>\n",
              "      <td>3</td>\n",
              "      <td>2</td>\n",
              "      <td>216.96</td>\n",
              "      <td>34.5</td>\n",
              "      <td>3</td>\n",
              "    </tr>\n",
              "    <tr>\n",
              "      <th>927</th>\n",
              "      <td>0</td>\n",
              "      <td>64.0</td>\n",
              "      <td>0</td>\n",
              "      <td>0</td>\n",
              "      <td>1</td>\n",
              "      <td>3</td>\n",
              "      <td>2</td>\n",
              "      <td>86.05</td>\n",
              "      <td>23.0</td>\n",
              "      <td>3</td>\n",
              "    </tr>\n",
              "    <tr>\n",
              "      <th>...</th>\n",
              "      <td>...</td>\n",
              "      <td>...</td>\n",
              "      <td>...</td>\n",
              "      <td>...</td>\n",
              "      <td>...</td>\n",
              "      <td>...</td>\n",
              "      <td>...</td>\n",
              "      <td>...</td>\n",
              "      <td>...</td>\n",
              "      <td>...</td>\n",
              "    </tr>\n",
              "    <tr>\n",
              "      <th>4931</th>\n",
              "      <td>1</td>\n",
              "      <td>53.0</td>\n",
              "      <td>1</td>\n",
              "      <td>0</td>\n",
              "      <td>1</td>\n",
              "      <td>1</td>\n",
              "      <td>1</td>\n",
              "      <td>98.61</td>\n",
              "      <td>38.8</td>\n",
              "      <td>2</td>\n",
              "    </tr>\n",
              "    <tr>\n",
              "      <th>3264</th>\n",
              "      <td>1</td>\n",
              "      <td>61.0</td>\n",
              "      <td>0</td>\n",
              "      <td>0</td>\n",
              "      <td>1</td>\n",
              "      <td>3</td>\n",
              "      <td>1</td>\n",
              "      <td>72.01</td>\n",
              "      <td>26.0</td>\n",
              "      <td>1</td>\n",
              "    </tr>\n",
              "    <tr>\n",
              "      <th>1653</th>\n",
              "      <td>0</td>\n",
              "      <td>44.0</td>\n",
              "      <td>0</td>\n",
              "      <td>0</td>\n",
              "      <td>1</td>\n",
              "      <td>3</td>\n",
              "      <td>1</td>\n",
              "      <td>94.71</td>\n",
              "      <td>28.4</td>\n",
              "      <td>2</td>\n",
              "    </tr>\n",
              "    <tr>\n",
              "      <th>2607</th>\n",
              "      <td>0</td>\n",
              "      <td>21.0</td>\n",
              "      <td>0</td>\n",
              "      <td>0</td>\n",
              "      <td>0</td>\n",
              "      <td>3</td>\n",
              "      <td>2</td>\n",
              "      <td>120.94</td>\n",
              "      <td>29.7</td>\n",
              "      <td>1</td>\n",
              "    </tr>\n",
              "    <tr>\n",
              "      <th>2732</th>\n",
              "      <td>1</td>\n",
              "      <td>58.0</td>\n",
              "      <td>1</td>\n",
              "      <td>0</td>\n",
              "      <td>1</td>\n",
              "      <td>1</td>\n",
              "      <td>1</td>\n",
              "      <td>59.52</td>\n",
              "      <td>33.2</td>\n",
              "      <td>0</td>\n",
              "    </tr>\n",
              "  </tbody>\n",
              "</table>\n",
              "<p>3832 rows × 10 columns</p>\n",
              "</div>\n",
              "      <button class=\"colab-df-convert\" onclick=\"convertToInteractive('df-629330c1-5eb2-480f-ba81-10e685902d63')\"\n",
              "              title=\"Convert this dataframe to an interactive table.\"\n",
              "              style=\"display:none;\">\n",
              "        \n",
              "  <svg xmlns=\"http://www.w3.org/2000/svg\" height=\"24px\"viewBox=\"0 0 24 24\"\n",
              "       width=\"24px\">\n",
              "    <path d=\"M0 0h24v24H0V0z\" fill=\"none\"/>\n",
              "    <path d=\"M18.56 5.44l.94 2.06.94-2.06 2.06-.94-2.06-.94-.94-2.06-.94 2.06-2.06.94zm-11 1L8.5 8.5l.94-2.06 2.06-.94-2.06-.94L8.5 2.5l-.94 2.06-2.06.94zm10 10l.94 2.06.94-2.06 2.06-.94-2.06-.94-.94-2.06-.94 2.06-2.06.94z\"/><path d=\"M17.41 7.96l-1.37-1.37c-.4-.4-.92-.59-1.43-.59-.52 0-1.04.2-1.43.59L10.3 9.45l-7.72 7.72c-.78.78-.78 2.05 0 2.83L4 21.41c.39.39.9.59 1.41.59.51 0 1.02-.2 1.41-.59l7.78-7.78 2.81-2.81c.8-.78.8-2.07 0-2.86zM5.41 20L4 18.59l7.72-7.72 1.47 1.35L5.41 20z\"/>\n",
              "  </svg>\n",
              "      </button>\n",
              "      \n",
              "  <style>\n",
              "    .colab-df-container {\n",
              "      display:flex;\n",
              "      flex-wrap:wrap;\n",
              "      gap: 12px;\n",
              "    }\n",
              "\n",
              "    .colab-df-convert {\n",
              "      background-color: #E8F0FE;\n",
              "      border: none;\n",
              "      border-radius: 50%;\n",
              "      cursor: pointer;\n",
              "      display: none;\n",
              "      fill: #1967D2;\n",
              "      height: 32px;\n",
              "      padding: 0 0 0 0;\n",
              "      width: 32px;\n",
              "    }\n",
              "\n",
              "    .colab-df-convert:hover {\n",
              "      background-color: #E2EBFA;\n",
              "      box-shadow: 0px 1px 2px rgba(60, 64, 67, 0.3), 0px 1px 3px 1px rgba(60, 64, 67, 0.15);\n",
              "      fill: #174EA6;\n",
              "    }\n",
              "\n",
              "    [theme=dark] .colab-df-convert {\n",
              "      background-color: #3B4455;\n",
              "      fill: #D2E3FC;\n",
              "    }\n",
              "\n",
              "    [theme=dark] .colab-df-convert:hover {\n",
              "      background-color: #434B5C;\n",
              "      box-shadow: 0px 1px 3px 1px rgba(0, 0, 0, 0.15);\n",
              "      filter: drop-shadow(0px 1px 2px rgba(0, 0, 0, 0.3));\n",
              "      fill: #FFFFFF;\n",
              "    }\n",
              "  </style>\n",
              "\n",
              "      <script>\n",
              "        const buttonEl =\n",
              "          document.querySelector('#df-629330c1-5eb2-480f-ba81-10e685902d63 button.colab-df-convert');\n",
              "        buttonEl.style.display =\n",
              "          google.colab.kernel.accessAllowed ? 'block' : 'none';\n",
              "\n",
              "        async function convertToInteractive(key) {\n",
              "          const element = document.querySelector('#df-629330c1-5eb2-480f-ba81-10e685902d63');\n",
              "          const dataTable =\n",
              "            await google.colab.kernel.invokeFunction('convertToInteractive',\n",
              "                                                     [key], {});\n",
              "          if (!dataTable) return;\n",
              "\n",
              "          const docLinkHtml = 'Like what you see? Visit the ' +\n",
              "            '<a target=\"_blank\" href=https://colab.research.google.com/notebooks/data_table.ipynb>data table notebook</a>'\n",
              "            + ' to learn more about interactive tables.';\n",
              "          element.innerHTML = '';\n",
              "          dataTable['output_type'] = 'display_data';\n",
              "          await google.colab.output.renderOutput(dataTable, element);\n",
              "          const docLink = document.createElement('div');\n",
              "          docLink.innerHTML = docLinkHtml;\n",
              "          element.appendChild(docLink);\n",
              "        }\n",
              "      </script>\n",
              "    </div>\n",
              "  </div>\n",
              "  "
            ]
          },
          "metadata": {},
          "execution_count": 393
        }
      ]
    },
    {
      "cell_type": "code",
      "source": [
        "# X = df.loc[:, features]\n",
        "# y = df.loc[:, ['stroke']]\n",
        "train_set_x_and_y = X_train.loc[:, features]\n",
        "train_set_x_and_y['stroke'] = y_train['stroke']"
      ],
      "metadata": {
        "id": "qCBQBKFHgs3j"
      },
      "execution_count": 394,
      "outputs": []
    },
    {
      "cell_type": "code",
      "source": [
        "train_set_x_and_y"
      ],
      "metadata": {
        "colab": {
          "base_uri": "https://localhost:8080/",
          "height": 423
        },
        "id": "NSfV_AO1g2YA",
        "outputId": "1b7ff13c-f3f3-4820-ec07-26b2aefe5f17"
      },
      "execution_count": 395,
      "outputs": [
        {
          "output_type": "execute_result",
          "data": {
            "text/plain": [
              "      gender   age  hypertension  heart_disease  ever_married  work_type  \\\n",
              "2954       1  18.0             0              0             0          3   \n",
              "1933       1  70.0             0              0             1          3   \n",
              "4311       1  65.0             0              0             1          3   \n",
              "2365       1  36.0             0              0             0          3   \n",
              "927        0  64.0             0              0             1          3   \n",
              "...      ...   ...           ...            ...           ...        ...   \n",
              "4931       1  53.0             1              0             1          1   \n",
              "3264       1  61.0             0              0             1          3   \n",
              "1653       0  44.0             0              0             1          3   \n",
              "2607       0  21.0             0              0             0          3   \n",
              "2732       1  58.0             1              0             1          1   \n",
              "\n",
              "      Residence_type  avg_glucose_level   bmi  smoking_status  stroke  \n",
              "2954               2              70.54  23.5               3       0  \n",
              "1933               2              91.25  36.0               3       0  \n",
              "4311               1             205.78  41.7               0       0  \n",
              "2365               2             216.96  34.5               3       0  \n",
              "927                2              86.05  23.0               3       0  \n",
              "...              ...                ...   ...             ...     ...  \n",
              "4931               1              98.61  38.8               2       0  \n",
              "3264               1              72.01  26.0               1       0  \n",
              "1653               1              94.71  28.4               2       0  \n",
              "2607               2             120.94  29.7               1       0  \n",
              "2732               1              59.52  33.2               0       0  \n",
              "\n",
              "[3832 rows x 11 columns]"
            ],
            "text/html": [
              "\n",
              "  <div id=\"df-c5d69309-5dc7-44f3-b196-447ba64d25cf\">\n",
              "    <div class=\"colab-df-container\">\n",
              "      <div>\n",
              "<style scoped>\n",
              "    .dataframe tbody tr th:only-of-type {\n",
              "        vertical-align: middle;\n",
              "    }\n",
              "\n",
              "    .dataframe tbody tr th {\n",
              "        vertical-align: top;\n",
              "    }\n",
              "\n",
              "    .dataframe thead th {\n",
              "        text-align: right;\n",
              "    }\n",
              "</style>\n",
              "<table border=\"1\" class=\"dataframe\">\n",
              "  <thead>\n",
              "    <tr style=\"text-align: right;\">\n",
              "      <th></th>\n",
              "      <th>gender</th>\n",
              "      <th>age</th>\n",
              "      <th>hypertension</th>\n",
              "      <th>heart_disease</th>\n",
              "      <th>ever_married</th>\n",
              "      <th>work_type</th>\n",
              "      <th>Residence_type</th>\n",
              "      <th>avg_glucose_level</th>\n",
              "      <th>bmi</th>\n",
              "      <th>smoking_status</th>\n",
              "      <th>stroke</th>\n",
              "    </tr>\n",
              "  </thead>\n",
              "  <tbody>\n",
              "    <tr>\n",
              "      <th>2954</th>\n",
              "      <td>1</td>\n",
              "      <td>18.0</td>\n",
              "      <td>0</td>\n",
              "      <td>0</td>\n",
              "      <td>0</td>\n",
              "      <td>3</td>\n",
              "      <td>2</td>\n",
              "      <td>70.54</td>\n",
              "      <td>23.5</td>\n",
              "      <td>3</td>\n",
              "      <td>0</td>\n",
              "    </tr>\n",
              "    <tr>\n",
              "      <th>1933</th>\n",
              "      <td>1</td>\n",
              "      <td>70.0</td>\n",
              "      <td>0</td>\n",
              "      <td>0</td>\n",
              "      <td>1</td>\n",
              "      <td>3</td>\n",
              "      <td>2</td>\n",
              "      <td>91.25</td>\n",
              "      <td>36.0</td>\n",
              "      <td>3</td>\n",
              "      <td>0</td>\n",
              "    </tr>\n",
              "    <tr>\n",
              "      <th>4311</th>\n",
              "      <td>1</td>\n",
              "      <td>65.0</td>\n",
              "      <td>0</td>\n",
              "      <td>0</td>\n",
              "      <td>1</td>\n",
              "      <td>3</td>\n",
              "      <td>1</td>\n",
              "      <td>205.78</td>\n",
              "      <td>41.7</td>\n",
              "      <td>0</td>\n",
              "      <td>0</td>\n",
              "    </tr>\n",
              "    <tr>\n",
              "      <th>2365</th>\n",
              "      <td>1</td>\n",
              "      <td>36.0</td>\n",
              "      <td>0</td>\n",
              "      <td>0</td>\n",
              "      <td>0</td>\n",
              "      <td>3</td>\n",
              "      <td>2</td>\n",
              "      <td>216.96</td>\n",
              "      <td>34.5</td>\n",
              "      <td>3</td>\n",
              "      <td>0</td>\n",
              "    </tr>\n",
              "    <tr>\n",
              "      <th>927</th>\n",
              "      <td>0</td>\n",
              "      <td>64.0</td>\n",
              "      <td>0</td>\n",
              "      <td>0</td>\n",
              "      <td>1</td>\n",
              "      <td>3</td>\n",
              "      <td>2</td>\n",
              "      <td>86.05</td>\n",
              "      <td>23.0</td>\n",
              "      <td>3</td>\n",
              "      <td>0</td>\n",
              "    </tr>\n",
              "    <tr>\n",
              "      <th>...</th>\n",
              "      <td>...</td>\n",
              "      <td>...</td>\n",
              "      <td>...</td>\n",
              "      <td>...</td>\n",
              "      <td>...</td>\n",
              "      <td>...</td>\n",
              "      <td>...</td>\n",
              "      <td>...</td>\n",
              "      <td>...</td>\n",
              "      <td>...</td>\n",
              "      <td>...</td>\n",
              "    </tr>\n",
              "    <tr>\n",
              "      <th>4931</th>\n",
              "      <td>1</td>\n",
              "      <td>53.0</td>\n",
              "      <td>1</td>\n",
              "      <td>0</td>\n",
              "      <td>1</td>\n",
              "      <td>1</td>\n",
              "      <td>1</td>\n",
              "      <td>98.61</td>\n",
              "      <td>38.8</td>\n",
              "      <td>2</td>\n",
              "      <td>0</td>\n",
              "    </tr>\n",
              "    <tr>\n",
              "      <th>3264</th>\n",
              "      <td>1</td>\n",
              "      <td>61.0</td>\n",
              "      <td>0</td>\n",
              "      <td>0</td>\n",
              "      <td>1</td>\n",
              "      <td>3</td>\n",
              "      <td>1</td>\n",
              "      <td>72.01</td>\n",
              "      <td>26.0</td>\n",
              "      <td>1</td>\n",
              "      <td>0</td>\n",
              "    </tr>\n",
              "    <tr>\n",
              "      <th>1653</th>\n",
              "      <td>0</td>\n",
              "      <td>44.0</td>\n",
              "      <td>0</td>\n",
              "      <td>0</td>\n",
              "      <td>1</td>\n",
              "      <td>3</td>\n",
              "      <td>1</td>\n",
              "      <td>94.71</td>\n",
              "      <td>28.4</td>\n",
              "      <td>2</td>\n",
              "      <td>0</td>\n",
              "    </tr>\n",
              "    <tr>\n",
              "      <th>2607</th>\n",
              "      <td>0</td>\n",
              "      <td>21.0</td>\n",
              "      <td>0</td>\n",
              "      <td>0</td>\n",
              "      <td>0</td>\n",
              "      <td>3</td>\n",
              "      <td>2</td>\n",
              "      <td>120.94</td>\n",
              "      <td>29.7</td>\n",
              "      <td>1</td>\n",
              "      <td>0</td>\n",
              "    </tr>\n",
              "    <tr>\n",
              "      <th>2732</th>\n",
              "      <td>1</td>\n",
              "      <td>58.0</td>\n",
              "      <td>1</td>\n",
              "      <td>0</td>\n",
              "      <td>1</td>\n",
              "      <td>1</td>\n",
              "      <td>1</td>\n",
              "      <td>59.52</td>\n",
              "      <td>33.2</td>\n",
              "      <td>0</td>\n",
              "      <td>0</td>\n",
              "    </tr>\n",
              "  </tbody>\n",
              "</table>\n",
              "<p>3832 rows × 11 columns</p>\n",
              "</div>\n",
              "      <button class=\"colab-df-convert\" onclick=\"convertToInteractive('df-c5d69309-5dc7-44f3-b196-447ba64d25cf')\"\n",
              "              title=\"Convert this dataframe to an interactive table.\"\n",
              "              style=\"display:none;\">\n",
              "        \n",
              "  <svg xmlns=\"http://www.w3.org/2000/svg\" height=\"24px\"viewBox=\"0 0 24 24\"\n",
              "       width=\"24px\">\n",
              "    <path d=\"M0 0h24v24H0V0z\" fill=\"none\"/>\n",
              "    <path d=\"M18.56 5.44l.94 2.06.94-2.06 2.06-.94-2.06-.94-.94-2.06-.94 2.06-2.06.94zm-11 1L8.5 8.5l.94-2.06 2.06-.94-2.06-.94L8.5 2.5l-.94 2.06-2.06.94zm10 10l.94 2.06.94-2.06 2.06-.94-2.06-.94-.94-2.06-.94 2.06-2.06.94z\"/><path d=\"M17.41 7.96l-1.37-1.37c-.4-.4-.92-.59-1.43-.59-.52 0-1.04.2-1.43.59L10.3 9.45l-7.72 7.72c-.78.78-.78 2.05 0 2.83L4 21.41c.39.39.9.59 1.41.59.51 0 1.02-.2 1.41-.59l7.78-7.78 2.81-2.81c.8-.78.8-2.07 0-2.86zM5.41 20L4 18.59l7.72-7.72 1.47 1.35L5.41 20z\"/>\n",
              "  </svg>\n",
              "      </button>\n",
              "      \n",
              "  <style>\n",
              "    .colab-df-container {\n",
              "      display:flex;\n",
              "      flex-wrap:wrap;\n",
              "      gap: 12px;\n",
              "    }\n",
              "\n",
              "    .colab-df-convert {\n",
              "      background-color: #E8F0FE;\n",
              "      border: none;\n",
              "      border-radius: 50%;\n",
              "      cursor: pointer;\n",
              "      display: none;\n",
              "      fill: #1967D2;\n",
              "      height: 32px;\n",
              "      padding: 0 0 0 0;\n",
              "      width: 32px;\n",
              "    }\n",
              "\n",
              "    .colab-df-convert:hover {\n",
              "      background-color: #E2EBFA;\n",
              "      box-shadow: 0px 1px 2px rgba(60, 64, 67, 0.3), 0px 1px 3px 1px rgba(60, 64, 67, 0.15);\n",
              "      fill: #174EA6;\n",
              "    }\n",
              "\n",
              "    [theme=dark] .colab-df-convert {\n",
              "      background-color: #3B4455;\n",
              "      fill: #D2E3FC;\n",
              "    }\n",
              "\n",
              "    [theme=dark] .colab-df-convert:hover {\n",
              "      background-color: #434B5C;\n",
              "      box-shadow: 0px 1px 3px 1px rgba(0, 0, 0, 0.15);\n",
              "      filter: drop-shadow(0px 1px 2px rgba(0, 0, 0, 0.3));\n",
              "      fill: #FFFFFF;\n",
              "    }\n",
              "  </style>\n",
              "\n",
              "      <script>\n",
              "        const buttonEl =\n",
              "          document.querySelector('#df-c5d69309-5dc7-44f3-b196-447ba64d25cf button.colab-df-convert');\n",
              "        buttonEl.style.display =\n",
              "          google.colab.kernel.accessAllowed ? 'block' : 'none';\n",
              "\n",
              "        async function convertToInteractive(key) {\n",
              "          const element = document.querySelector('#df-c5d69309-5dc7-44f3-b196-447ba64d25cf');\n",
              "          const dataTable =\n",
              "            await google.colab.kernel.invokeFunction('convertToInteractive',\n",
              "                                                     [key], {});\n",
              "          if (!dataTable) return;\n",
              "\n",
              "          const docLinkHtml = 'Like what you see? Visit the ' +\n",
              "            '<a target=\"_blank\" href=https://colab.research.google.com/notebooks/data_table.ipynb>data table notebook</a>'\n",
              "            + ' to learn more about interactive tables.';\n",
              "          element.innerHTML = '';\n",
              "          dataTable['output_type'] = 'display_data';\n",
              "          await google.colab.output.renderOutput(dataTable, element);\n",
              "          const docLink = document.createElement('div');\n",
              "          docLink.innerHTML = docLinkHtml;\n",
              "          element.appendChild(docLink);\n",
              "        }\n",
              "      </script>\n",
              "    </div>\n",
              "  </div>\n",
              "  "
            ]
          },
          "metadata": {},
          "execution_count": 395
        }
      ]
    },
    {
      "cell_type": "code",
      "source": [
        "from sklearn.metrics import classification_report, confusion_matrix\n",
        "from functools import reduce\n",
        "\n",
        "def bagging_using_Diversity(i,t,s,d):\n",
        "  '''\n",
        "  i - a base inducer\n",
        "  t - number of iterations\n",
        "  s - the original training set\n",
        "  d- diversity measure - { \"\"  :kohavi_wolpert , \"\" :inter_rater_measure ,\"general diversity\": general_diversity }\n",
        "  '''\n",
        "  diversity_measure = {\"Double Fault Measure\": DoubleFaultMeasure, \"kohavi wolpert\"  :kohavi_wolpert , \"inter rater measure\" :inter_rater_measure ,\"general diversity\": general_diversity }\n",
        "  m_ts =[]\n",
        "  #m_ts - list of tuples - each tuple in the following format : (model,number_of_misclassifieds)\n",
        "  # m_ts --> [(model1,number_of_misclassifieds1),(model2,number_of_misclassifieds2),...,(model_t,number_of_misclassifieds_t)]\n",
        "  for iter in range(t):\n",
        "    s_tag = s.sample(frac = 1)\n",
        "    m_t = i.estimators_[iter]\n",
        "    x = s_tag.loc[:, features]\n",
        "    y = s_tag.loc[:, ['stroke']]\n",
        "    preds = m_t.predict(x.values)\n",
        "    # confusion_matrix(y,preds) - [[ture_positive, false_positive][false_neg,true_neg]]\n",
        "    number_of_misclassifieds = confusion_matrix(y,preds)[0][1] + confusion_matrix(y,preds)[1][0]\n",
        "    m_ts.append((m_t,number_of_misclassifieds))\n",
        "  # end of rows 1-3\n",
        "  x = s.loc[:, features]\n",
        "  y = s.loc[:, ['stroke']]\n",
        "  # 5\n",
        "  m_tag=[]\n",
        "  # use reduce() and min() to find the minimum value in the second element of each tuple\n",
        "  min_misclassifields = reduce(lambda x, y: min(x, y[1]), m_ts, float(\"inf\"))\n",
        "  # Find an element (model,number_of_misclassifieds) in m_ts(list of tuples).\n",
        "  m_tags_optinals = [item for item in m_ts if item[1] == min_misclassifields]\n",
        "  # m_tags_optinals - list of tuples [(model1,min_misclassifields),...]\n",
        "  m_tag.append(m_tags_optinals[0][0])\n",
        "  m_ts.remove(m_tags_optinals[0])\n",
        "  # 6\n",
        "  for i in range(1,int((t/2)-1)):\n",
        "    results_of_d =[]\n",
        "    # results_of_d - list of tuples - each tuple in the following format : (model,diversity measure value)\n",
        "    if (d==\"Double Fault Measure\" or d==\"kohavi wolpert\" or d==\"general diversity\"):\n",
        "      # need to take the model that return maximum diversity measure\n",
        "      print(i)\n",
        "      for temp_model,number_of_misclassifieds in m_ts:\n",
        "        # m_tag_only_models = [tup[0] for tup in m_tag]\n",
        "        results_of_d.append( (temp_model, diversity_measure[d]((x,y),m_tag+[temp_model])) )\n",
        "      # need to find maximum value of diversity measure\n",
        "      # use reduce() and min() to find the minimum value in the second element of each tuple\n",
        "      # results_of_d[0] = (model,diversity measure value)\n",
        "      max_d = reduce(lambda x, y: max(x, y[1]), results_of_d, float(\"-inf\"))\n",
        "      # Find an element (model,diversity measure value) in results_of_d(list of tuples).\n",
        "      m_tags_optinals = [item for item in  results_of_d if item[1] == max_d]\n",
        "      # m_tags_optinals[0] = (model,diversity measure value), e.g: (DecisionTreeClassifier(max_features='auto', random_state=1913246406), 0.014287578288100209)\n",
        "      # m_tags_optinals[0][0] - temp_model\n",
        "      # m_tags_optinals[0][1] - maximum diversity measure value , and its for m_tag with temp_model\n",
        "      # we want to add only the model to m_tag so we add m_tags_optinals[0][0]\n",
        "      m_tag.append(m_tags_optinals[0][0])\n",
        "      # need to find m_tags_optinals[0][0] (the model) in m_ts and remove it from m_ts\n",
        "      model_num_of_mis_tuple_to_remove_from_m_ts = [item for item in m_ts if item[0] == m_tags_optinals[0][0]]\n",
        "      m_ts.remove(model_num_of_mis_tuple_to_remove_from_m_ts[0])\n",
        "    else:\n",
        "      # need to take the model that return minimum diversity measure\n",
        "      print(i)\n",
        "      for temp_model,number_of_misclassifieds in m_ts:\n",
        "        # m_tag_only_models = [tup[0] for tup in m_tag]\n",
        "        results_of_d.append( (temp_model, diversity_measure[d]((x,y),m_tag+[temp_model])) )\n",
        "      # need to find maximum value of diversity measure\n",
        "      # use reduce() and min() to find the minimum value in the second element of each tuple\n",
        "      # results_of_d[0] = (model,diversity measure value)\n",
        "      min_d = reduce(lambda x, y: min(x, y[1]), results_of_d, float(\"inf\"))\n",
        "      # Find an element (model,diversity measure value) in results_of_d(list of tuples).\n",
        "      m_tags_optinals = [item for item in  results_of_d if item[1] == min_d]\n",
        "      # m_tags_optinals[0] = (model,diversity measure value), e.g: (DecisionTreeClassifier(max_features='auto', random_state=1913246406), 0.014287578288100209)\n",
        "      # m_tags_optinals[0][0] - temp_model\n",
        "      # m_tags_optinals[0][1] - minimum diversity measure value , and its for m_tag with temp_model\n",
        "      # we want to add only the model to m_tag so we add m_tags_optinals[0][0]\n",
        "      m_tag.append(m_tags_optinals[0][0])\n",
        "      # need to find m_tags_optinals[0][0] (the model) in m_ts and remove it from m_ts\n",
        "      model_num_of_mis_tuple_to_remove_from_m_ts = [item for item in m_ts if item[0] == m_tags_optinals[0][0]]\n",
        "      m_ts.remove(model_num_of_mis_tuple_to_remove_from_m_ts[0])\n",
        "\n",
        "  return m_tag\n",
        "  \n"
      ],
      "metadata": {
        "id": "AEwwUpPNAssg"
      },
      "execution_count": 396,
      "outputs": []
    },
    {
      "cell_type": "code",
      "source": [
        "RandomForestClassifier_bagging_using_Diversity_Double_Fault_Measure = model_rf\n",
        "RandomForestClassifier_bagging_using_Diversity_kohavi_wolpert = model_rf\n",
        "RandomForestClassifier_bagging_using_Diversity_inter_rater_measure = model_rf\n",
        "RandomForestClassifier_bagging_using_Diversity_general_diversity = model_rf"
      ],
      "metadata": {
        "id": "4M3S5VqsRjAk"
      },
      "execution_count": 397,
      "outputs": []
    },
    {
      "cell_type": "code",
      "source": [
        "models_RandomForestClassifier_bagging_using_Diversity_kohavi_wolpert = bagging_using_Diversity(RandomForestClassifier_bagging_using_Diversity_kohavi_wolpert,RandomForestClassifier_bagging_using_Diversity_kohavi_wolpert.n_estimators,train_set_x_and_y,\"kohavi wolpert\")"
      ],
      "metadata": {
        "colab": {
          "base_uri": "https://localhost:8080/"
        },
        "id": "e5MLGFdB3Dot",
        "outputId": "515c4720-02a4-417e-a38d-884a8d736e00"
      },
      "execution_count": 398,
      "outputs": [
        {
          "output_type": "stream",
          "name": "stdout",
          "text": [
            "1\n",
            "2\n",
            "3\n",
            "4\n",
            "5\n",
            "6\n",
            "7\n",
            "8\n",
            "9\n",
            "10\n",
            "11\n",
            "12\n",
            "13\n",
            "14\n",
            "15\n",
            "16\n",
            "17\n",
            "18\n",
            "19\n",
            "20\n",
            "21\n",
            "22\n",
            "23\n",
            "24\n",
            "25\n",
            "26\n",
            "27\n",
            "28\n",
            "29\n",
            "30\n",
            "31\n",
            "32\n",
            "33\n",
            "34\n",
            "35\n",
            "36\n",
            "37\n",
            "38\n",
            "39\n",
            "40\n",
            "41\n",
            "42\n",
            "43\n",
            "44\n",
            "45\n",
            "46\n",
            "47\n",
            "48\n"
          ]
        }
      ]
    },
    {
      "cell_type": "code",
      "source": [
        "models_RandomForestClassifier_bagging_using_Diversity_inter_rater_measure = bagging_using_Diversity(RandomForestClassifier_bagging_using_Diversity_inter_rater_measure,RandomForestClassifier_bagging_using_Diversity_inter_rater_measure.n_estimators,train_set_x_and_y,\"inter rater measure\")"
      ],
      "metadata": {
        "colab": {
          "base_uri": "https://localhost:8080/"
        },
        "id": "NriRFOieQYJD",
        "outputId": "4e686c17-5862-4fd4-d452-453722efe3df"
      },
      "execution_count": 399,
      "outputs": [
        {
          "output_type": "stream",
          "name": "stdout",
          "text": [
            "1\n",
            "2\n",
            "3\n",
            "4\n",
            "5\n",
            "6\n",
            "7\n",
            "8\n",
            "9\n",
            "10\n",
            "11\n",
            "12\n",
            "13\n",
            "14\n",
            "15\n",
            "16\n",
            "17\n",
            "18\n",
            "19\n",
            "20\n",
            "21\n",
            "22\n",
            "23\n",
            "24\n",
            "25\n",
            "26\n",
            "27\n",
            "28\n",
            "29\n",
            "30\n",
            "31\n",
            "32\n",
            "33\n",
            "34\n",
            "35\n",
            "36\n",
            "37\n",
            "38\n",
            "39\n",
            "40\n",
            "41\n",
            "42\n",
            "43\n",
            "44\n",
            "45\n",
            "46\n",
            "47\n",
            "48\n"
          ]
        }
      ]
    },
    {
      "cell_type": "code",
      "source": [
        "models_RandomForestClassifier_bagging_using_Diversity_general_diversity = bagging_using_Diversity(RandomForestClassifier_bagging_using_Diversity_general_diversity,RandomForestClassifier_bagging_using_Diversity_general_diversity.n_estimators,train_set_x_and_y,\"general diversity\")"
      ],
      "metadata": {
        "colab": {
          "base_uri": "https://localhost:8080/"
        },
        "id": "UDGa7qh_RLQ1",
        "outputId": "9d06d154-a2f1-49c5-d0ea-8c46ed2bd8db"
      },
      "execution_count": 400,
      "outputs": [
        {
          "output_type": "stream",
          "name": "stdout",
          "text": [
            "1\n",
            "2\n",
            "3\n",
            "4\n",
            "5\n",
            "6\n",
            "7\n",
            "8\n",
            "9\n",
            "10\n",
            "11\n",
            "12\n",
            "13\n",
            "14\n",
            "15\n",
            "16\n",
            "17\n",
            "18\n",
            "19\n",
            "20\n",
            "21\n",
            "22\n",
            "23\n",
            "24\n",
            "25\n",
            "26\n",
            "27\n",
            "28\n",
            "29\n",
            "30\n",
            "31\n",
            "32\n",
            "33\n",
            "34\n",
            "35\n",
            "36\n",
            "37\n",
            "38\n",
            "39\n",
            "40\n",
            "41\n",
            "42\n",
            "43\n",
            "44\n",
            "45\n",
            "46\n",
            "47\n",
            "48\n"
          ]
        }
      ]
    },
    {
      "cell_type": "code",
      "source": [
        "# Double_Fault_Measure\n",
        "models_RandomForestClassifier_bagging_using_Diversity_Double_Fault_Measure = bagging_using_Diversity(RandomForestClassifier_bagging_using_Diversity_Double_Fault_Measure,RandomForestClassifier_bagging_using_Diversity_Double_Fault_Measure.n_estimators,train_set_x_and_y,\"Double Fault Measure\")"
      ],
      "metadata": {
        "id": "MEzDKjf5RyyZ"
      },
      "execution_count": null,
      "outputs": []
    },
    {
      "cell_type": "code",
      "source": [],
      "metadata": {
        "id": "BDkHxf6yLFSk"
      },
      "execution_count": 401,
      "outputs": []
    },
    {
      "cell_type": "markdown",
      "source": [
        "Double Fault Measure"
      ],
      "metadata": {
        "id": "tK3VAUVMU4ly"
      }
    },
    {
      "cell_type": "code",
      "source": [
        "RandomForestClassifier_bagging_using_Diversity_Double_Fault_Measure.estimators_ = models_RandomForestClassifier_bagging_using_Diversity_Double_Fault_Measure\n",
        "print(\"Random Forest Classifier - bagging using diversity Double Fault Measure\")\n",
        "inputs = pd.DataFrame(X_test)\n",
        "prediction_RandomForestClassifier_bagging_using_Diversity_Double_Fault_Measure = RandomForestClassifier_bagging_using_Diversity_Double_Fault_Measure.predict(inputs)\n",
        "accuracy_RandomForestClassifier_bagging_using_Diversity_Double_Fault_Measure = accuracy_score(y_test,prediction_RandomForestClassifier_bagging_using_Diversity_Double_Fault_Measure)\n",
        "print(f\"Accuracy score of RandomForestClassifier using diversity Double Fault Measure = {accuracy_RandomForestClassifier_bagging_using_Diversity_Double_Fault_Measure}\")\n",
        "\n",
        "precision_RandomForestClassifier_bagging_using_Diversity_Double_Fault_Measure = precision_score(y_test,prediction_RandomForestClassifier_bagging_using_Diversity_Double_Fault_Measure,average='weighted')\n",
        "print(f\"Precision score of RandomForestClassifier using diversity Double Fault Measure = {precision_RandomForestClassifier_bagging_using_Diversity_Double_Fault_Measure}\")"
      ],
      "metadata": {
        "colab": {
          "base_uri": "https://localhost:8080/",
          "height": 244
        },
        "id": "sdFPjuxJNuoI",
        "outputId": "c9b6cba5-80a1-41c6-9061-790b5242b84d"
      },
      "execution_count": 422,
      "outputs": [
        {
          "output_type": "error",
          "ename": "NameError",
          "evalue": "ignored",
          "traceback": [
            "\u001b[0;31m---------------------------------------------------------------------------\u001b[0m",
            "\u001b[0;31mNameError\u001b[0m                                 Traceback (most recent call last)",
            "\u001b[0;32m<ipython-input-422-f01e67c7aafb>\u001b[0m in \u001b[0;36m<module>\u001b[0;34m\u001b[0m\n\u001b[0;32m----> 1\u001b[0;31m \u001b[0mRandomForestClassifier_bagging_using_Diversity_Double_Fault_Measure\u001b[0m\u001b[0;34m.\u001b[0m\u001b[0mestimators_\u001b[0m \u001b[0;34m=\u001b[0m \u001b[0mmodels_RandomForestClassifier_bagging_using_Diversity_Double_Fault_Measure\u001b[0m\u001b[0;34m\u001b[0m\u001b[0;34m\u001b[0m\u001b[0m\n\u001b[0m\u001b[1;32m      2\u001b[0m \u001b[0mprint\u001b[0m\u001b[0;34m(\u001b[0m\u001b[0;34m\"Random Forest Classifier - bagging using diversity Double Fault Measure\"\u001b[0m\u001b[0;34m)\u001b[0m\u001b[0;34m\u001b[0m\u001b[0;34m\u001b[0m\u001b[0m\n\u001b[1;32m      3\u001b[0m \u001b[0minputs\u001b[0m \u001b[0;34m=\u001b[0m \u001b[0mpd\u001b[0m\u001b[0;34m.\u001b[0m\u001b[0mDataFrame\u001b[0m\u001b[0;34m(\u001b[0m\u001b[0mX_test\u001b[0m\u001b[0;34m)\u001b[0m\u001b[0;34m\u001b[0m\u001b[0;34m\u001b[0m\u001b[0m\n\u001b[1;32m      4\u001b[0m \u001b[0mprediction_RandomForestClassifier_bagging_using_Diversity_Double_Fault_Measure\u001b[0m \u001b[0;34m=\u001b[0m \u001b[0mRandomForestClassifier_bagging_using_Diversity_Double_Fault_Measure\u001b[0m\u001b[0;34m.\u001b[0m\u001b[0mpredict\u001b[0m\u001b[0;34m(\u001b[0m\u001b[0minputs\u001b[0m\u001b[0;34m)\u001b[0m\u001b[0;34m\u001b[0m\u001b[0;34m\u001b[0m\u001b[0m\n\u001b[1;32m      5\u001b[0m \u001b[0maccuracy_RandomForestClassifier_bagging_using_Diversity_Double_Fault_Measure\u001b[0m \u001b[0;34m=\u001b[0m \u001b[0maccuracy_score\u001b[0m\u001b[0;34m(\u001b[0m\u001b[0my_test\u001b[0m\u001b[0;34m,\u001b[0m\u001b[0mprediction_RandomForestClassifier_bagging_using_Diversity_Double_Fault_Measure\u001b[0m\u001b[0;34m)\u001b[0m\u001b[0;34m\u001b[0m\u001b[0;34m\u001b[0m\u001b[0m\n",
            "\u001b[0;31mNameError\u001b[0m: name 'models_RandomForestClassifier_bagging_using_Diversity_Double_Fault_Measure' is not defined"
          ]
        }
      ]
    },
    {
      "cell_type": "markdown",
      "source": [
        "Bagging Using Diversity-Kohavi-Wolpert"
      ],
      "metadata": {
        "id": "52sI9eIGTb0f"
      }
    },
    {
      "cell_type": "code",
      "source": [
        "RandomForestClassifier_bagging_using_Diversity_kohavi_wolpert.estimators_ = models_RandomForestClassifier_bagging_using_Diversity_kohavi_wolpert\n",
        "print(\"Random Forest Classifier - bagging using diversity kohavi-wolpert\")\n",
        "inputs = pd.DataFrame(X_test)\n",
        "prediction_RandomForestClassifier_bagging_using_Diversity_kohavi_wolpert = RandomForestClassifier_bagging_using_Diversity_kohavi_wolpert.predict(inputs)\n",
        "accuracy_RandomForestClassifier_bagging_using_Diversity_kohavi_wolpert = accuracy_score(y_test,prediction_RandomForestClassifier_bagging_using_Diversity_kohavi_wolpert)\n",
        "print(f\"Accuracy score of RandomForestClassifier using diversity kohavi-wolpert = {accuracy_RandomForestClassifier_bagging_using_Diversity_kohavi_wolpert}\")\n",
        "\n",
        "precision_RandomForestClassifier_bagging_using_Diversity_kohavi_wolpert = precision_score(y_test,prediction_RandomForestClassifier_bagging_using_Diversity_kohavi_wolpert,average='weighted')\n",
        "print(f\"Precision score of RandomForestClassifier using diversity kohavi-wolpert = {precision_RandomForestClassifier_bagging_using_Diversity_kohavi_wolpert}\")"
      ],
      "metadata": {
        "colab": {
          "base_uri": "https://localhost:8080/"
        },
        "id": "TR0XM2uRNyxN",
        "outputId": "c5c37b44-e235-49b1-9705-13fc8469f06e"
      },
      "execution_count": 403,
      "outputs": [
        {
          "output_type": "stream",
          "name": "stdout",
          "text": [
            "Random Forest Classifier - bagging using diversity kohavi-wolpert\n",
            "Accuracy score of RandomForestClassifier using diversity kohavi-wolpert = 0.94679186228482\n",
            "Precision score of RandomForestClassifier using diversity kohavi-wolpert = 0.9007517874129306\n"
          ]
        }
      ]
    },
    {
      "cell_type": "markdown",
      "source": [
        "Inter-Rater Measure"
      ],
      "metadata": {
        "id": "hEI5LjSYTarD"
      }
    },
    {
      "cell_type": "code",
      "source": [
        "RandomForestClassifier_bagging_using_Diversity_inter_rater_measure.estimators_ = models_RandomForestClassifier_bagging_using_Diversity_inter_rater_measure\n",
        "print(\"Random Forest Classifier - bagging using diversity Inter-Rater-Measure\")\n",
        "inputs = pd.DataFrame(X_test)\n",
        "prediction_RandomForestClassifier_bagging_using_Diversity_inter_rater_measure = RandomForestClassifier_bagging_using_Diversity_inter_rater_measure.predict(inputs)\n",
        "accuracy_RandomForestClassifier_bagging_using_Diversity_inter_rater_measure = accuracy_score(y_test,prediction_RandomForestClassifier_bagging_using_Diversity_inter_rater_measure)\n",
        "print(f\"Accuracy score of RandomForestClassifier using diversity Inter-Rater-Measure = {accuracy_RandomForestClassifier_bagging_using_Diversity_inter_rater_measure}\")\n",
        "\n",
        "precision_RandomForestClassifier_bagging_using_Diversity_inter_rater_measure = precision_score(y_test,prediction_RandomForestClassifier_bagging_using_Diversity_inter_rater_measure,average='weighted')\n",
        "print(f\"Precision score of RandomForestClassifier using diversity Inter-Rater-Measure = {precision_RandomForestClassifier_bagging_using_Diversity_inter_rater_measure}\")"
      ],
      "metadata": {
        "colab": {
          "base_uri": "https://localhost:8080/"
        },
        "id": "KiHwV6otS_Tu",
        "outputId": "306fbbd6-f2ac-404b-ec6e-fb7e2486c604"
      },
      "execution_count": 404,
      "outputs": [
        {
          "output_type": "stream",
          "name": "stdout",
          "text": [
            "Random Forest Classifier - bagging using diversity Inter-Rater-Measure\n",
            "Accuracy score of RandomForestClassifier using diversity Inter-Rater-Measure = 0.9483568075117371\n",
            "Precision score of RandomForestClassifier using diversity Inter-Rater-Measure = 0.9184497836693364\n"
          ]
        }
      ]
    },
    {
      "cell_type": "markdown",
      "source": [
        "General Diversity"
      ],
      "metadata": {
        "id": "fQCqwUVJToc9"
      }
    },
    {
      "cell_type": "code",
      "source": [
        "RandomForestClassifier_bagging_using_Diversity_general_diversity.estimators_ = models_RandomForestClassifier_bagging_using_Diversity_general_diversity\n",
        "print(\"Random Forest Classifier - bagging using diversity General Diversity\")\n",
        "inputs = pd.DataFrame(X_test)\n",
        "prediction_RandomForestClassifier_bagging_using_Diversity_general_diversity = RandomForestClassifier_bagging_using_Diversity_general_diversity.predict(inputs)\n",
        "accuracy_RandomForestClassifier_bagging_using_Diversity_general_diversity = accuracy_score(y_test,prediction_RandomForestClassifier_bagging_using_Diversity_general_diversity)\n",
        "print(f\"Accuracy score of RandomForestClassifier using diversity General Diversity = {accuracy_RandomForestClassifier_bagging_using_Diversity_general_diversity}\")\n",
        "\n",
        "precision_RandomForestClassifier_bagging_using_Diversity_general_diversity = precision_score(y_test,prediction_RandomForestClassifier_bagging_using_Diversity_general_diversity,average='weighted')\n",
        "print(f\"Precision score of RandomForestClassifier using diversity General Diversity = {precision_RandomForestClassifier_bagging_using_Diversity_inter_rater_measure}\")"
      ],
      "metadata": {
        "colab": {
          "base_uri": "https://localhost:8080/"
        },
        "id": "HTBBeZUzUZwC",
        "outputId": "a7387211-30de-4f5a-f615-c9678df15704"
      },
      "execution_count": 405,
      "outputs": [
        {
          "output_type": "stream",
          "name": "stdout",
          "text": [
            "Random Forest Classifier - bagging using diversity General Diversity\n",
            "Accuracy score of RandomForestClassifier using diversity General Diversity = 0.9491392801251957\n",
            "Precision score of RandomForestClassifier using diversity General Diversity = 0.9184497836693364\n"
          ]
        }
      ]
    },
    {
      "cell_type": "code",
      "source": [],
      "metadata": {
        "id": "810SkAgmTo3m"
      },
      "execution_count": 405,
      "outputs": []
    },
    {
      "cell_type": "markdown",
      "source": [
        "#Summary"
      ],
      "metadata": {
        "id": "I7YVFaB8VsOZ"
      }
    },
    {
      "cell_type": "code",
      "source": [
        "print(tabulate([[\"Accuracy\",accuracy_RandomForestClassifier,accuracy_ExtraTreesClassifier,accuracy_RandomForestClassifier_bagging_using_Diversity_kohavi_wolpert,accuracy_RandomForestClassifier_bagging_using_Diversity_inter_rater_measure,accuracy_RandomForestClassifier_bagging_using_Diversity_general_diversity],[\"Precision\",precision_RandomForestClassifier,precision_ExtraTreesClassifier,precision_RandomForestClassifier_bagging_using_Diversity_kohavi_wolpert,precision_RandomForestClassifier_bagging_using_Diversity_inter_rater_measure,precision_RandomForestClassifier_bagging_using_Diversity_inter_rater_measure]], headers=[\"Metric\\Model\",\"RandomForestClassifier\",\"ExtraTreesClassifier\",\"Random Forest-\\nbagging using diversity\\nkohavi-wolpert\",\"Random Forest-\\nbagging using diversity\\nInter-Rater-Measure\",\"Random Forest-\\nbagging using diversity\\nGeneral Diversity\"], tablefmt=\"grid\"))"
      ],
      "metadata": {
        "colab": {
          "base_uri": "https://localhost:8080/"
        },
        "id": "yw5MM9LcPRYr",
        "outputId": "81b582aa-5d57-4b41-9677-9ece83249bc6"
      },
      "execution_count": 407,
      "outputs": [
        {
          "output_type": "stream",
          "name": "stdout",
          "text": [
            "+----------------+--------------------------+------------------------+---------------------------+---------------------------+---------------------------+\n",
            "| Metric\\Model   |   RandomForestClassifier |   ExtraTreesClassifier |            Random Forest- |            Random Forest- |            Random Forest- |\n",
            "|                |                          |                        |   bagging using diversity |   bagging using diversity |   bagging using diversity |\n",
            "|                |                          |                        |            kohavi-wolpert |       Inter-Rater-Measure |         General Diversity |\n",
            "+================+==========================+========================+===========================+===========================+===========================+\n",
            "| Accuracy       |                 0.948357 |               0.941315 |                  0.946792 |                  0.948357 |                  0.949139 |\n",
            "+----------------+--------------------------+------------------------+---------------------------+---------------------------+---------------------------+\n",
            "| Precision      |                 0.900828 |               0.900485 |                  0.900752 |                  0.91845  |                  0.91845  |\n",
            "+----------------+--------------------------+------------------------+---------------------------+---------------------------+---------------------------+\n"
          ]
        }
      ]
    },
    {
      "cell_type": "code",
      "source": [
        "print(tabulate([[\"Accuracy\",accuracy_RandomForestClassifier,accuracy_ExtraTreesClassifier,accuracy_RandomForestClassifier_bagging_using_Diversity_kohavi_wolpert,accuracy_RandomForestClassifier_bagging_using_Diversity_inter_rater_measure,accuracy_RandomForestClassifier_bagging_using_Diversity_general_diversity,accuracy_RandomForestClassifier_bagging_using_Diversity_Double_Fault_Measure],[\"Precision\",precision_RandomForestClassifier,precision_ExtraTreesClassifier,precision_RandomForestClassifier_bagging_using_Diversity_kohavi_wolpert,precision_RandomForestClassifier_bagging_using_Diversity_inter_rater_measure,precision_RandomForestClassifier_bagging_using_Diversity_inter_rater_measure,precision_RandomForestClassifier_bagging_using_Diversity_Double_Fault_Measure]], headers=[\"Metric\\Model\",\"RandomForestClassifier\",\"ExtraTreesClassifier\",\"Random Forest-\\nbagging using diversity\\nkohavi-wolpert\",\"Random Forest-\\nbagging using diversity\\nInter-Rater-Measure\",\"Random Forest-\\nbagging using diversity\\nGeneral Diversity\",\"Random Forest-\\nbagging using diversity\\nDouble Fault Measure\"], tablefmt=\"grid\"))"
      ],
      "metadata": {
        "colab": {
          "base_uri": "https://localhost:8080/"
        },
        "id": "zcYs2x2ZPXxH",
        "outputId": "d068c1e2-eb51-450c-ebf7-e424b00b04dc"
      },
      "execution_count": 421,
      "outputs": [
        {
          "output_type": "stream",
          "name": "stdout",
          "text": [
            "+----------------+--------------------------+------------------------+---------------------------+---------------------------+---------------------------+---------------------------+\n",
            "| Metric\\Model   |   RandomForestClassifier |   ExtraTreesClassifier |            Random Forest- |            Random Forest- |            Random Forest- |            Random Forest- |\n",
            "|                |                          |                        |   bagging using diversity |   bagging using diversity |   bagging using diversity |   bagging using diversity |\n",
            "|                |                          |                        |            kohavi-wolpert |       Inter-Rater-Measure |         General Diversity |      Double Fault Measure |\n",
            "+================+==========================+========================+===========================+===========================+===========================+===========================+\n",
            "| Accuracy       |                 0.948357 |               0.941315 |                  0.946792 |                  0.948357 |                  0.949139 |                  0.949139 |\n",
            "+----------------+--------------------------+------------------------+---------------------------+---------------------------+---------------------------+---------------------------+\n",
            "| Precision      |                 0.900828 |               0.900485 |                  0.900752 |                  0.91845  |                  0.91845  |                  0.926964 |\n",
            "+----------------+--------------------------+------------------------+---------------------------+---------------------------+---------------------------+---------------------------+\n"
          ]
        }
      ]
    },
    {
      "cell_type": "code",
      "source": [],
      "metadata": {
        "id": "6VqkU98TOHZb"
      },
      "execution_count": 406,
      "outputs": []
    }
  ]
}