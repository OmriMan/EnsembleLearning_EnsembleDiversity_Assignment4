{
  "nbformat": 4,
  "nbformat_minor": 0,
  "metadata": {
    "colab": {
      "provenance": [],
      "authorship_tag": "ABX9TyNiXXBQ3qIGDkTODF4XfvKR",
      "include_colab_link": true
    },
    "kernelspec": {
      "name": "python3",
      "display_name": "Python 3"
    },
    "language_info": {
      "name": "python"
    }
  },
  "cells": [
    {
      "cell_type": "markdown",
      "metadata": {
        "id": "view-in-github",
        "colab_type": "text"
      },
      "source": [
        "<a href=\"https://colab.research.google.com/github/OmriMan/EnsembleLearning_EnsembleDiversity_Assignment4/blob/main/Ensemble_Ass4_Stroke.ipynb\" target=\"_parent\"><img src=\"https://colab.research.google.com/assets/colab-badge.svg\" alt=\"Open In Colab\"/></a>"
      ]
    },
    {
      "cell_type": "code",
      "execution_count": 113,
      "metadata": {
        "id": "EsNsoQJTUlKx"
      },
      "outputs": [],
      "source": []
    },
    {
      "cell_type": "markdown",
      "source": [
        "Packages"
      ],
      "metadata": {
        "id": "A5-wBBrlUwSy"
      }
    },
    {
      "cell_type": "code",
      "source": [
        "import numpy as np  \n",
        "import pandas as pd  \n",
        "\n",
        "from sklearn.ensemble import RandomForestClassifier\n",
        "from sklearn.ensemble import ExtraTreesClassifier\n",
        "from matplotlib import pyplot as plt  \n",
        "from sklearn.tree import plot_tree \n",
        "\n",
        "from sklearn.model_selection import train_test_split\n",
        "\n",
        "from sklearn.metrics import accuracy_score\n",
        "\n",
        "from sklearn.metrics import precision_score\n",
        "\n",
        "import random\n",
        "\n",
        "from sklearn.model_selection import RandomizedSearchCV\n",
        "\n",
        "from tabulate import tabulate"
      ],
      "metadata": {
        "id": "t-aj9JzcUxfm"
      },
      "execution_count": 114,
      "outputs": []
    },
    {
      "cell_type": "markdown",
      "source": [
        "#Dataset Stroke Prediction#\n",
        "source: https://www.kaggle.com/datasets/fedesoriano/stroke-prediction-dataset\n",
        "\n",
        "Classify / predict whether a patient can suffer a stroke."
      ],
      "metadata": {
        "id": "sDRcyn_FUwZp"
      }
    },
    {
      "cell_type": "markdown",
      "source": [
        "Dataset Attributes :\n",
        "\n",
        "id : unique identifier\n",
        "\n",
        "gender : \"Male\", \"Female\" or \"Other\"\n",
        "\n",
        "age : age of the patient\n",
        "\n",
        "hypertension: 0 if the patient doesn't have hypertension, 1 if the patient has hypertension\n",
        "\n",
        "heart_disease : 0 if the patient doesn't have any heart diseases, 1 if the patient has a heart disease\n",
        "\n",
        "ever_married : \"No\" or \"Yes\"\n",
        "\n",
        "work_type : \"children\", \"Govt_job\", \"Never_worked\", \"Private\" or \"Self-employed\"\n",
        "\n",
        "Residence_type : \"Rural\" or \"Urban\"\n",
        "\n",
        "avg_glucose_level : average glucose level in blood\n",
        "\n",
        "bmi : body mass index\n",
        "\n",
        "smoking_status : \"formerly smoked\", \"never smoked\", \"smokes\" or \"Unknown\"*\n",
        "\n",
        "stroke : 1 if the patient had a stroke or 0 if not\n",
        "\n",
        "The data contains 5110 observations with 12 attributes.\n",
        "\n",
        "source: https://www.kaggle.com/datasets/fedesoriano/stroke-prediction-dataset"
      ],
      "metadata": {
        "id": "LhlD97XkU2vk"
      }
    },
    {
      "cell_type": "code",
      "source": [
        "def preprocess(df):\n",
        "    # Gender\n",
        "    change = { 'Other': 2,'Female':1,'Male':0}\n",
        "    df.gender = df.gender.map(change)\n",
        "\n",
        "    # BMI\n",
        "    df['bmi'] = df['bmi'].replace(to_replace = np.nan, value =df['bmi'].mean())\n",
        "\n",
        "    # ever_married\n",
        "    change = {'No':0,'Yes':1}\n",
        "    df.ever_married = df.ever_married.map(change)\n",
        "\n",
        "    # Residence_type\t\n",
        "    change = {\"Rural\":1,\"Urban\":2}\n",
        "    df.Residence_type\t = df.Residence_type.map(change)\n",
        "\n",
        "    #work_type\n",
        "    change = {\"children\":0, \"Govt_job\":1, \"Never_worked\":2, \"Private\":3 , \"Self-employed\":4}\n",
        "    df.work_type = df.work_type.map(change)\n",
        "\n",
        "    #smoking_status\n",
        "    change = {\"never smoked\":0, \"formerly smoked\":1, \"smokes\":2, \"Unknown\":3}\n",
        "    df.smoking_status\t = df.smoking_status.map(change)\n",
        "\n",
        "    df = df.drop(columns=['id'])\n",
        "    return df"
      ],
      "metadata": {
        "id": "fo9DLH4JU45w"
      },
      "execution_count": 115,
      "outputs": []
    },
    {
      "cell_type": "markdown",
      "source": [
        "Load the data set"
      ],
      "metadata": {
        "id": "4BRq7ILsU6md"
      }
    },
    {
      "cell_type": "code",
      "source": [
        "df = pd.read_csv('/content/sample_data/stroke.csv')\n",
        "df = preprocess(df)\n",
        "features = ['gender',\t'age',\t'hypertension',\t'heart_disease',\t'ever_married',\t'work_type',\t'Residence_type',\t'avg_glucose_level',\t'bmi',\t'smoking_status']\n",
        "X = df.loc[:, features]\n",
        "y = df.loc[:, ['stroke']]"
      ],
      "metadata": {
        "id": "yvDrGlHHU7gG"
      },
      "execution_count": 116,
      "outputs": []
    },
    {
      "cell_type": "markdown",
      "source": [
        "Split the data into training and testin sets"
      ],
      "metadata": {
        "id": "FTGb3waFU9Eg"
      }
    },
    {
      "cell_type": "code",
      "source": [
        "X_train, X_test, y_train, y_test = train_test_split(X, y, random_state=0, train_size = .75)\n",
        "X_train"
      ],
      "metadata": {
        "colab": {
          "base_uri": "https://localhost:8080/",
          "height": 423
        },
        "id": "Fs2OLtp9VACc",
        "outputId": "83ea11f8-487c-4374-fa32-26a138ccdd95"
      },
      "execution_count": 117,
      "outputs": [
        {
          "output_type": "execute_result",
          "data": {
            "text/plain": [
              "      gender   age  hypertension  heart_disease  ever_married  work_type  \\\n",
              "2954       1  18.0             0              0             0          3   \n",
              "1933       1  70.0             0              0             1          3   \n",
              "4311       1  65.0             0              0             1          3   \n",
              "2365       1  36.0             0              0             0          3   \n",
              "927        0  64.0             0              0             1          3   \n",
              "...      ...   ...           ...            ...           ...        ...   \n",
              "4931       1  53.0             1              0             1          1   \n",
              "3264       1  61.0             0              0             1          3   \n",
              "1653       0  44.0             0              0             1          3   \n",
              "2607       0  21.0             0              0             0          3   \n",
              "2732       1  58.0             1              0             1          1   \n",
              "\n",
              "      Residence_type  avg_glucose_level   bmi  smoking_status  \n",
              "2954               2              70.54  23.5               3  \n",
              "1933               2              91.25  36.0               3  \n",
              "4311               1             205.78  41.7               0  \n",
              "2365               2             216.96  34.5               3  \n",
              "927                2              86.05  23.0               3  \n",
              "...              ...                ...   ...             ...  \n",
              "4931               1              98.61  38.8               2  \n",
              "3264               1              72.01  26.0               1  \n",
              "1653               1              94.71  28.4               2  \n",
              "2607               2             120.94  29.7               1  \n",
              "2732               1              59.52  33.2               0  \n",
              "\n",
              "[3832 rows x 10 columns]"
            ],
            "text/html": [
              "\n",
              "  <div id=\"df-5af25a30-7665-4250-aac0-ca35cfb87cfe\">\n",
              "    <div class=\"colab-df-container\">\n",
              "      <div>\n",
              "<style scoped>\n",
              "    .dataframe tbody tr th:only-of-type {\n",
              "        vertical-align: middle;\n",
              "    }\n",
              "\n",
              "    .dataframe tbody tr th {\n",
              "        vertical-align: top;\n",
              "    }\n",
              "\n",
              "    .dataframe thead th {\n",
              "        text-align: right;\n",
              "    }\n",
              "</style>\n",
              "<table border=\"1\" class=\"dataframe\">\n",
              "  <thead>\n",
              "    <tr style=\"text-align: right;\">\n",
              "      <th></th>\n",
              "      <th>gender</th>\n",
              "      <th>age</th>\n",
              "      <th>hypertension</th>\n",
              "      <th>heart_disease</th>\n",
              "      <th>ever_married</th>\n",
              "      <th>work_type</th>\n",
              "      <th>Residence_type</th>\n",
              "      <th>avg_glucose_level</th>\n",
              "      <th>bmi</th>\n",
              "      <th>smoking_status</th>\n",
              "    </tr>\n",
              "  </thead>\n",
              "  <tbody>\n",
              "    <tr>\n",
              "      <th>2954</th>\n",
              "      <td>1</td>\n",
              "      <td>18.0</td>\n",
              "      <td>0</td>\n",
              "      <td>0</td>\n",
              "      <td>0</td>\n",
              "      <td>3</td>\n",
              "      <td>2</td>\n",
              "      <td>70.54</td>\n",
              "      <td>23.5</td>\n",
              "      <td>3</td>\n",
              "    </tr>\n",
              "    <tr>\n",
              "      <th>1933</th>\n",
              "      <td>1</td>\n",
              "      <td>70.0</td>\n",
              "      <td>0</td>\n",
              "      <td>0</td>\n",
              "      <td>1</td>\n",
              "      <td>3</td>\n",
              "      <td>2</td>\n",
              "      <td>91.25</td>\n",
              "      <td>36.0</td>\n",
              "      <td>3</td>\n",
              "    </tr>\n",
              "    <tr>\n",
              "      <th>4311</th>\n",
              "      <td>1</td>\n",
              "      <td>65.0</td>\n",
              "      <td>0</td>\n",
              "      <td>0</td>\n",
              "      <td>1</td>\n",
              "      <td>3</td>\n",
              "      <td>1</td>\n",
              "      <td>205.78</td>\n",
              "      <td>41.7</td>\n",
              "      <td>0</td>\n",
              "    </tr>\n",
              "    <tr>\n",
              "      <th>2365</th>\n",
              "      <td>1</td>\n",
              "      <td>36.0</td>\n",
              "      <td>0</td>\n",
              "      <td>0</td>\n",
              "      <td>0</td>\n",
              "      <td>3</td>\n",
              "      <td>2</td>\n",
              "      <td>216.96</td>\n",
              "      <td>34.5</td>\n",
              "      <td>3</td>\n",
              "    </tr>\n",
              "    <tr>\n",
              "      <th>927</th>\n",
              "      <td>0</td>\n",
              "      <td>64.0</td>\n",
              "      <td>0</td>\n",
              "      <td>0</td>\n",
              "      <td>1</td>\n",
              "      <td>3</td>\n",
              "      <td>2</td>\n",
              "      <td>86.05</td>\n",
              "      <td>23.0</td>\n",
              "      <td>3</td>\n",
              "    </tr>\n",
              "    <tr>\n",
              "      <th>...</th>\n",
              "      <td>...</td>\n",
              "      <td>...</td>\n",
              "      <td>...</td>\n",
              "      <td>...</td>\n",
              "      <td>...</td>\n",
              "      <td>...</td>\n",
              "      <td>...</td>\n",
              "      <td>...</td>\n",
              "      <td>...</td>\n",
              "      <td>...</td>\n",
              "    </tr>\n",
              "    <tr>\n",
              "      <th>4931</th>\n",
              "      <td>1</td>\n",
              "      <td>53.0</td>\n",
              "      <td>1</td>\n",
              "      <td>0</td>\n",
              "      <td>1</td>\n",
              "      <td>1</td>\n",
              "      <td>1</td>\n",
              "      <td>98.61</td>\n",
              "      <td>38.8</td>\n",
              "      <td>2</td>\n",
              "    </tr>\n",
              "    <tr>\n",
              "      <th>3264</th>\n",
              "      <td>1</td>\n",
              "      <td>61.0</td>\n",
              "      <td>0</td>\n",
              "      <td>0</td>\n",
              "      <td>1</td>\n",
              "      <td>3</td>\n",
              "      <td>1</td>\n",
              "      <td>72.01</td>\n",
              "      <td>26.0</td>\n",
              "      <td>1</td>\n",
              "    </tr>\n",
              "    <tr>\n",
              "      <th>1653</th>\n",
              "      <td>0</td>\n",
              "      <td>44.0</td>\n",
              "      <td>0</td>\n",
              "      <td>0</td>\n",
              "      <td>1</td>\n",
              "      <td>3</td>\n",
              "      <td>1</td>\n",
              "      <td>94.71</td>\n",
              "      <td>28.4</td>\n",
              "      <td>2</td>\n",
              "    </tr>\n",
              "    <tr>\n",
              "      <th>2607</th>\n",
              "      <td>0</td>\n",
              "      <td>21.0</td>\n",
              "      <td>0</td>\n",
              "      <td>0</td>\n",
              "      <td>0</td>\n",
              "      <td>3</td>\n",
              "      <td>2</td>\n",
              "      <td>120.94</td>\n",
              "      <td>29.7</td>\n",
              "      <td>1</td>\n",
              "    </tr>\n",
              "    <tr>\n",
              "      <th>2732</th>\n",
              "      <td>1</td>\n",
              "      <td>58.0</td>\n",
              "      <td>1</td>\n",
              "      <td>0</td>\n",
              "      <td>1</td>\n",
              "      <td>1</td>\n",
              "      <td>1</td>\n",
              "      <td>59.52</td>\n",
              "      <td>33.2</td>\n",
              "      <td>0</td>\n",
              "    </tr>\n",
              "  </tbody>\n",
              "</table>\n",
              "<p>3832 rows × 10 columns</p>\n",
              "</div>\n",
              "      <button class=\"colab-df-convert\" onclick=\"convertToInteractive('df-5af25a30-7665-4250-aac0-ca35cfb87cfe')\"\n",
              "              title=\"Convert this dataframe to an interactive table.\"\n",
              "              style=\"display:none;\">\n",
              "        \n",
              "  <svg xmlns=\"http://www.w3.org/2000/svg\" height=\"24px\"viewBox=\"0 0 24 24\"\n",
              "       width=\"24px\">\n",
              "    <path d=\"M0 0h24v24H0V0z\" fill=\"none\"/>\n",
              "    <path d=\"M18.56 5.44l.94 2.06.94-2.06 2.06-.94-2.06-.94-.94-2.06-.94 2.06-2.06.94zm-11 1L8.5 8.5l.94-2.06 2.06-.94-2.06-.94L8.5 2.5l-.94 2.06-2.06.94zm10 10l.94 2.06.94-2.06 2.06-.94-2.06-.94-.94-2.06-.94 2.06-2.06.94z\"/><path d=\"M17.41 7.96l-1.37-1.37c-.4-.4-.92-.59-1.43-.59-.52 0-1.04.2-1.43.59L10.3 9.45l-7.72 7.72c-.78.78-.78 2.05 0 2.83L4 21.41c.39.39.9.59 1.41.59.51 0 1.02-.2 1.41-.59l7.78-7.78 2.81-2.81c.8-.78.8-2.07 0-2.86zM5.41 20L4 18.59l7.72-7.72 1.47 1.35L5.41 20z\"/>\n",
              "  </svg>\n",
              "      </button>\n",
              "      \n",
              "  <style>\n",
              "    .colab-df-container {\n",
              "      display:flex;\n",
              "      flex-wrap:wrap;\n",
              "      gap: 12px;\n",
              "    }\n",
              "\n",
              "    .colab-df-convert {\n",
              "      background-color: #E8F0FE;\n",
              "      border: none;\n",
              "      border-radius: 50%;\n",
              "      cursor: pointer;\n",
              "      display: none;\n",
              "      fill: #1967D2;\n",
              "      height: 32px;\n",
              "      padding: 0 0 0 0;\n",
              "      width: 32px;\n",
              "    }\n",
              "\n",
              "    .colab-df-convert:hover {\n",
              "      background-color: #E2EBFA;\n",
              "      box-shadow: 0px 1px 2px rgba(60, 64, 67, 0.3), 0px 1px 3px 1px rgba(60, 64, 67, 0.15);\n",
              "      fill: #174EA6;\n",
              "    }\n",
              "\n",
              "    [theme=dark] .colab-df-convert {\n",
              "      background-color: #3B4455;\n",
              "      fill: #D2E3FC;\n",
              "    }\n",
              "\n",
              "    [theme=dark] .colab-df-convert:hover {\n",
              "      background-color: #434B5C;\n",
              "      box-shadow: 0px 1px 3px 1px rgba(0, 0, 0, 0.15);\n",
              "      filter: drop-shadow(0px 1px 2px rgba(0, 0, 0, 0.3));\n",
              "      fill: #FFFFFF;\n",
              "    }\n",
              "  </style>\n",
              "\n",
              "      <script>\n",
              "        const buttonEl =\n",
              "          document.querySelector('#df-5af25a30-7665-4250-aac0-ca35cfb87cfe button.colab-df-convert');\n",
              "        buttonEl.style.display =\n",
              "          google.colab.kernel.accessAllowed ? 'block' : 'none';\n",
              "\n",
              "        async function convertToInteractive(key) {\n",
              "          const element = document.querySelector('#df-5af25a30-7665-4250-aac0-ca35cfb87cfe');\n",
              "          const dataTable =\n",
              "            await google.colab.kernel.invokeFunction('convertToInteractive',\n",
              "                                                     [key], {});\n",
              "          if (!dataTable) return;\n",
              "\n",
              "          const docLinkHtml = 'Like what you see? Visit the ' +\n",
              "            '<a target=\"_blank\" href=https://colab.research.google.com/notebooks/data_table.ipynb>data table notebook</a>'\n",
              "            + ' to learn more about interactive tables.';\n",
              "          element.innerHTML = '';\n",
              "          dataTable['output_type'] = 'display_data';\n",
              "          await google.colab.output.renderOutput(dataTable, element);\n",
              "          const docLink = document.createElement('div');\n",
              "          docLink.innerHTML = docLinkHtml;\n",
              "          element.appendChild(docLink);\n",
              "        }\n",
              "      </script>\n",
              "    </div>\n",
              "  </div>\n",
              "  "
            ]
          },
          "metadata": {},
          "execution_count": 117
        }
      ]
    },
    {
      "cell_type": "code",
      "source": [
        "train = X_train"
      ],
      "metadata": {
        "id": "RFWxPYesErTi"
      },
      "execution_count": 118,
      "outputs": []
    },
    {
      "cell_type": "code",
      "source": [
        "X_train"
      ],
      "metadata": {
        "colab": {
          "base_uri": "https://localhost:8080/",
          "height": 423
        },
        "id": "m6tpHMtREwOH",
        "outputId": "21394a7f-46b7-4fff-bdb2-be955f977d23"
      },
      "execution_count": 119,
      "outputs": [
        {
          "output_type": "execute_result",
          "data": {
            "text/plain": [
              "      gender   age  hypertension  heart_disease  ever_married  work_type  \\\n",
              "2954       1  18.0             0              0             0          3   \n",
              "1933       1  70.0             0              0             1          3   \n",
              "4311       1  65.0             0              0             1          3   \n",
              "2365       1  36.0             0              0             0          3   \n",
              "927        0  64.0             0              0             1          3   \n",
              "...      ...   ...           ...            ...           ...        ...   \n",
              "4931       1  53.0             1              0             1          1   \n",
              "3264       1  61.0             0              0             1          3   \n",
              "1653       0  44.0             0              0             1          3   \n",
              "2607       0  21.0             0              0             0          3   \n",
              "2732       1  58.0             1              0             1          1   \n",
              "\n",
              "      Residence_type  avg_glucose_level   bmi  smoking_status  \n",
              "2954               2              70.54  23.5               3  \n",
              "1933               2              91.25  36.0               3  \n",
              "4311               1             205.78  41.7               0  \n",
              "2365               2             216.96  34.5               3  \n",
              "927                2              86.05  23.0               3  \n",
              "...              ...                ...   ...             ...  \n",
              "4931               1              98.61  38.8               2  \n",
              "3264               1              72.01  26.0               1  \n",
              "1653               1              94.71  28.4               2  \n",
              "2607               2             120.94  29.7               1  \n",
              "2732               1              59.52  33.2               0  \n",
              "\n",
              "[3832 rows x 10 columns]"
            ],
            "text/html": [
              "\n",
              "  <div id=\"df-e4298840-4e30-471b-ba11-a97e5fd2d209\">\n",
              "    <div class=\"colab-df-container\">\n",
              "      <div>\n",
              "<style scoped>\n",
              "    .dataframe tbody tr th:only-of-type {\n",
              "        vertical-align: middle;\n",
              "    }\n",
              "\n",
              "    .dataframe tbody tr th {\n",
              "        vertical-align: top;\n",
              "    }\n",
              "\n",
              "    .dataframe thead th {\n",
              "        text-align: right;\n",
              "    }\n",
              "</style>\n",
              "<table border=\"1\" class=\"dataframe\">\n",
              "  <thead>\n",
              "    <tr style=\"text-align: right;\">\n",
              "      <th></th>\n",
              "      <th>gender</th>\n",
              "      <th>age</th>\n",
              "      <th>hypertension</th>\n",
              "      <th>heart_disease</th>\n",
              "      <th>ever_married</th>\n",
              "      <th>work_type</th>\n",
              "      <th>Residence_type</th>\n",
              "      <th>avg_glucose_level</th>\n",
              "      <th>bmi</th>\n",
              "      <th>smoking_status</th>\n",
              "    </tr>\n",
              "  </thead>\n",
              "  <tbody>\n",
              "    <tr>\n",
              "      <th>2954</th>\n",
              "      <td>1</td>\n",
              "      <td>18.0</td>\n",
              "      <td>0</td>\n",
              "      <td>0</td>\n",
              "      <td>0</td>\n",
              "      <td>3</td>\n",
              "      <td>2</td>\n",
              "      <td>70.54</td>\n",
              "      <td>23.5</td>\n",
              "      <td>3</td>\n",
              "    </tr>\n",
              "    <tr>\n",
              "      <th>1933</th>\n",
              "      <td>1</td>\n",
              "      <td>70.0</td>\n",
              "      <td>0</td>\n",
              "      <td>0</td>\n",
              "      <td>1</td>\n",
              "      <td>3</td>\n",
              "      <td>2</td>\n",
              "      <td>91.25</td>\n",
              "      <td>36.0</td>\n",
              "      <td>3</td>\n",
              "    </tr>\n",
              "    <tr>\n",
              "      <th>4311</th>\n",
              "      <td>1</td>\n",
              "      <td>65.0</td>\n",
              "      <td>0</td>\n",
              "      <td>0</td>\n",
              "      <td>1</td>\n",
              "      <td>3</td>\n",
              "      <td>1</td>\n",
              "      <td>205.78</td>\n",
              "      <td>41.7</td>\n",
              "      <td>0</td>\n",
              "    </tr>\n",
              "    <tr>\n",
              "      <th>2365</th>\n",
              "      <td>1</td>\n",
              "      <td>36.0</td>\n",
              "      <td>0</td>\n",
              "      <td>0</td>\n",
              "      <td>0</td>\n",
              "      <td>3</td>\n",
              "      <td>2</td>\n",
              "      <td>216.96</td>\n",
              "      <td>34.5</td>\n",
              "      <td>3</td>\n",
              "    </tr>\n",
              "    <tr>\n",
              "      <th>927</th>\n",
              "      <td>0</td>\n",
              "      <td>64.0</td>\n",
              "      <td>0</td>\n",
              "      <td>0</td>\n",
              "      <td>1</td>\n",
              "      <td>3</td>\n",
              "      <td>2</td>\n",
              "      <td>86.05</td>\n",
              "      <td>23.0</td>\n",
              "      <td>3</td>\n",
              "    </tr>\n",
              "    <tr>\n",
              "      <th>...</th>\n",
              "      <td>...</td>\n",
              "      <td>...</td>\n",
              "      <td>...</td>\n",
              "      <td>...</td>\n",
              "      <td>...</td>\n",
              "      <td>...</td>\n",
              "      <td>...</td>\n",
              "      <td>...</td>\n",
              "      <td>...</td>\n",
              "      <td>...</td>\n",
              "    </tr>\n",
              "    <tr>\n",
              "      <th>4931</th>\n",
              "      <td>1</td>\n",
              "      <td>53.0</td>\n",
              "      <td>1</td>\n",
              "      <td>0</td>\n",
              "      <td>1</td>\n",
              "      <td>1</td>\n",
              "      <td>1</td>\n",
              "      <td>98.61</td>\n",
              "      <td>38.8</td>\n",
              "      <td>2</td>\n",
              "    </tr>\n",
              "    <tr>\n",
              "      <th>3264</th>\n",
              "      <td>1</td>\n",
              "      <td>61.0</td>\n",
              "      <td>0</td>\n",
              "      <td>0</td>\n",
              "      <td>1</td>\n",
              "      <td>3</td>\n",
              "      <td>1</td>\n",
              "      <td>72.01</td>\n",
              "      <td>26.0</td>\n",
              "      <td>1</td>\n",
              "    </tr>\n",
              "    <tr>\n",
              "      <th>1653</th>\n",
              "      <td>0</td>\n",
              "      <td>44.0</td>\n",
              "      <td>0</td>\n",
              "      <td>0</td>\n",
              "      <td>1</td>\n",
              "      <td>3</td>\n",
              "      <td>1</td>\n",
              "      <td>94.71</td>\n",
              "      <td>28.4</td>\n",
              "      <td>2</td>\n",
              "    </tr>\n",
              "    <tr>\n",
              "      <th>2607</th>\n",
              "      <td>0</td>\n",
              "      <td>21.0</td>\n",
              "      <td>0</td>\n",
              "      <td>0</td>\n",
              "      <td>0</td>\n",
              "      <td>3</td>\n",
              "      <td>2</td>\n",
              "      <td>120.94</td>\n",
              "      <td>29.7</td>\n",
              "      <td>1</td>\n",
              "    </tr>\n",
              "    <tr>\n",
              "      <th>2732</th>\n",
              "      <td>1</td>\n",
              "      <td>58.0</td>\n",
              "      <td>1</td>\n",
              "      <td>0</td>\n",
              "      <td>1</td>\n",
              "      <td>1</td>\n",
              "      <td>1</td>\n",
              "      <td>59.52</td>\n",
              "      <td>33.2</td>\n",
              "      <td>0</td>\n",
              "    </tr>\n",
              "  </tbody>\n",
              "</table>\n",
              "<p>3832 rows × 10 columns</p>\n",
              "</div>\n",
              "      <button class=\"colab-df-convert\" onclick=\"convertToInteractive('df-e4298840-4e30-471b-ba11-a97e5fd2d209')\"\n",
              "              title=\"Convert this dataframe to an interactive table.\"\n",
              "              style=\"display:none;\">\n",
              "        \n",
              "  <svg xmlns=\"http://www.w3.org/2000/svg\" height=\"24px\"viewBox=\"0 0 24 24\"\n",
              "       width=\"24px\">\n",
              "    <path d=\"M0 0h24v24H0V0z\" fill=\"none\"/>\n",
              "    <path d=\"M18.56 5.44l.94 2.06.94-2.06 2.06-.94-2.06-.94-.94-2.06-.94 2.06-2.06.94zm-11 1L8.5 8.5l.94-2.06 2.06-.94-2.06-.94L8.5 2.5l-.94 2.06-2.06.94zm10 10l.94 2.06.94-2.06 2.06-.94-2.06-.94-.94-2.06-.94 2.06-2.06.94z\"/><path d=\"M17.41 7.96l-1.37-1.37c-.4-.4-.92-.59-1.43-.59-.52 0-1.04.2-1.43.59L10.3 9.45l-7.72 7.72c-.78.78-.78 2.05 0 2.83L4 21.41c.39.39.9.59 1.41.59.51 0 1.02-.2 1.41-.59l7.78-7.78 2.81-2.81c.8-.78.8-2.07 0-2.86zM5.41 20L4 18.59l7.72-7.72 1.47 1.35L5.41 20z\"/>\n",
              "  </svg>\n",
              "      </button>\n",
              "      \n",
              "  <style>\n",
              "    .colab-df-container {\n",
              "      display:flex;\n",
              "      flex-wrap:wrap;\n",
              "      gap: 12px;\n",
              "    }\n",
              "\n",
              "    .colab-df-convert {\n",
              "      background-color: #E8F0FE;\n",
              "      border: none;\n",
              "      border-radius: 50%;\n",
              "      cursor: pointer;\n",
              "      display: none;\n",
              "      fill: #1967D2;\n",
              "      height: 32px;\n",
              "      padding: 0 0 0 0;\n",
              "      width: 32px;\n",
              "    }\n",
              "\n",
              "    .colab-df-convert:hover {\n",
              "      background-color: #E2EBFA;\n",
              "      box-shadow: 0px 1px 2px rgba(60, 64, 67, 0.3), 0px 1px 3px 1px rgba(60, 64, 67, 0.15);\n",
              "      fill: #174EA6;\n",
              "    }\n",
              "\n",
              "    [theme=dark] .colab-df-convert {\n",
              "      background-color: #3B4455;\n",
              "      fill: #D2E3FC;\n",
              "    }\n",
              "\n",
              "    [theme=dark] .colab-df-convert:hover {\n",
              "      background-color: #434B5C;\n",
              "      box-shadow: 0px 1px 3px 1px rgba(0, 0, 0, 0.15);\n",
              "      filter: drop-shadow(0px 1px 2px rgba(0, 0, 0, 0.3));\n",
              "      fill: #FFFFFF;\n",
              "    }\n",
              "  </style>\n",
              "\n",
              "      <script>\n",
              "        const buttonEl =\n",
              "          document.querySelector('#df-e4298840-4e30-471b-ba11-a97e5fd2d209 button.colab-df-convert');\n",
              "        buttonEl.style.display =\n",
              "          google.colab.kernel.accessAllowed ? 'block' : 'none';\n",
              "\n",
              "        async function convertToInteractive(key) {\n",
              "          const element = document.querySelector('#df-e4298840-4e30-471b-ba11-a97e5fd2d209');\n",
              "          const dataTable =\n",
              "            await google.colab.kernel.invokeFunction('convertToInteractive',\n",
              "                                                     [key], {});\n",
              "          if (!dataTable) return;\n",
              "\n",
              "          const docLinkHtml = 'Like what you see? Visit the ' +\n",
              "            '<a target=\"_blank\" href=https://colab.research.google.com/notebooks/data_table.ipynb>data table notebook</a>'\n",
              "            + ' to learn more about interactive tables.';\n",
              "          element.innerHTML = '';\n",
              "          dataTable['output_type'] = 'display_data';\n",
              "          await google.colab.output.renderOutput(dataTable, element);\n",
              "          const docLink = document.createElement('div');\n",
              "          docLink.innerHTML = docLinkHtml;\n",
              "          element.appendChild(docLink);\n",
              "        }\n",
              "      </script>\n",
              "    </div>\n",
              "  </div>\n",
              "  "
            ]
          },
          "metadata": {},
          "execution_count": 119
        }
      ]
    },
    {
      "cell_type": "markdown",
      "source": [],
      "metadata": {
        "id": "6gk6tzkuVEYH"
      }
    },
    {
      "cell_type": "code",
      "source": [
        "df = pd.read_csv('/content/sample_data/stroke.csv')\n",
        "df.isna().sum()"
      ],
      "metadata": {
        "colab": {
          "base_uri": "https://localhost:8080/"
        },
        "id": "HoYkZ9vrVEnZ",
        "outputId": "0fc12348-a003-425a-9017-b4b61fdd052e"
      },
      "execution_count": 120,
      "outputs": [
        {
          "output_type": "execute_result",
          "data": {
            "text/plain": [
              "id                     0\n",
              "gender                 0\n",
              "age                    0\n",
              "hypertension           0\n",
              "heart_disease          0\n",
              "ever_married           0\n",
              "work_type              0\n",
              "Residence_type         0\n",
              "avg_glucose_level      0\n",
              "bmi                  201\n",
              "smoking_status         0\n",
              "stroke                 0\n",
              "dtype: int64"
            ]
          },
          "metadata": {},
          "execution_count": 120
        }
      ]
    },
    {
      "cell_type": "markdown",
      "source": [
        "#Target class distribution#"
      ],
      "metadata": {
        "id": "sCpEs5DYVHuy"
      }
    },
    {
      "cell_type": "code",
      "source": [
        "target = df['stroke']\n",
        "target.value_counts()"
      ],
      "metadata": {
        "colab": {
          "base_uri": "https://localhost:8080/"
        },
        "id": "n4xLMMVhVIeo",
        "outputId": "b9645182-bf65-46f3-8c0d-31eaccf41e64"
      },
      "execution_count": 121,
      "outputs": [
        {
          "output_type": "execute_result",
          "data": {
            "text/plain": [
              "0    4861\n",
              "1     249\n",
              "Name: stroke, dtype: int64"
            ]
          },
          "metadata": {},
          "execution_count": 121
        }
      ]
    },
    {
      "cell_type": "markdown",
      "source": [
        "#Define and train the models #"
      ],
      "metadata": {
        "id": "P9TETG-eVKRR"
      }
    },
    {
      "cell_type": "markdown",
      "source": [
        "Random Forest Classifier"
      ],
      "metadata": {
        "id": "NOeBQU_MVOTp"
      }
    },
    {
      "cell_type": "code",
      "source": [
        "model_rf = RandomForestClassifier(n_estimators=100)\n",
        "model_rf.fit(X_train,np.ravel(y_train))"
      ],
      "metadata": {
        "colab": {
          "base_uri": "https://localhost:8080/"
        },
        "id": "4TnoWzA5VR3F",
        "outputId": "0d0e802b-e87f-4555-c680-baf7f891e3b1"
      },
      "execution_count": 122,
      "outputs": [
        {
          "output_type": "execute_result",
          "data": {
            "text/plain": [
              "RandomForestClassifier()"
            ]
          },
          "metadata": {},
          "execution_count": 122
        }
      ]
    },
    {
      "cell_type": "code",
      "source": [
        "inputs = pd.DataFrame(X_test)\n",
        "prediction_RandomForestClassifier = model_rf.predict(\n",
        "    inputs\n",
        ")\n",
        "accuracy_RandomForestClassifier = accuracy_score(y_test,prediction_RandomForestClassifier)\n",
        "print(f\"Accuracy score of RandomForestClassifier = {accuracy_RandomForestClassifier}\")\n",
        "\n",
        "precision_RandomForestClassifier = precision_score(y_test,prediction_RandomForestClassifier,average='weighted')\n",
        "print(f\"Precision score of RandomForestClassifier = {precision_RandomForestClassifier}\")"
      ],
      "metadata": {
        "colab": {
          "base_uri": "https://localhost:8080/"
        },
        "id": "iqkvOdBuVZDu",
        "outputId": "f083db1c-f3bb-4cd6-caa9-c9434b6cf196"
      },
      "execution_count": 123,
      "outputs": [
        {
          "output_type": "stream",
          "name": "stdout",
          "text": [
            "Accuracy score of RandomForestClassifier = 0.9475743348982786\n",
            "Precision score of RandomForestClassifier = 0.9007897086454639\n"
          ]
        }
      ]
    },
    {
      "cell_type": "markdown",
      "source": [
        "Extremely Randomized Trees"
      ],
      "metadata": {
        "id": "6NHwl1S7VfTC"
      }
    },
    {
      "cell_type": "code",
      "source": [
        "model_ExtraTreesClassifier = ExtraTreesClassifier(n_estimators=100)\n",
        "model_ExtraTreesClassifier.fit(\n",
        "    X_train,\n",
        "    np.ravel(y_train)\n",
        ")"
      ],
      "metadata": {
        "colab": {
          "base_uri": "https://localhost:8080/"
        },
        "id": "tXdeBFuXVhDs",
        "outputId": "4686820d-df7a-455a-b25a-1bb3fb0c2f1f"
      },
      "execution_count": 124,
      "outputs": [
        {
          "output_type": "execute_result",
          "data": {
            "text/plain": [
              "ExtraTreesClassifier()"
            ]
          },
          "metadata": {},
          "execution_count": 124
        }
      ]
    },
    {
      "cell_type": "code",
      "source": [
        "inputs = pd.DataFrame(X_test)\n",
        "prediction_ExtraTreesClassifier = model_ExtraTreesClassifier.predict(\n",
        "    inputs\n",
        ")\n",
        "accuracy_ExtraTreesClassifier = accuracy_score(y_test,prediction_ExtraTreesClassifier)\n",
        "print(f\"Accuracy score of ExtraTreesClassifier = {accuracy_ExtraTreesClassifier}\")\n",
        "\n",
        "precision_ExtraTreesClassifier = precision_score(y_test,prediction_ExtraTreesClassifier,average='weighted')\n",
        "print(f\"Precision score of ExtraTreesClassifier = {precision_ExtraTreesClassifier}\")"
      ],
      "metadata": {
        "colab": {
          "base_uri": "https://localhost:8080/"
        },
        "id": "prDJH8oYVjF1",
        "outputId": "5a5a5d02-1d1e-46cf-8a4a-096c66041edc"
      },
      "execution_count": 125,
      "outputs": [
        {
          "output_type": "stream",
          "name": "stdout",
          "text": [
            "Accuracy score of ExtraTreesClassifier = 0.9428794992175273\n",
            "Precision score of ExtraTreesClassifier = 0.9103840172860932\n"
          ]
        }
      ]
    },
    {
      "cell_type": "markdown",
      "source": [
        "Summary - Stroke dataset"
      ],
      "metadata": {
        "id": "HzwCCT9PVlD6"
      }
    },
    {
      "cell_type": "code",
      "source": [
        "print(tabulate([[\"Accuracy\",accuracy_RandomForestClassifier,accuracy_ExtraTreesClassifier],[\"Precision\",precision_RandomForestClassifier,precision_ExtraTreesClassifier]], headers=[\"Metric\\Model\",\"RandomForestClassifier\",\"ExtraTreesClassifier\"], tablefmt=\"grid\"))"
      ],
      "metadata": {
        "colab": {
          "base_uri": "https://localhost:8080/"
        },
        "id": "mdnMOcwlVl3n",
        "outputId": "04d52e04-0960-4c7b-b47b-ad590e3dca8f"
      },
      "execution_count": 126,
      "outputs": [
        {
          "output_type": "stream",
          "name": "stdout",
          "text": [
            "+----------------+--------------------------+------------------------+\n",
            "| Metric\\Model   |   RandomForestClassifier |   ExtraTreesClassifier |\n",
            "+================+==========================+========================+\n",
            "| Accuracy       |                 0.947574 |               0.942879 |\n",
            "+----------------+--------------------------+------------------------+\n",
            "| Precision      |                 0.90079  |               0.910384 |\n",
            "+----------------+--------------------------+------------------------+\n"
          ]
        }
      ]
    },
    {
      "cell_type": "code",
      "source": [],
      "metadata": {
        "id": "yQCk-2jS7AU9"
      },
      "execution_count": 126,
      "outputs": []
    },
    {
      "cell_type": "code",
      "source": [
        "# i=0\n",
        "# print(len(model_rf.estimators_))\n",
        "# for t in model_rf.estimators_:\n",
        "#   if i%2==0:\n",
        "#     model_rf.estimators_.remove(t)\n",
        "#   i+=0\n",
        "# print(\"DHODI\")\n",
        "# print(len(model_rf.estimators_))"
      ],
      "metadata": {
        "id": "S6ataMaQ7An7"
      },
      "execution_count": 127,
      "outputs": []
    },
    {
      "cell_type": "code",
      "source": [
        "a = [5, 7, 11, 4, 5]\n",
        "for i in range(1,len(a)):\n",
        "  for previous, current in zip(a, a[i:]):\n",
        "      print(previous, current)"
      ],
      "metadata": {
        "colab": {
          "base_uri": "https://localhost:8080/"
        },
        "id": "EgBsUGxXDJjM",
        "outputId": "3a3fa24d-a04e-47b9-a493-5b2f85febc43"
      },
      "execution_count": 128,
      "outputs": [
        {
          "output_type": "stream",
          "name": "stdout",
          "text": [
            "5 7\n",
            "7 11\n",
            "11 4\n",
            "4 5\n",
            "5 11\n",
            "7 4\n",
            "11 5\n",
            "5 4\n",
            "7 5\n",
            "5 5\n"
          ]
        }
      ]
    },
    {
      "cell_type": "code",
      "source": [
        "def kohavi_wolpert(s,m):\n",
        "  '''\n",
        "  s - the original training set tuple of (X_train,y_train) --> ((dataframe),((dataframe))\n",
        "  s[0] = x train\n",
        "  s[1] = y train\n",
        "  m - list of classifiers examined\n",
        "  '''\n",
        "  x = s[0]\n",
        "  y=s[1]\n",
        "  predictions =[]\n",
        "  sum =0\n",
        "  # For each classifier, insert all its predictions (depending on the index of x) into the list .\n",
        "  for classifier in m:\n",
        "    preds = classifier.predict(x.values)\n",
        "    predictions.append(preds)\n",
        "  # Run through all the records in the training set and for each record : count the number of classifiers that made an incorrect classification(misclassified)\n",
        "  l_i=0\n",
        "  for (index_x, x_i),(index_y, y_i),pred_index in zip(x.iterrows(),y.iterrows(),range(len(predictions[0]))):\n",
        "    l_i=0\n",
        "    for model_i_prediction in predictions:\n",
        "      # l_i = number of classifiers misclassified x_i,y_i\n",
        "      if model_i_prediction[pred_index] != y_i.values:\n",
        "        l_i+=1\n",
        "      #end sum all misclassification for x_i,y_i\n",
        "    #sum = sum + l_i * (len(m) - l_i)\n",
        "    sum = sum + ( l_i * ( len(m)-l_i ) ) \n",
        "  print(f\"sum/(len(x)*(len(m)**2)) : {sum/(len(x)*(len(m)**2))}\")\n",
        "  return (sum) / ( len(y) * (len(m)**2) )\n",
        "\n"
      ],
      "metadata": {
        "id": "kvjonnmigPc2"
      },
      "execution_count": 129,
      "outputs": []
    },
    {
      "cell_type": "code",
      "source": [
        "kohavi_wolpert((X_train,y_train),model_rf.estimators_)"
      ],
      "metadata": {
        "colab": {
          "base_uri": "https://localhost:8080/"
        },
        "id": "NrmCwJJNEVlo",
        "outputId": "e7ea9432-70c4-4886-a95b-2cd294db01f6"
      },
      "execution_count": 130,
      "outputs": [
        {
          "output_type": "stream",
          "name": "stdout",
          "text": [
            "sum/(len(x)*(len(m)**2)) : 0.02571260438413361\n"
          ]
        },
        {
          "output_type": "execute_result",
          "data": {
            "text/plain": [
              "0.02571260438413361"
            ]
          },
          "metadata": {},
          "execution_count": 130
        }
      ]
    },
    {
      "cell_type": "code",
      "source": [
        "def inter_rater_measure(s,m):\n",
        "  '''\n",
        "  s - the original training set tuple of (X_train,y_train) --> ((dataframe),((dataframe))\n",
        "  s[0] = x train\n",
        "  s[1] = y train\n",
        "  m - list of classifiers examined\n",
        "  '''\n",
        "  x = s[0]\n",
        "  y=s[1]\n",
        "  predictions =[]\n",
        "  sum =0\n",
        "  # For each classifier, insert all its predictions (depending on the index of x) into the list .\n",
        "  for classifier in m:\n",
        "    preds = classifier.predict(x.values)\n",
        "    predictions.append(preds)\n",
        "  # Run through all the records in the training set and for each record : count the number of classifiers that made an incorrect classification(misclassified)\n",
        "  l=[]\n",
        "  for (index_x, x_i),(index_y, y_i),pred_index in zip(x.iterrows(),y.iterrows(),range(len(predictions[0]))):\n",
        "    l_i=0\n",
        "    for model_i_prediction in predictions:\n",
        "      # l_i = number of classifiers misclassified x_i,y_i\n",
        "      if model_i_prediction[pred_index] != y_i.values:\n",
        "        l_i+=1\n",
        "      #end sum all misclassification for x_i,y_i\n",
        "    l.append(l_i)\n",
        "    #sum = sum + l_i * (len(m) - l_i)\n",
        "    sum = sum + ( l_i * ( len(m) - l_i) )\n",
        "  # p = 1 - ( sum(l) / (|s| *|m|) )\n",
        "  sum_l=0\n",
        "  for val in l:\n",
        "    sum_l+=val\n",
        "  p = 1 - ( sum_l / (len(x)*len(m)) )\n",
        "  result = 1 - (sum / ( len(x)*len(m)*(len(m)-1)*p*(1-p)  ) )\n",
        "  return result"
      ],
      "metadata": {
        "id": "lDomh8_ZAsGZ"
      },
      "execution_count": 131,
      "outputs": []
    },
    {
      "cell_type": "code",
      "source": [
        "inter_rater_measure((X_train,y_train),model_rf.estimators_)"
      ],
      "metadata": {
        "colab": {
          "base_uri": "https://localhost:8080/"
        },
        "id": "Nrxuh2tyEXbl",
        "outputId": "85a77041-4b70-459f-ac28-04667664aad8"
      },
      "execution_count": 132,
      "outputs": [
        {
          "output_type": "execute_result",
          "data": {
            "text/plain": [
              "0.1586541795069698"
            ]
          },
          "metadata": {},
          "execution_count": 132
        }
      ]
    },
    {
      "cell_type": "code",
      "source": [
        "import statistics\n",
        "def deneral_diversity(s,m):\n",
        "  '''\n",
        "  s - the original training set tuple of (X_train,y_train) --> ((dataframe),((dataframe))\n",
        "  s[0] = x train\n",
        "  s[1] = y train\n",
        "  m - list of classifiers examined\n",
        "  '''\n",
        "  x = s[0]\n",
        "  y=s[1]\n",
        "  predictions =[]\n",
        "  # For each classifier, insert all its predictions (depending on the index of x) into the list .\n",
        "  for classifier in m:\n",
        "    preds = classifier.predict(x.values)\n",
        "    predictions.append(preds)\n",
        "  # Run through all the records in the training set and for each record : count the number of classifiers that made an incorrect classification(misclassified)\n",
        "  v=[]\n",
        "  for (index_x, x_i),(index_y, y_i),pred_index in zip(x.iterrows(),y.iterrows(),range(len(predictions[0]))):\n",
        "    l_i=0\n",
        "    for model_i_prediction in predictions:\n",
        "      # l_i = number of classifiers misclassified x_i,y_i\n",
        "      if model_i_prediction[pred_index] != y_i.values:\n",
        "        l_i+=1\n",
        "      #end sum all misclassification for x_i,y_i\n",
        "    v_i= (len(m)-l_i) / len(m)\n",
        "    v.append(v_i)\n",
        "  # end of run through all the records in the training set and for each record : count the number of classifiers that made an incorrect classification(misclassified)\n",
        "  # compute variance of v using statistics.variance\n",
        "  variance_v = statistics.variance(v)\n",
        "  return variance_v"
      ],
      "metadata": {
        "id": "kLdr3cbVEU7l"
      },
      "execution_count": 133,
      "outputs": []
    },
    {
      "cell_type": "code",
      "source": [
        "deneral_diversity((X_train,y_train),model_rf.estimators_)"
      ],
      "metadata": {
        "colab": {
          "base_uri": "https://localhost:8080/"
        },
        "id": "khZ3mQ3GwFyQ",
        "outputId": "45f6ffe2-18ec-4843-c021-90079ea8dd71"
      },
      "execution_count": 134,
      "outputs": [
        {
          "output_type": "execute_result",
          "data": {
            "text/plain": [
              "0.005158720659502825"
            ]
          },
          "metadata": {},
          "execution_count": 134
        }
      ]
    },
    {
      "cell_type": "code",
      "source": [],
      "metadata": {
        "id": "AEwwUpPNAssg"
      },
      "execution_count": 134,
      "outputs": []
    }
  ]
}